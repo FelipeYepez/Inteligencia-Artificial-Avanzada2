{
  "cells": [
    {
      "cell_type": "markdown",
      "id": "44509e0a",
      "metadata": {
        "id": "44509e0a"
      },
      "source": [
        "![Python_logo](https://www.python.org/static/community_logos/python-logo-master-v3-TM.png)\n",
        "\n",
        "\n",
        "   # **Cortex Game: Round1--Amount**"
      ]
    },
    {
      "cell_type": "markdown",
      "id": "e6bf1264-7b5f-4f0e-a622-c308e40cb8be",
      "metadata": {
        "id": "e6bf1264-7b5f-4f0e-a622-c308e40cb8be"
      },
      "source": [
        "> Before playing the game, you need to connect to SASPy first.\n",
        ">\n",
        ">> If it is your first time, please follow the 4 steps mentioned below!"
      ]
    },
    {
      "cell_type": "markdown",
      "id": "d1a48e10-b624-4430-9cd1-25869d600d71",
      "metadata": {
        "id": "d1a48e10-b624-4430-9cd1-25869d600d71"
      },
      "source": [
        "***\n",
        "## **Connect to SASPy**"
      ]
    },
    {
      "cell_type": "markdown",
      "source": [
        "**0- Connect to your Google Drive folder**"
      ],
      "metadata": {
        "id": "wgW_D1kOY6d6"
      },
      "id": "wgW_D1kOY6d6"
    },
    {
      "cell_type": "code",
      "source": [
        "my_folder = \"/content/drive/MyDrive/CortexSAS\"\n",
        "\n",
        "from google.colab import drive\n",
        "drive.mount('/content/drive')\n",
        "\n",
        "# Change the following code to set your Drive folder\n",
        "import os\n",
        "os.chdir(my_folder)\n",
        "!pwd"
      ],
      "metadata": {
        "colab": {
          "base_uri": "https://localhost:8080/"
        },
        "id": "EqAV8e1WY45k",
        "outputId": "80f43863-9233-43fb-b81a-a99b0bc952d1"
      },
      "id": "EqAV8e1WY45k",
      "execution_count": null,
      "outputs": [
        {
          "output_type": "stream",
          "name": "stdout",
          "text": [
            "Drive already mounted at /content/drive; to attempt to forcibly remount, call drive.mount(\"/content/drive\", force_remount=True).\n",
            "/content/drive/MyDrive/CortexSAS\n"
          ]
        }
      ]
    },
    {
      "cell_type": "markdown",
      "id": "ec889f32",
      "metadata": {
        "id": "ec889f32"
      },
      "source": [
        "**1- Make sure that your Python version is 3.3 or higher as well as your Java version is 1.8.0_162 or higher**"
      ]
    },
    {
      "cell_type": "code",
      "execution_count": null,
      "id": "6d369a1a",
      "metadata": {
        "collapsed": true,
        "colab": {
          "base_uri": "https://localhost:8080/"
        },
        "id": "6d369a1a",
        "outputId": "053a8361-535d-47ce-e6c4-0afae74dbbd8"
      },
      "outputs": [
        {
          "output_type": "stream",
          "name": "stdout",
          "text": [
            "Python is at /usr/local/bin/python\n",
            "Python 3.8.15\n"
          ]
        }
      ],
      "source": [
        "!echo \"Python is at\" $(which python)\n",
        "!python --version"
      ]
    },
    {
      "cell_type": "code",
      "source": [
        "!echo \"Java is at\" $(which java)\n",
        "!/usr/bin/java -version"
      ],
      "metadata": {
        "colab": {
          "base_uri": "https://localhost:8080/"
        },
        "id": "iNG5tchbZn5m",
        "outputId": "672524ce-a3e5-4d2a-ac98-51afe68bda02"
      },
      "id": "iNG5tchbZn5m",
      "execution_count": null,
      "outputs": [
        {
          "output_type": "stream",
          "name": "stdout",
          "text": [
            "Java is at /usr/bin/java\n",
            "openjdk version \"11.0.17\" 2022-10-18\n",
            "OpenJDK Runtime Environment (build 11.0.17+8-post-Ubuntu-1ubuntu218.04)\n",
            "OpenJDK 64-Bit Server VM (build 11.0.17+8-post-Ubuntu-1ubuntu218.04, mixed mode, sharing)\n"
          ]
        }
      ]
    },
    {
      "cell_type": "markdown",
      "id": "10e73c6f",
      "metadata": {
        "id": "10e73c6f"
      },
      "source": [
        "**2- Install SASPy**"
      ]
    },
    {
      "cell_type": "code",
      "execution_count": null,
      "id": "1c053af0",
      "metadata": {
        "collapsed": true,
        "colab": {
          "base_uri": "https://localhost:8080/"
        },
        "id": "1c053af0",
        "outputId": "1aa1512f-4773-4625-92a6-45f2b58e80a5"
      },
      "outputs": [
        {
          "output_type": "stream",
          "name": "stdout",
          "text": [
            "Looking in indexes: https://pypi.org/simple, https://us-python.pkg.dev/colab-wheels/public/simple/\n",
            "Requirement already satisfied: saspy in /usr/local/lib/python3.8/dist-packages (4.4.1)\n"
          ]
        }
      ],
      "source": [
        "!pip install saspy"
      ]
    },
    {
      "cell_type": "markdown",
      "id": "9fb501a5",
      "metadata": {
        "id": "9fb501a5"
      },
      "source": [
        "**3- Create the configuration file \"sascfg_personal.py\"**\n",
        "Please, check that your Home Region is correct, you can check it at [ODA-SAS](https://welcome.oda.sas.com/home)"
      ]
    },
    {
      "cell_type": "code",
      "execution_count": null,
      "id": "c1a441c5-17c6-4818-841a-b87cf9a864f8",
      "metadata": {
        "collapsed": true,
        "tags": [],
        "colab": {
          "base_uri": "https://localhost:8080/"
        },
        "id": "c1a441c5-17c6-4818-841a-b87cf9a864f8",
        "outputId": "7a6621e2-9662-4263-d03c-12e499968671"
      },
      "outputs": [
        {
          "output_type": "stream",
          "name": "stdout",
          "text": [
            "Overwriting sascfg_personal.py\n"
          ]
        }
      ],
      "source": [
        "%%writefile sascfg_personal.py\n",
        "SAS_config_names=['oda']\n",
        "oda = {'java' : '/usr/bin/java',\n",
        "#US Home Region 1\n",
        "'iomhost' : ['odaws01-usw2.oda.sas.com','odaws02-usw2.oda.sas.com','odaws03-usw2.oda.sas.com','odaws04-usw2.oda.sas.com'],\n",
        "#US Home Region 2\n",
        "#'iomhost' : ['odaws01-usw2-2.oda.sas.com','odaws02-usw2-2.oda.sas.com'],\n",
        "#European Home Region 1\n",
        "#'iomhost' : ['odaws01-euw1.oda.sas.com','odaws02-euw1.oda.sas.com'],\n",
        "#Asia Pacific Home Region 1\n",
        "#'iomhost' : ['odaws01-apse1.oda.sas.com','odaws02-apse1.oda.sas.com'],\n",
        "#Asia Pacific Home Region 2\n",
        "#'iomhost' : ['odaws01-apse1-2.oda.sas.com','odaws02-apse1-2.oda.sas.com'],\n",
        "'iomport' : 8591,\n",
        "'authkey' : 'oda',\n",
        "'encoding' : 'utf-8'\n",
        "}"
      ]
    },
    {
      "cell_type": "markdown",
      "source": [
        "**4- Create your .authinfo**"
      ],
      "metadata": {
        "id": "nQ_YzHeRaWH8"
      },
      "id": "nQ_YzHeRaWH8"
    },
    {
      "cell_type": "markdown",
      "source": [
        "If there is no .authinfo file, you can create this"
      ],
      "metadata": {
        "id": "-RZAKpvL_eFC"
      },
      "id": "-RZAKpvL_eFC"
    },
    {
      "cell_type": "code",
      "source": [
        "#%%writefile .authinfo\n",
        "#oda user a01658002@tec.mx password PASSWORD"
      ],
      "metadata": {
        "id": "XZ4wlGJ2aT71"
      },
      "id": "XZ4wlGJ2aT71",
      "execution_count": null,
      "outputs": []
    },
    {
      "cell_type": "markdown",
      "source": [
        "Copy this file to home"
      ],
      "metadata": {
        "id": "001tNy2D_gA0"
      },
      "id": "001tNy2D_gA0"
    },
    {
      "cell_type": "code",
      "source": [
        "!cp .authinfo ~/.authinfo"
      ],
      "metadata": {
        "id": "KeduVWzNSoLr"
      },
      "id": "KeduVWzNSoLr",
      "execution_count": null,
      "outputs": []
    },
    {
      "cell_type": "markdown",
      "id": "11efebd8",
      "metadata": {
        "id": "11efebd8"
      },
      "source": [
        "**5- Establish Connection (Need to do this step each time you use SASPy)**"
      ]
    },
    {
      "cell_type": "code",
      "execution_count": null,
      "id": "413ecaba",
      "metadata": {
        "collapsed": true,
        "colab": {
          "base_uri": "https://localhost:8080/"
        },
        "id": "413ecaba",
        "outputId": "3a9343f1-f16e-4b81-dbff-d4292f07eb0c"
      },
      "outputs": [
        {
          "output_type": "stream",
          "name": "stdout",
          "text": [
            "Using SAS Config named: oda\n",
            "SAS Connection established. Subprocess id is 2546\n",
            "\n"
          ]
        },
        {
          "output_type": "execute_result",
          "data": {
            "text/plain": [
              "Access Method         = IOM\n",
              "SAS Config name       = oda\n",
              "SAS Config file       = /content/drive/MyDrive/CortexSAS/sascfg_personal.py\n",
              "WORK Path             = /saswork/SAS_work615E00006C70_odaws01-usw2.oda.sas.com/SAS_work9DB500006C70_odaws01-usw2.oda.sas.com/\n",
              "SAS Version           = 9.04.01M6P11072018\n",
              "SASPy Version         = 4.4.1\n",
              "Teach me SAS          = False\n",
              "Batch                 = False\n",
              "Results               = Pandas\n",
              "SAS Session Encoding  = utf-8\n",
              "Python Encoding value = utf-8\n",
              "SAS process Pid value = 27760\n"
            ]
          },
          "metadata": {},
          "execution_count": 8
        }
      ],
      "source": [
        "import saspy\n",
        "sas_session = saspy.SASsession(cfgfile=\"/content/drive/MyDrive/CortexSAS/sascfg_personal.py\")\n",
        "sas_session"
      ]
    },
    {
      "cell_type": "markdown",
      "id": "719fb2db-4238-4892-aab6-757f696ccd57",
      "metadata": {
        "id": "719fb2db-4238-4892-aab6-757f696ccd57"
      },
      "source": [
        "***\n",
        "## Connect to Cortex Data Sets"
      ]
    },
    {
      "cell_type": "markdown",
      "id": "a9e40645",
      "metadata": {
        "id": "a9e40645"
      },
      "source": [
        "Load Cortex datasets from SAS Studio"
      ]
    },
    {
      "cell_type": "code",
      "source": [
        "ps = sas_session.submit(\"\"\"\n",
        "    libname cortex '~/my_shared_file_links/u39842936/Cortex Data Sets';\n",
        "    \"\"\")\n",
        "print(ps[\"LOG\"])"
      ],
      "metadata": {
        "colab": {
          "base_uri": "https://localhost:8080/"
        },
        "id": "e0OUk4FSX32H",
        "outputId": "dbb882f0-29a5-4dc9-eced-7ed737c5063e"
      },
      "id": "e0OUk4FSX32H",
      "execution_count": null,
      "outputs": [
        {
          "output_type": "stream",
          "name": "stdout",
          "text": [
            "\n",
            "5                                                          The SAS System                      Friday, December  2, 2022 12:02:00 PM\n",
            "\n",
            "24         ods listing close;ods html5 (id=saspy_internal) file=_tomods1 options(bitmap_mode='inline') device=svg style=HTMLBlue;\n",
            "24       ! ods graphics on / outputfmt=png;\n",
            "25         \n",
            "26         \n",
            "27             libname cortex '~/my_shared_file_links/u39842936/Cortex Data Sets';\n",
            "28         \n",
            "29         \n",
            "30         \n",
            "31         ods html5 (id=saspy_internal) close;ods listing;\n",
            "32         \n",
            "\n",
            "6                                                          The SAS System                      Friday, December  2, 2022 12:02:00 PM\n",
            "\n",
            "33         \n"
          ]
        }
      ]
    },
    {
      "cell_type": "markdown",
      "source": [
        "For local Jupyter"
      ],
      "metadata": {
        "id": "CuFNXAEFYgyK"
      },
      "id": "CuFNXAEFYgyK"
    },
    {
      "cell_type": "code",
      "execution_count": null,
      "id": "5a99acdd",
      "metadata": {
        "collapsed": true,
        "id": "5a99acdd"
      },
      "outputs": [],
      "source": [
        "#%%SAS sas_session\n",
        "#libname cortex '~/my_shared_file_links/u39842936/Cortex Data Sets';"
      ]
    },
    {
      "cell_type": "markdown",
      "id": "907b9c04",
      "metadata": {
        "id": "907b9c04"
      },
      "source": [
        "## Transform cloud SAS dataset to Python dataframe (pandas)\n",
        "\n",
        "\n",
        "> **For reference**:\n",
        "\n",
        "> 1. [Pandas library](https://pandas.pydata.org/docs/user_guide/index.html)\n",
        "\n",
        "> 2. [sklearn.model_selection for data partition](https://scikit-learn.org/stable/modules/generated/sklearn.model_selection.train_test_split.html)\n"
      ]
    },
    {
      "cell_type": "code",
      "execution_count": null,
      "id": "9ee94088",
      "metadata": {
        "id": "9ee94088"
      },
      "outputs": [],
      "source": [
        "import pandas as pd\n",
        "\n",
        "data1 = sas_session.sasdata2dataframe(\n",
        "table='hist',\n",
        "libref='cortex'\n",
        ")\n",
        "\n",
        "data2 = sas_session.sasdata2dataframe(\n",
        "table='target_rd1',\n",
        "libref='cortex'\n",
        ")"
      ]
    },
    {
      "cell_type": "markdown",
      "id": "a776622a-bd69-46fe-a704-f84e750baae9",
      "metadata": {
        "id": "a776622a-bd69-46fe-a704-f84e750baae9"
      },
      "source": [
        "## Merge the Data"
      ]
    },
    {
      "cell_type": "code",
      "execution_count": null,
      "id": "ee3751bb-a1e1-4287-ad3a-625e9140302f",
      "metadata": {
        "collapsed": true,
        "id": "ee3751bb-a1e1-4287-ad3a-625e9140302f",
        "outputId": "fde4472b-8296-4ca5-f78e-77272b8394eb",
        "colab": {
          "base_uri": "https://localhost:8080/"
        }
      },
      "outputs": [
        {
          "output_type": "execute_result",
          "data": {
            "text/plain": [
              "               ID   LastName FirstName  Woman   Age    Salary  \\\n",
              "588648  2588649.0      SERRE    WALTER    0.0  21.0    4900.0   \n",
              "619634  2619635.0     CHICAS     JAMES    0.0  26.0  242600.0   \n",
              "655728  2655729.0     HESLER   FRANCES    1.0  32.0   83500.0   \n",
              "670843  2670844.0      TIGHE    NELSON    0.0  33.0   53700.0   \n",
              "299865  2299866.0  TARANTINO    MARTIN    0.0  70.0   26200.0   \n",
              "\n",
              "                   Education      City  SeniorList  NbActivities  ...  \\\n",
              "588648           High School      City         8.0           0.0  ...   \n",
              "619634           High School     Rural         0.0           0.0  ...   \n",
              "655728           High School  Downtown         9.0           0.0  ...   \n",
              "670843  University / College      City         7.0           1.0  ...   \n",
              "299865  University / College  Downtown         2.0           0.0  ...   \n",
              "\n",
              "        Recency  Frequency  Seniority  TotalGift  MinGift  MaxGift  \\\n",
              "588648      NaN        NaN        NaN        NaN      NaN      NaN   \n",
              "619634      NaN        NaN        NaN        NaN      NaN      NaN   \n",
              "655728      2.0        2.0        6.0      760.0     10.0    750.0   \n",
              "670843      NaN        NaN        NaN        NaN      NaN      NaN   \n",
              "299865      NaN        NaN        NaN        NaN      NaN      NaN   \n",
              "\n",
              "        GaveLastYear  AmtLastYear  GaveThisYear  AmtThisYear  \n",
              "588648           0.0          0.0           0.0          0.0  \n",
              "619634           1.0         50.0           0.0          0.0  \n",
              "655728           0.0          0.0           0.0          0.0  \n",
              "670843           0.0          0.0           0.0          0.0  \n",
              "299865           0.0          0.0           0.0          0.0  \n",
              "\n",
              "[5 rows x 21 columns]"
            ],
            "text/html": [
              "\n",
              "  <div id=\"df-a5092abf-0e9d-45f7-84e2-53e58533e790\">\n",
              "    <div class=\"colab-df-container\">\n",
              "      <div>\n",
              "<style scoped>\n",
              "    .dataframe tbody tr th:only-of-type {\n",
              "        vertical-align: middle;\n",
              "    }\n",
              "\n",
              "    .dataframe tbody tr th {\n",
              "        vertical-align: top;\n",
              "    }\n",
              "\n",
              "    .dataframe thead th {\n",
              "        text-align: right;\n",
              "    }\n",
              "</style>\n",
              "<table border=\"1\" class=\"dataframe\">\n",
              "  <thead>\n",
              "    <tr style=\"text-align: right;\">\n",
              "      <th></th>\n",
              "      <th>ID</th>\n",
              "      <th>LastName</th>\n",
              "      <th>FirstName</th>\n",
              "      <th>Woman</th>\n",
              "      <th>Age</th>\n",
              "      <th>Salary</th>\n",
              "      <th>Education</th>\n",
              "      <th>City</th>\n",
              "      <th>SeniorList</th>\n",
              "      <th>NbActivities</th>\n",
              "      <th>...</th>\n",
              "      <th>Recency</th>\n",
              "      <th>Frequency</th>\n",
              "      <th>Seniority</th>\n",
              "      <th>TotalGift</th>\n",
              "      <th>MinGift</th>\n",
              "      <th>MaxGift</th>\n",
              "      <th>GaveLastYear</th>\n",
              "      <th>AmtLastYear</th>\n",
              "      <th>GaveThisYear</th>\n",
              "      <th>AmtThisYear</th>\n",
              "    </tr>\n",
              "  </thead>\n",
              "  <tbody>\n",
              "    <tr>\n",
              "      <th>588648</th>\n",
              "      <td>2588649.0</td>\n",
              "      <td>SERRE</td>\n",
              "      <td>WALTER</td>\n",
              "      <td>0.0</td>\n",
              "      <td>21.0</td>\n",
              "      <td>4900.0</td>\n",
              "      <td>High School</td>\n",
              "      <td>City</td>\n",
              "      <td>8.0</td>\n",
              "      <td>0.0</td>\n",
              "      <td>...</td>\n",
              "      <td>NaN</td>\n",
              "      <td>NaN</td>\n",
              "      <td>NaN</td>\n",
              "      <td>NaN</td>\n",
              "      <td>NaN</td>\n",
              "      <td>NaN</td>\n",
              "      <td>0.0</td>\n",
              "      <td>0.0</td>\n",
              "      <td>0.0</td>\n",
              "      <td>0.0</td>\n",
              "    </tr>\n",
              "    <tr>\n",
              "      <th>619634</th>\n",
              "      <td>2619635.0</td>\n",
              "      <td>CHICAS</td>\n",
              "      <td>JAMES</td>\n",
              "      <td>0.0</td>\n",
              "      <td>26.0</td>\n",
              "      <td>242600.0</td>\n",
              "      <td>High School</td>\n",
              "      <td>Rural</td>\n",
              "      <td>0.0</td>\n",
              "      <td>0.0</td>\n",
              "      <td>...</td>\n",
              "      <td>NaN</td>\n",
              "      <td>NaN</td>\n",
              "      <td>NaN</td>\n",
              "      <td>NaN</td>\n",
              "      <td>NaN</td>\n",
              "      <td>NaN</td>\n",
              "      <td>1.0</td>\n",
              "      <td>50.0</td>\n",
              "      <td>0.0</td>\n",
              "      <td>0.0</td>\n",
              "    </tr>\n",
              "    <tr>\n",
              "      <th>655728</th>\n",
              "      <td>2655729.0</td>\n",
              "      <td>HESLER</td>\n",
              "      <td>FRANCES</td>\n",
              "      <td>1.0</td>\n",
              "      <td>32.0</td>\n",
              "      <td>83500.0</td>\n",
              "      <td>High School</td>\n",
              "      <td>Downtown</td>\n",
              "      <td>9.0</td>\n",
              "      <td>0.0</td>\n",
              "      <td>...</td>\n",
              "      <td>2.0</td>\n",
              "      <td>2.0</td>\n",
              "      <td>6.0</td>\n",
              "      <td>760.0</td>\n",
              "      <td>10.0</td>\n",
              "      <td>750.0</td>\n",
              "      <td>0.0</td>\n",
              "      <td>0.0</td>\n",
              "      <td>0.0</td>\n",
              "      <td>0.0</td>\n",
              "    </tr>\n",
              "    <tr>\n",
              "      <th>670843</th>\n",
              "      <td>2670844.0</td>\n",
              "      <td>TIGHE</td>\n",
              "      <td>NELSON</td>\n",
              "      <td>0.0</td>\n",
              "      <td>33.0</td>\n",
              "      <td>53700.0</td>\n",
              "      <td>University / College</td>\n",
              "      <td>City</td>\n",
              "      <td>7.0</td>\n",
              "      <td>1.0</td>\n",
              "      <td>...</td>\n",
              "      <td>NaN</td>\n",
              "      <td>NaN</td>\n",
              "      <td>NaN</td>\n",
              "      <td>NaN</td>\n",
              "      <td>NaN</td>\n",
              "      <td>NaN</td>\n",
              "      <td>0.0</td>\n",
              "      <td>0.0</td>\n",
              "      <td>0.0</td>\n",
              "      <td>0.0</td>\n",
              "    </tr>\n",
              "    <tr>\n",
              "      <th>299865</th>\n",
              "      <td>2299866.0</td>\n",
              "      <td>TARANTINO</td>\n",
              "      <td>MARTIN</td>\n",
              "      <td>0.0</td>\n",
              "      <td>70.0</td>\n",
              "      <td>26200.0</td>\n",
              "      <td>University / College</td>\n",
              "      <td>Downtown</td>\n",
              "      <td>2.0</td>\n",
              "      <td>0.0</td>\n",
              "      <td>...</td>\n",
              "      <td>NaN</td>\n",
              "      <td>NaN</td>\n",
              "      <td>NaN</td>\n",
              "      <td>NaN</td>\n",
              "      <td>NaN</td>\n",
              "      <td>NaN</td>\n",
              "      <td>0.0</td>\n",
              "      <td>0.0</td>\n",
              "      <td>0.0</td>\n",
              "      <td>0.0</td>\n",
              "    </tr>\n",
              "  </tbody>\n",
              "</table>\n",
              "<p>5 rows × 21 columns</p>\n",
              "</div>\n",
              "      <button class=\"colab-df-convert\" onclick=\"convertToInteractive('df-a5092abf-0e9d-45f7-84e2-53e58533e790')\"\n",
              "              title=\"Convert this dataframe to an interactive table.\"\n",
              "              style=\"display:none;\">\n",
              "        \n",
              "  <svg xmlns=\"http://www.w3.org/2000/svg\" height=\"24px\"viewBox=\"0 0 24 24\"\n",
              "       width=\"24px\">\n",
              "    <path d=\"M0 0h24v24H0V0z\" fill=\"none\"/>\n",
              "    <path d=\"M18.56 5.44l.94 2.06.94-2.06 2.06-.94-2.06-.94-.94-2.06-.94 2.06-2.06.94zm-11 1L8.5 8.5l.94-2.06 2.06-.94-2.06-.94L8.5 2.5l-.94 2.06-2.06.94zm10 10l.94 2.06.94-2.06 2.06-.94-2.06-.94-.94-2.06-.94 2.06-2.06.94z\"/><path d=\"M17.41 7.96l-1.37-1.37c-.4-.4-.92-.59-1.43-.59-.52 0-1.04.2-1.43.59L10.3 9.45l-7.72 7.72c-.78.78-.78 2.05 0 2.83L4 21.41c.39.39.9.59 1.41.59.51 0 1.02-.2 1.41-.59l7.78-7.78 2.81-2.81c.8-.78.8-2.07 0-2.86zM5.41 20L4 18.59l7.72-7.72 1.47 1.35L5.41 20z\"/>\n",
              "  </svg>\n",
              "      </button>\n",
              "      \n",
              "  <style>\n",
              "    .colab-df-container {\n",
              "      display:flex;\n",
              "      flex-wrap:wrap;\n",
              "      gap: 12px;\n",
              "    }\n",
              "\n",
              "    .colab-df-convert {\n",
              "      background-color: #E8F0FE;\n",
              "      border: none;\n",
              "      border-radius: 50%;\n",
              "      cursor: pointer;\n",
              "      display: none;\n",
              "      fill: #1967D2;\n",
              "      height: 32px;\n",
              "      padding: 0 0 0 0;\n",
              "      width: 32px;\n",
              "    }\n",
              "\n",
              "    .colab-df-convert:hover {\n",
              "      background-color: #E2EBFA;\n",
              "      box-shadow: 0px 1px 2px rgba(60, 64, 67, 0.3), 0px 1px 3px 1px rgba(60, 64, 67, 0.15);\n",
              "      fill: #174EA6;\n",
              "    }\n",
              "\n",
              "    [theme=dark] .colab-df-convert {\n",
              "      background-color: #3B4455;\n",
              "      fill: #D2E3FC;\n",
              "    }\n",
              "\n",
              "    [theme=dark] .colab-df-convert:hover {\n",
              "      background-color: #434B5C;\n",
              "      box-shadow: 0px 1px 3px 1px rgba(0, 0, 0, 0.15);\n",
              "      filter: drop-shadow(0px 1px 2px rgba(0, 0, 0, 0.3));\n",
              "      fill: #FFFFFF;\n",
              "    }\n",
              "  </style>\n",
              "\n",
              "      <script>\n",
              "        const buttonEl =\n",
              "          document.querySelector('#df-a5092abf-0e9d-45f7-84e2-53e58533e790 button.colab-df-convert');\n",
              "        buttonEl.style.display =\n",
              "          google.colab.kernel.accessAllowed ? 'block' : 'none';\n",
              "\n",
              "        async function convertToInteractive(key) {\n",
              "          const element = document.querySelector('#df-a5092abf-0e9d-45f7-84e2-53e58533e790');\n",
              "          const dataTable =\n",
              "            await google.colab.kernel.invokeFunction('convertToInteractive',\n",
              "                                                     [key], {});\n",
              "          if (!dataTable) return;\n",
              "\n",
              "          const docLinkHtml = 'Like what you see? Visit the ' +\n",
              "            '<a target=\"_blank\" href=https://colab.research.google.com/notebooks/data_table.ipynb>data table notebook</a>'\n",
              "            + ' to learn more about interactive tables.';\n",
              "          element.innerHTML = '';\n",
              "          dataTable['output_type'] = 'display_data';\n",
              "          await google.colab.output.renderOutput(dataTable, element);\n",
              "          const docLink = document.createElement('div');\n",
              "          docLink.innerHTML = docLinkHtml;\n",
              "          element.appendChild(docLink);\n",
              "        }\n",
              "      </script>\n",
              "    </div>\n",
              "  </div>\n",
              "  "
            ]
          },
          "metadata": {},
          "execution_count": 12
        }
      ],
      "source": [
        "data_merge = pd.merge(data1, data2, on=[\"ID\"],how=\"right\")\n",
        "data_merge.sample(5)\n",
        "\n",
        "#data_merge.head()\n"
      ]
    },
    {
      "cell_type": "code",
      "source": [
        "data_merge.columns"
      ],
      "metadata": {
        "colab": {
          "base_uri": "https://localhost:8080/"
        },
        "id": "qDwXtBuDkjXf",
        "outputId": "edb77a00-1bc8-4829-fb3e-c30543714be7"
      },
      "id": "qDwXtBuDkjXf",
      "execution_count": null,
      "outputs": [
        {
          "output_type": "execute_result",
          "data": {
            "text/plain": [
              "Index(['ID', 'LastName', 'FirstName', 'Woman', 'Age', 'Salary', 'Education',\n",
              "       'City', 'SeniorList', 'NbActivities', 'Referrals', 'Recency',\n",
              "       'Frequency', 'Seniority', 'TotalGift', 'MinGift', 'MaxGift',\n",
              "       'GaveLastYear', 'AmtLastYear', 'GaveThisYear', 'AmtThisYear'],\n",
              "      dtype='object')"
            ]
          },
          "metadata": {},
          "execution_count": 13
        }
      ]
    },
    {
      "cell_type": "markdown",
      "source": [
        "# Felipe"
      ],
      "metadata": {
        "id": "u0IgTf_s1O_c"
      },
      "id": "u0IgTf_s1O_c"
    },
    {
      "cell_type": "markdown",
      "source": [
        "Poner mas alto  - Recency, Seniority\n",
        "\n",
        "\n",
        "1. Rellenar todos los nan (NO)\n",
        "\tSe puede predecir algunos nan con modelo NO\n",
        "2. TODO dataset predecir anterior año, target AmtLastYear -> AmtGiven\n",
        "3. Actualizar COPIA TODO dataset con anterior año GaveLastYear = 1, target AmtThisYear -> AmtGiven\n",
        "4. Juntar TODO y COPIA TODO ACTUALIZADA predecir AmtGiven\n",
        "\n",
        "\n",
        "\n",
        "Se puede crear un meanGift\n",
        "Se puede crear un GaveLastYear para todo dataset original con Recency = 1\n",
        "\n",
        "SeniorList sirve\n",
        "Referrals sirve\n",
        "\n",
        "Se puede hacer drop de Recency despu[es de procesar cuando = 1 y sacar media?\n",
        "Se puede dropear frequency ya que puede ser usado para probabilidad de donacion, no cantidad\n",
        "\"\"\" seniority lo mismo"
      ],
      "metadata": {
        "id": "ARgjdJUFAWgq"
      },
      "id": "ARgjdJUFAWgq"
    },
    {
      "cell_type": "markdown",
      "source": [
        "## Data Exploration"
      ],
      "metadata": {
        "id": "QsHgUkTtmCbJ"
      },
      "id": "QsHgUkTtmCbJ"
    },
    {
      "cell_type": "code",
      "source": [
        "import seaborn as sns\n",
        "import matplotlib.pyplot as plt"
      ],
      "metadata": {
        "id": "giCZ21221QYj"
      },
      "id": "giCZ21221QYj",
      "execution_count": null,
      "outputs": []
    },
    {
      "cell_type": "code",
      "source": [
        "df = data_merge.copy()\n",
        "df.describe()"
      ],
      "metadata": {
        "colab": {
          "base_uri": "https://localhost:8080/",
          "height": 364
        },
        "id": "fPHWppcqqLX9",
        "outputId": "5abd7266-a66e-4664-9d05-b93f77a86b7a"
      },
      "id": "fPHWppcqqLX9",
      "execution_count": null,
      "outputs": [
        {
          "output_type": "execute_result",
          "data": {
            "text/plain": [
              "                 ID           Woman             Age          Salary  \\\n",
              "count  1.000000e+06  1000000.000000  1000000.000000  1000000.000000   \n",
              "mean   2.500000e+06        0.516936       46.366170    65531.654000   \n",
              "std    2.886753e+05        0.499713       18.945324    61051.122343   \n",
              "min    2.000001e+06        0.000000       16.000000        0.000000   \n",
              "25%    2.250001e+06        0.000000       30.000000    20700.000000   \n",
              "50%    2.500000e+06        1.000000       46.000000    44000.000000   \n",
              "75%    2.750000e+06        1.000000       61.000000    91200.000000   \n",
              "max    3.000000e+06        1.000000       90.000000   250000.000000   \n",
              "\n",
              "           SeniorList    NbActivities       Referrals        Recency  \\\n",
              "count  1000000.000000  1000000.000000  1000000.000000  336334.000000   \n",
              "mean         4.582967        0.561413        0.560556       3.039636   \n",
              "std          3.325844        0.996803        1.054027       2.120722   \n",
              "min          0.000000        0.000000        0.000000       1.000000   \n",
              "25%          2.000000        0.000000        0.000000       1.000000   \n",
              "50%          4.000000        0.000000        0.000000       2.000000   \n",
              "75%          7.000000        1.000000        1.000000       4.000000   \n",
              "max         10.000000       10.000000       16.000000      10.000000   \n",
              "\n",
              "           Frequency      Seniority      TotalGift        MinGift  \\\n",
              "count  336334.000000  336334.000000  336334.000000  336334.000000   \n",
              "mean        1.666882       4.474148     104.454055      43.130251   \n",
              "std         1.052090       2.588119     303.760477     150.249476   \n",
              "min         1.000000       1.000000      10.000000      10.000000   \n",
              "25%         1.000000       2.000000      20.000000      15.000000   \n",
              "50%         1.000000       4.000000      40.000000      20.000000   \n",
              "75%         2.000000       6.000000      90.000000      30.000000   \n",
              "max        10.000000      10.000000   15150.000000   10000.000000   \n",
              "\n",
              "             MaxGift    GaveLastYear     AmtLastYear    GaveThisYear  \\\n",
              "count  336334.000000  1000000.000000  1000000.000000  1000000.000000   \n",
              "mean       85.897932        0.122101        7.673015        0.122232   \n",
              "std       283.581066        0.327403       82.224854        0.327554   \n",
              "min        10.000000        0.000000        0.000000        0.000000   \n",
              "25%        20.000000        0.000000        0.000000        0.000000   \n",
              "50%        30.000000        0.000000        0.000000        0.000000   \n",
              "75%        75.000000        0.000000        0.000000        0.000000   \n",
              "max     10000.000000        1.000000    10000.000000        1.000000   \n",
              "\n",
              "          AmtThisYear  \n",
              "count  1000000.000000  \n",
              "mean         7.741080  \n",
              "std         83.110552  \n",
              "min          0.000000  \n",
              "25%          0.000000  \n",
              "50%          0.000000  \n",
              "75%          0.000000  \n",
              "max      10000.000000  "
            ],
            "text/html": [
              "\n",
              "  <div id=\"df-0b02312a-c2cc-4960-ac3e-2eb6866c1974\">\n",
              "    <div class=\"colab-df-container\">\n",
              "      <div>\n",
              "<style scoped>\n",
              "    .dataframe tbody tr th:only-of-type {\n",
              "        vertical-align: middle;\n",
              "    }\n",
              "\n",
              "    .dataframe tbody tr th {\n",
              "        vertical-align: top;\n",
              "    }\n",
              "\n",
              "    .dataframe thead th {\n",
              "        text-align: right;\n",
              "    }\n",
              "</style>\n",
              "<table border=\"1\" class=\"dataframe\">\n",
              "  <thead>\n",
              "    <tr style=\"text-align: right;\">\n",
              "      <th></th>\n",
              "      <th>ID</th>\n",
              "      <th>Woman</th>\n",
              "      <th>Age</th>\n",
              "      <th>Salary</th>\n",
              "      <th>SeniorList</th>\n",
              "      <th>NbActivities</th>\n",
              "      <th>Referrals</th>\n",
              "      <th>Recency</th>\n",
              "      <th>Frequency</th>\n",
              "      <th>Seniority</th>\n",
              "      <th>TotalGift</th>\n",
              "      <th>MinGift</th>\n",
              "      <th>MaxGift</th>\n",
              "      <th>GaveLastYear</th>\n",
              "      <th>AmtLastYear</th>\n",
              "      <th>GaveThisYear</th>\n",
              "      <th>AmtThisYear</th>\n",
              "    </tr>\n",
              "  </thead>\n",
              "  <tbody>\n",
              "    <tr>\n",
              "      <th>count</th>\n",
              "      <td>1.000000e+06</td>\n",
              "      <td>1000000.000000</td>\n",
              "      <td>1000000.000000</td>\n",
              "      <td>1000000.000000</td>\n",
              "      <td>1000000.000000</td>\n",
              "      <td>1000000.000000</td>\n",
              "      <td>1000000.000000</td>\n",
              "      <td>336334.000000</td>\n",
              "      <td>336334.000000</td>\n",
              "      <td>336334.000000</td>\n",
              "      <td>336334.000000</td>\n",
              "      <td>336334.000000</td>\n",
              "      <td>336334.000000</td>\n",
              "      <td>1000000.000000</td>\n",
              "      <td>1000000.000000</td>\n",
              "      <td>1000000.000000</td>\n",
              "      <td>1000000.000000</td>\n",
              "    </tr>\n",
              "    <tr>\n",
              "      <th>mean</th>\n",
              "      <td>2.500000e+06</td>\n",
              "      <td>0.516936</td>\n",
              "      <td>46.366170</td>\n",
              "      <td>65531.654000</td>\n",
              "      <td>4.582967</td>\n",
              "      <td>0.561413</td>\n",
              "      <td>0.560556</td>\n",
              "      <td>3.039636</td>\n",
              "      <td>1.666882</td>\n",
              "      <td>4.474148</td>\n",
              "      <td>104.454055</td>\n",
              "      <td>43.130251</td>\n",
              "      <td>85.897932</td>\n",
              "      <td>0.122101</td>\n",
              "      <td>7.673015</td>\n",
              "      <td>0.122232</td>\n",
              "      <td>7.741080</td>\n",
              "    </tr>\n",
              "    <tr>\n",
              "      <th>std</th>\n",
              "      <td>2.886753e+05</td>\n",
              "      <td>0.499713</td>\n",
              "      <td>18.945324</td>\n",
              "      <td>61051.122343</td>\n",
              "      <td>3.325844</td>\n",
              "      <td>0.996803</td>\n",
              "      <td>1.054027</td>\n",
              "      <td>2.120722</td>\n",
              "      <td>1.052090</td>\n",
              "      <td>2.588119</td>\n",
              "      <td>303.760477</td>\n",
              "      <td>150.249476</td>\n",
              "      <td>283.581066</td>\n",
              "      <td>0.327403</td>\n",
              "      <td>82.224854</td>\n",
              "      <td>0.327554</td>\n",
              "      <td>83.110552</td>\n",
              "    </tr>\n",
              "    <tr>\n",
              "      <th>min</th>\n",
              "      <td>2.000001e+06</td>\n",
              "      <td>0.000000</td>\n",
              "      <td>16.000000</td>\n",
              "      <td>0.000000</td>\n",
              "      <td>0.000000</td>\n",
              "      <td>0.000000</td>\n",
              "      <td>0.000000</td>\n",
              "      <td>1.000000</td>\n",
              "      <td>1.000000</td>\n",
              "      <td>1.000000</td>\n",
              "      <td>10.000000</td>\n",
              "      <td>10.000000</td>\n",
              "      <td>10.000000</td>\n",
              "      <td>0.000000</td>\n",
              "      <td>0.000000</td>\n",
              "      <td>0.000000</td>\n",
              "      <td>0.000000</td>\n",
              "    </tr>\n",
              "    <tr>\n",
              "      <th>25%</th>\n",
              "      <td>2.250001e+06</td>\n",
              "      <td>0.000000</td>\n",
              "      <td>30.000000</td>\n",
              "      <td>20700.000000</td>\n",
              "      <td>2.000000</td>\n",
              "      <td>0.000000</td>\n",
              "      <td>0.000000</td>\n",
              "      <td>1.000000</td>\n",
              "      <td>1.000000</td>\n",
              "      <td>2.000000</td>\n",
              "      <td>20.000000</td>\n",
              "      <td>15.000000</td>\n",
              "      <td>20.000000</td>\n",
              "      <td>0.000000</td>\n",
              "      <td>0.000000</td>\n",
              "      <td>0.000000</td>\n",
              "      <td>0.000000</td>\n",
              "    </tr>\n",
              "    <tr>\n",
              "      <th>50%</th>\n",
              "      <td>2.500000e+06</td>\n",
              "      <td>1.000000</td>\n",
              "      <td>46.000000</td>\n",
              "      <td>44000.000000</td>\n",
              "      <td>4.000000</td>\n",
              "      <td>0.000000</td>\n",
              "      <td>0.000000</td>\n",
              "      <td>2.000000</td>\n",
              "      <td>1.000000</td>\n",
              "      <td>4.000000</td>\n",
              "      <td>40.000000</td>\n",
              "      <td>20.000000</td>\n",
              "      <td>30.000000</td>\n",
              "      <td>0.000000</td>\n",
              "      <td>0.000000</td>\n",
              "      <td>0.000000</td>\n",
              "      <td>0.000000</td>\n",
              "    </tr>\n",
              "    <tr>\n",
              "      <th>75%</th>\n",
              "      <td>2.750000e+06</td>\n",
              "      <td>1.000000</td>\n",
              "      <td>61.000000</td>\n",
              "      <td>91200.000000</td>\n",
              "      <td>7.000000</td>\n",
              "      <td>1.000000</td>\n",
              "      <td>1.000000</td>\n",
              "      <td>4.000000</td>\n",
              "      <td>2.000000</td>\n",
              "      <td>6.000000</td>\n",
              "      <td>90.000000</td>\n",
              "      <td>30.000000</td>\n",
              "      <td>75.000000</td>\n",
              "      <td>0.000000</td>\n",
              "      <td>0.000000</td>\n",
              "      <td>0.000000</td>\n",
              "      <td>0.000000</td>\n",
              "    </tr>\n",
              "    <tr>\n",
              "      <th>max</th>\n",
              "      <td>3.000000e+06</td>\n",
              "      <td>1.000000</td>\n",
              "      <td>90.000000</td>\n",
              "      <td>250000.000000</td>\n",
              "      <td>10.000000</td>\n",
              "      <td>10.000000</td>\n",
              "      <td>16.000000</td>\n",
              "      <td>10.000000</td>\n",
              "      <td>10.000000</td>\n",
              "      <td>10.000000</td>\n",
              "      <td>15150.000000</td>\n",
              "      <td>10000.000000</td>\n",
              "      <td>10000.000000</td>\n",
              "      <td>1.000000</td>\n",
              "      <td>10000.000000</td>\n",
              "      <td>1.000000</td>\n",
              "      <td>10000.000000</td>\n",
              "    </tr>\n",
              "  </tbody>\n",
              "</table>\n",
              "</div>\n",
              "      <button class=\"colab-df-convert\" onclick=\"convertToInteractive('df-0b02312a-c2cc-4960-ac3e-2eb6866c1974')\"\n",
              "              title=\"Convert this dataframe to an interactive table.\"\n",
              "              style=\"display:none;\">\n",
              "        \n",
              "  <svg xmlns=\"http://www.w3.org/2000/svg\" height=\"24px\"viewBox=\"0 0 24 24\"\n",
              "       width=\"24px\">\n",
              "    <path d=\"M0 0h24v24H0V0z\" fill=\"none\"/>\n",
              "    <path d=\"M18.56 5.44l.94 2.06.94-2.06 2.06-.94-2.06-.94-.94-2.06-.94 2.06-2.06.94zm-11 1L8.5 8.5l.94-2.06 2.06-.94-2.06-.94L8.5 2.5l-.94 2.06-2.06.94zm10 10l.94 2.06.94-2.06 2.06-.94-2.06-.94-.94-2.06-.94 2.06-2.06.94z\"/><path d=\"M17.41 7.96l-1.37-1.37c-.4-.4-.92-.59-1.43-.59-.52 0-1.04.2-1.43.59L10.3 9.45l-7.72 7.72c-.78.78-.78 2.05 0 2.83L4 21.41c.39.39.9.59 1.41.59.51 0 1.02-.2 1.41-.59l7.78-7.78 2.81-2.81c.8-.78.8-2.07 0-2.86zM5.41 20L4 18.59l7.72-7.72 1.47 1.35L5.41 20z\"/>\n",
              "  </svg>\n",
              "      </button>\n",
              "      \n",
              "  <style>\n",
              "    .colab-df-container {\n",
              "      display:flex;\n",
              "      flex-wrap:wrap;\n",
              "      gap: 12px;\n",
              "    }\n",
              "\n",
              "    .colab-df-convert {\n",
              "      background-color: #E8F0FE;\n",
              "      border: none;\n",
              "      border-radius: 50%;\n",
              "      cursor: pointer;\n",
              "      display: none;\n",
              "      fill: #1967D2;\n",
              "      height: 32px;\n",
              "      padding: 0 0 0 0;\n",
              "      width: 32px;\n",
              "    }\n",
              "\n",
              "    .colab-df-convert:hover {\n",
              "      background-color: #E2EBFA;\n",
              "      box-shadow: 0px 1px 2px rgba(60, 64, 67, 0.3), 0px 1px 3px 1px rgba(60, 64, 67, 0.15);\n",
              "      fill: #174EA6;\n",
              "    }\n",
              "\n",
              "    [theme=dark] .colab-df-convert {\n",
              "      background-color: #3B4455;\n",
              "      fill: #D2E3FC;\n",
              "    }\n",
              "\n",
              "    [theme=dark] .colab-df-convert:hover {\n",
              "      background-color: #434B5C;\n",
              "      box-shadow: 0px 1px 3px 1px rgba(0, 0, 0, 0.15);\n",
              "      filter: drop-shadow(0px 1px 2px rgba(0, 0, 0, 0.3));\n",
              "      fill: #FFFFFF;\n",
              "    }\n",
              "  </style>\n",
              "\n",
              "      <script>\n",
              "        const buttonEl =\n",
              "          document.querySelector('#df-0b02312a-c2cc-4960-ac3e-2eb6866c1974 button.colab-df-convert');\n",
              "        buttonEl.style.display =\n",
              "          google.colab.kernel.accessAllowed ? 'block' : 'none';\n",
              "\n",
              "        async function convertToInteractive(key) {\n",
              "          const element = document.querySelector('#df-0b02312a-c2cc-4960-ac3e-2eb6866c1974');\n",
              "          const dataTable =\n",
              "            await google.colab.kernel.invokeFunction('convertToInteractive',\n",
              "                                                     [key], {});\n",
              "          if (!dataTable) return;\n",
              "\n",
              "          const docLinkHtml = 'Like what you see? Visit the ' +\n",
              "            '<a target=\"_blank\" href=https://colab.research.google.com/notebooks/data_table.ipynb>data table notebook</a>'\n",
              "            + ' to learn more about interactive tables.';\n",
              "          element.innerHTML = '';\n",
              "          dataTable['output_type'] = 'display_data';\n",
              "          await google.colab.output.renderOutput(dataTable, element);\n",
              "          const docLink = document.createElement('div');\n",
              "          docLink.innerHTML = docLinkHtml;\n",
              "          element.appendChild(docLink);\n",
              "        }\n",
              "      </script>\n",
              "    </div>\n",
              "  </div>\n",
              "  "
            ]
          },
          "metadata": {},
          "execution_count": 15
        }
      ]
    },
    {
      "cell_type": "code",
      "source": [
        "df.info()"
      ],
      "metadata": {
        "colab": {
          "base_uri": "https://localhost:8080/"
        },
        "id": "zGQCWlLKq_9l",
        "outputId": "12fcc952-b031-4fa4-e94f-d4facefb85a8"
      },
      "id": "zGQCWlLKq_9l",
      "execution_count": null,
      "outputs": [
        {
          "output_type": "stream",
          "name": "stdout",
          "text": [
            "<class 'pandas.core.frame.DataFrame'>\n",
            "Int64Index: 1000000 entries, 0 to 999999\n",
            "Data columns (total 21 columns):\n",
            " #   Column        Non-Null Count    Dtype  \n",
            "---  ------        --------------    -----  \n",
            " 0   ID            1000000 non-null  float64\n",
            " 1   LastName      999977 non-null   object \n",
            " 2   FirstName     999996 non-null   object \n",
            " 3   Woman         1000000 non-null  float64\n",
            " 4   Age           1000000 non-null  float64\n",
            " 5   Salary        1000000 non-null  float64\n",
            " 6   Education     1000000 non-null  object \n",
            " 7   City          1000000 non-null  object \n",
            " 8   SeniorList    1000000 non-null  float64\n",
            " 9   NbActivities  1000000 non-null  float64\n",
            " 10  Referrals     1000000 non-null  float64\n",
            " 11  Recency       336334 non-null   float64\n",
            " 12  Frequency     336334 non-null   float64\n",
            " 13  Seniority     336334 non-null   float64\n",
            " 14  TotalGift     336334 non-null   float64\n",
            " 15  MinGift       336334 non-null   float64\n",
            " 16  MaxGift       336334 non-null   float64\n",
            " 17  GaveLastYear  1000000 non-null  float64\n",
            " 18  AmtLastYear   1000000 non-null  float64\n",
            " 19  GaveThisYear  1000000 non-null  float64\n",
            " 20  AmtThisYear   1000000 non-null  float64\n",
            "dtypes: float64(17), object(4)\n",
            "memory usage: 167.8+ MB\n"
          ]
        }
      ]
    },
    {
      "cell_type": "code",
      "source": [
        "sns.boxplot(data=df, x=\"Salary\")"
      ],
      "metadata": {
        "colab": {
          "base_uri": "https://localhost:8080/",
          "height": 296
        },
        "id": "pvNnNs4AzpbN",
        "outputId": "dd10ec10-72d0-4b77-ff24-0e914cf1bc63"
      },
      "id": "pvNnNs4AzpbN",
      "execution_count": null,
      "outputs": [
        {
          "output_type": "execute_result",
          "data": {
            "text/plain": [
              "<matplotlib.axes._subplots.AxesSubplot at 0x7f23c6815810>"
            ]
          },
          "metadata": {},
          "execution_count": 14
        },
        {
          "output_type": "display_data",
          "data": {
            "text/plain": [
              "<Figure size 432x288 with 1 Axes>"
            ],
            "image/png": "[encoded data removed]"
          },
          "metadata": {
            "needs_background": "light"
          }
        }
      ]
    },
    {
      "cell_type": "code",
      "source": [
        "df.plot('Salary', 'GaveLastYear', kind = 'scatter')"
      ],
      "metadata": {
        "colab": {
          "base_uri": "https://localhost:8080/",
          "height": 296
        },
        "id": "LIHWvMqz51fS",
        "outputId": "0b017208-b9d1-48a1-ab45-bd23282b660d"
      },
      "id": "LIHWvMqz51fS",
      "execution_count": null,
      "outputs": [
        {
          "output_type": "execute_result",
          "data": {
            "text/plain": [
              "<matplotlib.axes._subplots.AxesSubplot at 0x7f23c6811c50>"
            ]
          },
          "metadata": {},
          "execution_count": 15
        },
        {
          "output_type": "display_data",
          "data": {
            "text/plain": [
              "<Figure size 432x288 with 1 Axes>"
            ],
            "image/png": "[encoded data removed]"
          },
          "metadata": {
            "needs_background": "light"
          }
        }
      ]
    },
    {
      "cell_type": "code",
      "source": [
        "# pd.plotting.scatter_matrix(df)"
      ],
      "metadata": {
        "id": "MEY8urIA7wAh"
      },
      "id": "MEY8urIA7wAh",
      "execution_count": null,
      "outputs": []
    },
    {
      "cell_type": "code",
      "source": [
        "df.plot('Salary', 'AmtLastYear', kind = 'scatter')"
      ],
      "metadata": {
        "colab": {
          "base_uri": "https://localhost:8080/",
          "height": 296
        },
        "id": "hcs4gI6R6J2w",
        "outputId": "ac56c128-ec98-40d3-fc2e-f65853f5e505"
      },
      "id": "hcs4gI6R6J2w",
      "execution_count": null,
      "outputs": [
        {
          "output_type": "execute_result",
          "data": {
            "text/plain": [
              "<matplotlib.axes._subplots.AxesSubplot at 0x7f8ea7151690>"
            ]
          },
          "metadata": {},
          "execution_count": 70
        },
        {
          "output_type": "display_data",
          "data": {
            "text/plain": [
              "<Figure size 432x288 with 1 Axes>"
            ],
            "image/png": "[encoded data removed]"
          },
          "metadata": {
            "needs_background": "light"
          }
        }
      ]
    },
    {
      "cell_type": "code",
      "source": [
        "df.plot('Salary', 'AmtThisYear', kind = 'scatter')"
      ],
      "metadata": {
        "colab": {
          "base_uri": "https://localhost:8080/",
          "height": 296
        },
        "id": "bl89eaEq6w8T",
        "outputId": "a069fb1e-bcd0-4e75-ea1b-d4388649ba50"
      },
      "id": "bl89eaEq6w8T",
      "execution_count": null,
      "outputs": [
        {
          "output_type": "execute_result",
          "data": {
            "text/plain": [
              "<matplotlib.axes._subplots.AxesSubplot at 0x7f8ea7111550>"
            ]
          },
          "metadata": {},
          "execution_count": 71
        },
        {
          "output_type": "display_data",
          "data": {
            "text/plain": [
              "<Figure size 432x288 with 1 Axes>"
            ],
            "image/png": "[encoded data removed]"
          },
          "metadata": {
            "needs_background": "light"
          }
        }
      ]
    },
    {
      "cell_type": "code",
      "source": [
        "df.plot('AmtLastYear', 'AmtThisYear', kind = 'scatter')"
      ],
      "metadata": {
        "colab": {
          "base_uri": "https://localhost:8080/",
          "height": 296
        },
        "id": "KpQLmK4Z6408",
        "outputId": "f22c5eef-5880-493a-f868-54d63729cc38"
      },
      "id": "KpQLmK4Z6408",
      "execution_count": null,
      "outputs": [
        {
          "output_type": "execute_result",
          "data": {
            "text/plain": [
              "<matplotlib.axes._subplots.AxesSubplot at 0x7f8ea7074a10>"
            ]
          },
          "metadata": {},
          "execution_count": 73
        },
        {
          "output_type": "display_data",
          "data": {
            "text/plain": [
              "<Figure size 432x288 with 1 Axes>"
            ],
            "image/png": "[encoded data removed]"
          },
          "metadata": {
            "needs_background": "light"
          }
        }
      ]
    },
    {
      "cell_type": "code",
      "source": [
        "pd.crosstab(df['GaveThisYear'], df['GaveLastYear']).plot.bar()"
      ],
      "metadata": {
        "colab": {
          "base_uri": "https://localhost:8080/",
          "height": 302
        },
        "id": "QPGRvNRE91Cw",
        "outputId": "0b0253e0-a0f4-4176-9202-18d944665c2b"
      },
      "id": "QPGRvNRE91Cw",
      "execution_count": null,
      "outputs": [
        {
          "output_type": "execute_result",
          "data": {
            "text/plain": [
              "<matplotlib.axes._subplots.AxesSubplot at 0x7f23c5363950>"
            ]
          },
          "metadata": {},
          "execution_count": 63
        },
        {
          "output_type": "display_data",
          "data": {
            "text/plain": [
              "<Figure size 432x288 with 1 Axes>"
            ],
            "image/png": "[encoded data removed]"
          },
          "metadata": {
            "needs_background": "light"
          }
        }
      ]
    },
    {
      "cell_type": "code",
      "source": [
        "sns.histplot(data=df, x='Education')"
      ],
      "metadata": {
        "colab": {
          "base_uri": "https://localhost:8080/",
          "height": 296
        },
        "id": "H1Y7inX40Yyc",
        "outputId": "2031454d-24d8-429a-b33d-47ed28929f98"
      },
      "id": "H1Y7inX40Yyc",
      "execution_count": null,
      "outputs": [
        {
          "output_type": "execute_result",
          "data": {
            "text/plain": [
              "<matplotlib.axes._subplots.AxesSubplot at 0x7f8ea702ba50>"
            ]
          },
          "metadata": {},
          "execution_count": 74
        },
        {
          "output_type": "display_data",
          "data": {
            "text/plain": [
              "<Figure size 432x288 with 1 Axes>"
            ],
            "image/png": "[encoded data removed]"
          },
          "metadata": {
            "needs_background": "light"
          }
        }
      ]
    },
    {
      "cell_type": "code",
      "source": [
        "df.plot('AmtThisYear', 'Education', kind = 'scatter')"
      ],
      "metadata": {
        "colab": {
          "base_uri": "https://localhost:8080/",
          "height": 296
        },
        "id": "bur_P-qz8Hhb",
        "outputId": "67571840-26e4-4713-e9c1-5fabe588fde3"
      },
      "id": "bur_P-qz8Hhb",
      "execution_count": null,
      "outputs": [
        {
          "output_type": "execute_result",
          "data": {
            "text/plain": [
              "<matplotlib.axes._subplots.AxesSubplot at 0x7f8ea6fb7f10>"
            ]
          },
          "metadata": {},
          "execution_count": 75
        },
        {
          "output_type": "display_data",
          "data": {
            "text/plain": [
              "<Figure size 432x288 with 1 Axes>"
            ],
            "image/png": "[encoded data removed]"
          },
          "metadata": {
            "needs_background": "light"
          }
        }
      ]
    },
    {
      "cell_type": "code",
      "source": [
        "pd.crosstab(df['Education'], df['GaveThisYear']).plot.bar()"
      ],
      "metadata": {
        "colab": {
          "base_uri": "https://localhost:8080/",
          "height": 384
        },
        "id": "zl3AfcVXAdZs",
        "outputId": "81974213-69a7-4297-be9d-f5f59b579028"
      },
      "id": "zl3AfcVXAdZs",
      "execution_count": null,
      "outputs": [
        {
          "output_type": "execute_result",
          "data": {
            "text/plain": [
              "<matplotlib.axes._subplots.AxesSubplot at 0x7f8ea6fc0c50>"
            ]
          },
          "metadata": {},
          "execution_count": 76
        },
        {
          "output_type": "display_data",
          "data": {
            "text/plain": [
              "<Figure size 432x288 with 1 Axes>"
            ],
            "image/png": "[encoded data removed]"
          },
          "metadata": {
            "needs_background": "light"
          }
        }
      ]
    },
    {
      "cell_type": "code",
      "source": [
        "pd.crosstab(df['Education'], df['GaveLastYear']).plot.bar()"
      ],
      "metadata": {
        "colab": {
          "base_uri": "https://localhost:8080/",
          "height": 384
        },
        "id": "Hgb9n9QPAq5Y",
        "outputId": "726df21f-e5f2-4922-b2fd-a5f19640309f"
      },
      "id": "Hgb9n9QPAq5Y",
      "execution_count": null,
      "outputs": [
        {
          "output_type": "execute_result",
          "data": {
            "text/plain": [
              "<matplotlib.axes._subplots.AxesSubplot at 0x7f8ea6f022d0>"
            ]
          },
          "metadata": {},
          "execution_count": 77
        },
        {
          "output_type": "display_data",
          "data": {
            "text/plain": [
              "<Figure size 432x288 with 1 Axes>"
            ],
            "image/png": "[encoded data removed]"
          },
          "metadata": {
            "needs_background": "light"
          }
        }
      ]
    },
    {
      "cell_type": "code",
      "source": [
        "sns.histplot(data=df, x='City')"
      ],
      "metadata": {
        "colab": {
          "base_uri": "https://localhost:8080/",
          "height": 296
        },
        "id": "ZOeER60Z40LL",
        "outputId": "cf486669-8b22-4990-81e6-de77302351a0"
      },
      "id": "ZOeER60Z40LL",
      "execution_count": null,
      "outputs": [
        {
          "output_type": "execute_result",
          "data": {
            "text/plain": [
              "<matplotlib.axes._subplots.AxesSubplot at 0x7f8ea6e85110>"
            ]
          },
          "metadata": {},
          "execution_count": 78
        },
        {
          "output_type": "display_data",
          "data": {
            "text/plain": [
              "<Figure size 432x288 with 1 Axes>"
            ],
            "image/png": "[encoded data removed]"
          },
          "metadata": {
            "needs_background": "light"
          }
        }
      ]
    },
    {
      "cell_type": "code",
      "source": [
        "df.plot('SeniorList', 'Seniority', kind = 'scatter') # Años desde primera donación"
      ],
      "metadata": {
        "colab": {
          "base_uri": "https://localhost:8080/",
          "height": 296
        },
        "id": "4AU8lho8CQso",
        "outputId": "be5bb61d-6218-41ca-9d59-e54fd8709d09"
      },
      "id": "4AU8lho8CQso",
      "execution_count": null,
      "outputs": [
        {
          "output_type": "execute_result",
          "data": {
            "text/plain": [
              "<matplotlib.axes._subplots.AxesSubplot at 0x7f7a6b734a50>"
            ]
          },
          "metadata": {},
          "execution_count": 14
        },
        {
          "output_type": "display_data",
          "data": {
            "text/plain": [
              "<Figure size 432x288 with 1 Axes>"
            ],
            "image/png": "[encoded data removed]"
          },
          "metadata": {
            "needs_background": "light"
          }
        }
      ]
    },
    {
      "cell_type": "code",
      "source": [
        "df.plot('SeniorList', 'Recency', kind = 'scatter') # Años desde última donación"
      ],
      "metadata": {
        "colab": {
          "base_uri": "https://localhost:8080/",
          "height": 296
        },
        "id": "1bmeBdmYC8n4",
        "outputId": "f740ff8a-a367-4036-9aa8-c3bd59956560"
      },
      "id": "1bmeBdmYC8n4",
      "execution_count": null,
      "outputs": [
        {
          "output_type": "execute_result",
          "data": {
            "text/plain": [
              "<matplotlib.axes._subplots.AxesSubplot at 0x7f8ea6d419d0>"
            ]
          },
          "metadata": {},
          "execution_count": 81
        },
        {
          "output_type": "display_data",
          "data": {
            "text/plain": [
              "<Figure size 432x288 with 1 Axes>"
            ],
            "image/png": "[encoded data removed]"
          },
          "metadata": {
            "needs_background": "light"
          }
        }
      ]
    },
    {
      "cell_type": "code",
      "source": [
        "df.plot('SeniorList', 'Frequency', kind = 'scatter') # Numero de donaciones"
      ],
      "metadata": {
        "colab": {
          "base_uri": "https://localhost:8080/",
          "height": 296
        },
        "id": "zmSo_SyzD2Ff",
        "outputId": "3866c4fe-6ba0-48ef-ef04-a4bedfd0552a"
      },
      "id": "zmSo_SyzD2Ff",
      "execution_count": null,
      "outputs": [
        {
          "output_type": "execute_result",
          "data": {
            "text/plain": [
              "<matplotlib.axes._subplots.AxesSubplot at 0x7f8ea6cfc510>"
            ]
          },
          "metadata": {},
          "execution_count": 82
        },
        {
          "output_type": "display_data",
          "data": {
            "text/plain": [
              "<Figure size 432x288 with 1 Axes>"
            ],
            "image/png": "[encoded data removed]"
          },
          "metadata": {
            "needs_background": "light"
          }
        }
      ]
    },
    {
      "cell_type": "code",
      "source": [
        "df.plot('SeniorList', 'AmtThisYear', kind = 'scatter') # Numero de donaciones"
      ],
      "metadata": {
        "colab": {
          "base_uri": "https://localhost:8080/",
          "height": 296
        },
        "id": "kUDUeZ3zEOYL",
        "outputId": "d52eef69-0142-4d85-bb3e-0739988e9f94"
      },
      "id": "kUDUeZ3zEOYL",
      "execution_count": null,
      "outputs": [
        {
          "output_type": "execute_result",
          "data": {
            "text/plain": [
              "<matplotlib.axes._subplots.AxesSubplot at 0x7f8ea6c9bb50>"
            ]
          },
          "metadata": {},
          "execution_count": 83
        },
        {
          "output_type": "display_data",
          "data": {
            "text/plain": [
              "<Figure size 432x288 with 1 Axes>"
            ],
            "image/png": "[encoded data removed]"
          },
          "metadata": {
            "needs_background": "light"
          }
        }
      ]
    },
    {
      "cell_type": "code",
      "source": [
        "df[df['SeniorList'] == 0].sample(20)"
      ],
      "metadata": {
        "colab": {
          "base_uri": "https://localhost:8080/",
          "height": 1000
        },
        "id": "DZQ-7tX4G0zW",
        "outputId": "814e0c19-8e90-4f53-d5e1-317bd957c9d1"
      },
      "id": "DZQ-7tX4G0zW",
      "execution_count": null,
      "outputs": [
        {
          "output_type": "execute_result",
          "data": {
            "text/plain": [
              "               ID   LastName FirstName  Woman   Age    Salary  \\\n",
              "968845  2968846.0     ORTEGA  SAMANTHA    1.0  44.0   23000.0   \n",
              "411634  2411635.0    HAMMOND    CURTIS    0.0  16.0   25600.0   \n",
              "854276  2854277.0    CLAUSEN    CHERYL    1.0  30.0   12100.0   \n",
              "392235  2392236.0      GIBBS    GEORGE    0.0  34.0  234500.0   \n",
              "145592  2145593.0     BAILEY    ROBERT    0.0  58.0   12800.0   \n",
              "399718  2399719.0     MARINO   RICHARD    0.0  67.0   23500.0   \n",
              "807676  2807677.0    JOHNSON   CATHRYN    1.0  16.0   26300.0   \n",
              "496544  2496545.0  OSTERBERG    ANGELA    1.0  62.0   43000.0   \n",
              "165608  2165609.0   GAUTHIER   LILLIAN    1.0  62.0   30400.0   \n",
              "997261  2997262.0       SHAW    GERALD    0.0  24.0    5300.0   \n",
              "488615  2488616.0     ABBOTT      DANA    0.0  87.0   38500.0   \n",
              "271005  2271006.0   DAHLHEIM   NICHOLE    1.0  35.0   34700.0   \n",
              "468256  2468257.0     THOMAS     JERRY    0.0  26.0  108200.0   \n",
              "485501  2485502.0   STEPHENS     DEENA    1.0  21.0    3600.0   \n",
              "89373   2089374.0   MORRISON     JASON    0.0  49.0   24300.0   \n",
              "94443   2094444.0    SESSOMS      EMMA    1.0  48.0  111800.0   \n",
              "302967  2302968.0   MORRISON    HORACE    0.0  44.0    1600.0   \n",
              "283188  2283189.0     NGUYEN   BEVERLY    1.0  35.0   16900.0   \n",
              "935577  2935578.0     WATSON       JON    0.0  57.0  105000.0   \n",
              "21794   2021795.0     PATKAR   CHARLES    0.0  29.0   16100.0   \n",
              "\n",
              "                   Education      City  SeniorList  NbActivities  ...  \\\n",
              "968845            Elementary  Suburban         0.0           0.0  ...   \n",
              "411634           High School  Suburban         0.0           0.0  ...   \n",
              "854276           High School  Downtown         0.0           0.0  ...   \n",
              "392235  University / College      City         0.0           0.0  ...   \n",
              "145592  University / College  Suburban         0.0           0.0  ...   \n",
              "399718  University / College      City         0.0           0.0  ...   \n",
              "807676  University / College      City         0.0           0.0  ...   \n",
              "496544  University / College      City         0.0           0.0  ...   \n",
              "165608           High School  Downtown         0.0           0.0  ...   \n",
              "997261  University / College  Suburban         0.0           0.0  ...   \n",
              "488615           High School      City         0.0           0.0  ...   \n",
              "271005  University / College      City         0.0           0.0  ...   \n",
              "468256  University / College     Rural         0.0           0.0  ...   \n",
              "485501           High School     Rural         0.0           0.0  ...   \n",
              "89373            High School      City         0.0           0.0  ...   \n",
              "94443   University / College  Suburban         0.0           0.0  ...   \n",
              "302967  University / College      City         0.0           0.0  ...   \n",
              "283188           High School  Downtown         0.0           0.0  ...   \n",
              "935577  University / College  Suburban         0.0           0.0  ...   \n",
              "21794   University / College      City         0.0           0.0  ...   \n",
              "\n",
              "        Recency  Frequency  Seniority  TotalGift  MinGift  MaxGift  \\\n",
              "968845      NaN        NaN        NaN        NaN      NaN      NaN   \n",
              "411634      NaN        NaN        NaN        NaN      NaN      NaN   \n",
              "854276      NaN        NaN        NaN        NaN      NaN      NaN   \n",
              "392235      NaN        NaN        NaN        NaN      NaN      NaN   \n",
              "145592      NaN        NaN        NaN        NaN      NaN      NaN   \n",
              "399718      NaN        NaN        NaN        NaN      NaN      NaN   \n",
              "807676      NaN        NaN        NaN        NaN      NaN      NaN   \n",
              "496544      NaN        NaN        NaN        NaN      NaN      NaN   \n",
              "165608      NaN        NaN        NaN        NaN      NaN      NaN   \n",
              "997261      NaN        NaN        NaN        NaN      NaN      NaN   \n",
              "488615      NaN        NaN        NaN        NaN      NaN      NaN   \n",
              "271005      NaN        NaN        NaN        NaN      NaN      NaN   \n",
              "468256      NaN        NaN        NaN        NaN      NaN      NaN   \n",
              "485501      NaN        NaN        NaN        NaN      NaN      NaN   \n",
              "89373       NaN        NaN        NaN        NaN      NaN      NaN   \n",
              "94443       NaN        NaN        NaN        NaN      NaN      NaN   \n",
              "302967      NaN        NaN        NaN        NaN      NaN      NaN   \n",
              "283188      NaN        NaN        NaN        NaN      NaN      NaN   \n",
              "935577      NaN        NaN        NaN        NaN      NaN      NaN   \n",
              "21794       NaN        NaN        NaN        NaN      NaN      NaN   \n",
              "\n",
              "        GaveLastYear  AmtLastYear  GaveThisYear  AmtThisYear  \n",
              "968845           0.0          0.0           0.0          0.0  \n",
              "411634           0.0          0.0           0.0          0.0  \n",
              "854276           0.0          0.0           0.0          0.0  \n",
              "392235           0.0          0.0           0.0          0.0  \n",
              "145592           0.0          0.0           0.0          0.0  \n",
              "399718           0.0          0.0           0.0          0.0  \n",
              "807676           0.0          0.0           0.0          0.0  \n",
              "496544           0.0          0.0           0.0          0.0  \n",
              "165608           0.0          0.0           0.0          0.0  \n",
              "997261           0.0          0.0           0.0          0.0  \n",
              "488615           0.0          0.0           0.0          0.0  \n",
              "271005           0.0          0.0           0.0          0.0  \n",
              "468256           0.0          0.0           0.0          0.0  \n",
              "485501           0.0          0.0           0.0          0.0  \n",
              "89373            0.0          0.0           0.0          0.0  \n",
              "94443            0.0          0.0           0.0          0.0  \n",
              "302967           0.0          0.0           0.0          0.0  \n",
              "283188           1.0         75.0           0.0          0.0  \n",
              "935577           0.0          0.0           0.0          0.0  \n",
              "21794            0.0          0.0           1.0         30.0  \n",
              "\n",
              "[20 rows x 21 columns]"
            ],
            "text/html": [
              "\n",
              "  <div id=\"df-c6a6872e-5b49-44fe-9b7e-5b20913d27d5\">\n",
              "    <div class=\"colab-df-container\">\n",
              "      <div>\n",
              "<style scoped>\n",
              "    .dataframe tbody tr th:only-of-type {\n",
              "        vertical-align: middle;\n",
              "    }\n",
              "\n",
              "    .dataframe tbody tr th {\n",
              "        vertical-align: top;\n",
              "    }\n",
              "\n",
              "    .dataframe thead th {\n",
              "        text-align: right;\n",
              "    }\n",
              "</style>\n",
              "<table border=\"1\" class=\"dataframe\">\n",
              "  <thead>\n",
              "    <tr style=\"text-align: right;\">\n",
              "      <th></th>\n",
              "      <th>ID</th>\n",
              "      <th>LastName</th>\n",
              "      <th>FirstName</th>\n",
              "      <th>Woman</th>\n",
              "      <th>Age</th>\n",
              "      <th>Salary</th>\n",
              "      <th>Education</th>\n",
              "      <th>City</th>\n",
              "      <th>SeniorList</th>\n",
              "      <th>NbActivities</th>\n",
              "      <th>...</th>\n",
              "      <th>Recency</th>\n",
              "      <th>Frequency</th>\n",
              "      <th>Seniority</th>\n",
              "      <th>TotalGift</th>\n",
              "      <th>MinGift</th>\n",
              "      <th>MaxGift</th>\n",
              "      <th>GaveLastYear</th>\n",
              "      <th>AmtLastYear</th>\n",
              "      <th>GaveThisYear</th>\n",
              "      <th>AmtThisYear</th>\n",
              "    </tr>\n",
              "  </thead>\n",
              "  <tbody>\n",
              "    <tr>\n",
              "      <th>968845</th>\n",
              "      <td>2968846.0</td>\n",
              "      <td>ORTEGA</td>\n",
              "      <td>SAMANTHA</td>\n",
              "      <td>1.0</td>\n",
              "      <td>44.0</td>\n",
              "      <td>23000.0</td>\n",
              "      <td>Elementary</td>\n",
              "      <td>Suburban</td>\n",
              "      <td>0.0</td>\n",
              "      <td>0.0</td>\n",
              "      <td>...</td>\n",
              "      <td>NaN</td>\n",
              "      <td>NaN</td>\n",
              "      <td>NaN</td>\n",
              "      <td>NaN</td>\n",
              "      <td>NaN</td>\n",
              "      <td>NaN</td>\n",
              "      <td>0.0</td>\n",
              "      <td>0.0</td>\n",
              "      <td>0.0</td>\n",
              "      <td>0.0</td>\n",
              "    </tr>\n",
              "    <tr>\n",
              "      <th>411634</th>\n",
              "      <td>2411635.0</td>\n",
              "      <td>HAMMOND</td>\n",
              "      <td>CURTIS</td>\n",
              "      <td>0.0</td>\n",
              "      <td>16.0</td>\n",
              "      <td>25600.0</td>\n",
              "      <td>High School</td>\n",
              "      <td>Suburban</td>\n",
              "      <td>0.0</td>\n",
              "      <td>0.0</td>\n",
              "      <td>...</td>\n",
              "      <td>NaN</td>\n",
              "      <td>NaN</td>\n",
              "      <td>NaN</td>\n",
              "      <td>NaN</td>\n",
              "      <td>NaN</td>\n",
              "      <td>NaN</td>\n",
              "      <td>0.0</td>\n",
              "      <td>0.0</td>\n",
              "      <td>0.0</td>\n",
              "      <td>0.0</td>\n",
              "    </tr>\n",
              "    <tr>\n",
              "      <th>854276</th>\n",
              "      <td>2854277.0</td>\n",
              "      <td>CLAUSEN</td>\n",
              "      <td>CHERYL</td>\n",
              "      <td>1.0</td>\n",
              "      <td>30.0</td>\n",
              "      <td>12100.0</td>\n",
              "      <td>High School</td>\n",
              "      <td>Downtown</td>\n",
              "      <td>0.0</td>\n",
              "      <td>0.0</td>\n",
              "      <td>...</td>\n",
              "      <td>NaN</td>\n",
              "      <td>NaN</td>\n",
              "      <td>NaN</td>\n",
              "      <td>NaN</td>\n",
              "      <td>NaN</td>\n",
              "      <td>NaN</td>\n",
              "      <td>0.0</td>\n",
              "      <td>0.0</td>\n",
              "      <td>0.0</td>\n",
              "      <td>0.0</td>\n",
              "    </tr>\n",
              "    <tr>\n",
              "      <th>392235</th>\n",
              "      <td>2392236.0</td>\n",
              "      <td>GIBBS</td>\n",
              "      <td>GEORGE</td>\n",
              "      <td>0.0</td>\n",
              "      <td>34.0</td>\n",
              "      <td>234500.0</td>\n",
              "      <td>University / College</td>\n",
              "      <td>City</td>\n",
              "      <td>0.0</td>\n",
              "      <td>0.0</td>\n",
              "      <td>...</td>\n",
              "      <td>NaN</td>\n",
              "      <td>NaN</td>\n",
              "      <td>NaN</td>\n",
              "      <td>NaN</td>\n",
              "      <td>NaN</td>\n",
              "      <td>NaN</td>\n",
              "      <td>0.0</td>\n",
              "      <td>0.0</td>\n",
              "      <td>0.0</td>\n",
              "      <td>0.0</td>\n",
              "    </tr>\n",
              "    <tr>\n",
              "      <th>145592</th>\n",
              "      <td>2145593.0</td>\n",
              "      <td>BAILEY</td>\n",
              "      <td>ROBERT</td>\n",
              "      <td>0.0</td>\n",
              "      <td>58.0</td>\n",
              "      <td>12800.0</td>\n",
              "      <td>University / College</td>\n",
              "      <td>Suburban</td>\n",
              "      <td>0.0</td>\n",
              "      <td>0.0</td>\n",
              "      <td>...</td>\n",
              "      <td>NaN</td>\n",
              "      <td>NaN</td>\n",
              "      <td>NaN</td>\n",
              "      <td>NaN</td>\n",
              "      <td>NaN</td>\n",
              "      <td>NaN</td>\n",
              "      <td>0.0</td>\n",
              "      <td>0.0</td>\n",
              "      <td>0.0</td>\n",
              "      <td>0.0</td>\n",
              "    </tr>\n",
              "    <tr>\n",
              "      <th>399718</th>\n",
              "      <td>2399719.0</td>\n",
              "      <td>MARINO</td>\n",
              "      <td>RICHARD</td>\n",
              "      <td>0.0</td>\n",
              "      <td>67.0</td>\n",
              "      <td>23500.0</td>\n",
              "      <td>University / College</td>\n",
              "      <td>City</td>\n",
              "      <td>0.0</td>\n",
              "      <td>0.0</td>\n",
              "      <td>...</td>\n",
              "      <td>NaN</td>\n",
              "      <td>NaN</td>\n",
              "      <td>NaN</td>\n",
              "      <td>NaN</td>\n",
              "      <td>NaN</td>\n",
              "      <td>NaN</td>\n",
              "      <td>0.0</td>\n",
              "      <td>0.0</td>\n",
              "      <td>0.0</td>\n",
              "      <td>0.0</td>\n",
              "    </tr>\n",
              "    <tr>\n",
              "      <th>807676</th>\n",
              "      <td>2807677.0</td>\n",
              "      <td>JOHNSON</td>\n",
              "      <td>CATHRYN</td>\n",
              "      <td>1.0</td>\n",
              "      <td>16.0</td>\n",
              "      <td>26300.0</td>\n",
              "      <td>University / College</td>\n",
              "      <td>City</td>\n",
              "      <td>0.0</td>\n",
              "      <td>0.0</td>\n",
              "      <td>...</td>\n",
              "      <td>NaN</td>\n",
              "      <td>NaN</td>\n",
              "      <td>NaN</td>\n",
              "      <td>NaN</td>\n",
              "      <td>NaN</td>\n",
              "      <td>NaN</td>\n",
              "      <td>0.0</td>\n",
              "      <td>0.0</td>\n",
              "      <td>0.0</td>\n",
              "      <td>0.0</td>\n",
              "    </tr>\n",
              "    <tr>\n",
              "      <th>496544</th>\n",
              "      <td>2496545.0</td>\n",
              "      <td>OSTERBERG</td>\n",
              "      <td>ANGELA</td>\n",
              "      <td>1.0</td>\n",
              "      <td>62.0</td>\n",
              "      <td>43000.0</td>\n",
              "      <td>University / College</td>\n",
              "      <td>City</td>\n",
              "      <td>0.0</td>\n",
              "      <td>0.0</td>\n",
              "      <td>...</td>\n",
              "      <td>NaN</td>\n",
              "      <td>NaN</td>\n",
              "      <td>NaN</td>\n",
              "      <td>NaN</td>\n",
              "      <td>NaN</td>\n",
              "      <td>NaN</td>\n",
              "      <td>0.0</td>\n",
              "      <td>0.0</td>\n",
              "      <td>0.0</td>\n",
              "      <td>0.0</td>\n",
              "    </tr>\n",
              "    <tr>\n",
              "      <th>165608</th>\n",
              "      <td>2165609.0</td>\n",
              "      <td>GAUTHIER</td>\n",
              "      <td>LILLIAN</td>\n",
              "      <td>1.0</td>\n",
              "      <td>62.0</td>\n",
              "      <td>30400.0</td>\n",
              "      <td>High School</td>\n",
              "      <td>Downtown</td>\n",
              "      <td>0.0</td>\n",
              "      <td>0.0</td>\n",
              "      <td>...</td>\n",
              "      <td>NaN</td>\n",
              "      <td>NaN</td>\n",
              "      <td>NaN</td>\n",
              "      <td>NaN</td>\n",
              "      <td>NaN</td>\n",
              "      <td>NaN</td>\n",
              "      <td>0.0</td>\n",
              "      <td>0.0</td>\n",
              "      <td>0.0</td>\n",
              "      <td>0.0</td>\n",
              "    </tr>\n",
              "    <tr>\n",
              "      <th>997261</th>\n",
              "      <td>2997262.0</td>\n",
              "      <td>SHAW</td>\n",
              "      <td>GERALD</td>\n",
              "      <td>0.0</td>\n",
              "      <td>24.0</td>\n",
              "      <td>5300.0</td>\n",
              "      <td>University / College</td>\n",
              "      <td>Suburban</td>\n",
              "      <td>0.0</td>\n",
              "      <td>0.0</td>\n",
              "      <td>...</td>\n",
              "      <td>NaN</td>\n",
              "      <td>NaN</td>\n",
              "      <td>NaN</td>\n",
              "      <td>NaN</td>\n",
              "      <td>NaN</td>\n",
              "      <td>NaN</td>\n",
              "      <td>0.0</td>\n",
              "      <td>0.0</td>\n",
              "      <td>0.0</td>\n",
              "      <td>0.0</td>\n",
              "    </tr>\n",
              "    <tr>\n",
              "      <th>488615</th>\n",
              "      <td>2488616.0</td>\n",
              "      <td>ABBOTT</td>\n",
              "      <td>DANA</td>\n",
              "      <td>0.0</td>\n",
              "      <td>87.0</td>\n",
              "      <td>38500.0</td>\n",
              "      <td>High School</td>\n",
              "      <td>City</td>\n",
              "      <td>0.0</td>\n",
              "      <td>0.0</td>\n",
              "      <td>...</td>\n",
              "      <td>NaN</td>\n",
              "      <td>NaN</td>\n",
              "      <td>NaN</td>\n",
              "      <td>NaN</td>\n",
              "      <td>NaN</td>\n",
              "      <td>NaN</td>\n",
              "      <td>0.0</td>\n",
              "      <td>0.0</td>\n",
              "      <td>0.0</td>\n",
              "      <td>0.0</td>\n",
              "    </tr>\n",
              "    <tr>\n",
              "      <th>271005</th>\n",
              "      <td>2271006.0</td>\n",
              "      <td>DAHLHEIM</td>\n",
              "      <td>NICHOLE</td>\n",
              "      <td>1.0</td>\n",
              "      <td>35.0</td>\n",
              "      <td>34700.0</td>\n",
              "      <td>University / College</td>\n",
              "      <td>City</td>\n",
              "      <td>0.0</td>\n",
              "      <td>0.0</td>\n",
              "      <td>...</td>\n",
              "      <td>NaN</td>\n",
              "      <td>NaN</td>\n",
              "      <td>NaN</td>\n",
              "      <td>NaN</td>\n",
              "      <td>NaN</td>\n",
              "      <td>NaN</td>\n",
              "      <td>0.0</td>\n",
              "      <td>0.0</td>\n",
              "      <td>0.0</td>\n",
              "      <td>0.0</td>\n",
              "    </tr>\n",
              "    <tr>\n",
              "      <th>468256</th>\n",
              "      <td>2468257.0</td>\n",
              "      <td>THOMAS</td>\n",
              "      <td>JERRY</td>\n",
              "      <td>0.0</td>\n",
              "      <td>26.0</td>\n",
              "      <td>108200.0</td>\n",
              "      <td>University / College</td>\n",
              "      <td>Rural</td>\n",
              "      <td>0.0</td>\n",
              "      <td>0.0</td>\n",
              "      <td>...</td>\n",
              "      <td>NaN</td>\n",
              "      <td>NaN</td>\n",
              "      <td>NaN</td>\n",
              "      <td>NaN</td>\n",
              "      <td>NaN</td>\n",
              "      <td>NaN</td>\n",
              "      <td>0.0</td>\n",
              "      <td>0.0</td>\n",
              "      <td>0.0</td>\n",
              "      <td>0.0</td>\n",
              "    </tr>\n",
              "    <tr>\n",
              "      <th>485501</th>\n",
              "      <td>2485502.0</td>\n",
              "      <td>STEPHENS</td>\n",
              "      <td>DEENA</td>\n",
              "      <td>1.0</td>\n",
              "      <td>21.0</td>\n",
              "      <td>3600.0</td>\n",
              "      <td>High School</td>\n",
              "      <td>Rural</td>\n",
              "      <td>0.0</td>\n",
              "      <td>0.0</td>\n",
              "      <td>...</td>\n",
              "      <td>NaN</td>\n",
              "      <td>NaN</td>\n",
              "      <td>NaN</td>\n",
              "      <td>NaN</td>\n",
              "      <td>NaN</td>\n",
              "      <td>NaN</td>\n",
              "      <td>0.0</td>\n",
              "      <td>0.0</td>\n",
              "      <td>0.0</td>\n",
              "      <td>0.0</td>\n",
              "    </tr>\n",
              "    <tr>\n",
              "      <th>89373</th>\n",
              "      <td>2089374.0</td>\n",
              "      <td>MORRISON</td>\n",
              "      <td>JASON</td>\n",
              "      <td>0.0</td>\n",
              "      <td>49.0</td>\n",
              "      <td>24300.0</td>\n",
              "      <td>High School</td>\n",
              "      <td>City</td>\n",
              "      <td>0.0</td>\n",
              "      <td>0.0</td>\n",
              "      <td>...</td>\n",
              "      <td>NaN</td>\n",
              "      <td>NaN</td>\n",
              "      <td>NaN</td>\n",
              "      <td>NaN</td>\n",
              "      <td>NaN</td>\n",
              "      <td>NaN</td>\n",
              "      <td>0.0</td>\n",
              "      <td>0.0</td>\n",
              "      <td>0.0</td>\n",
              "      <td>0.0</td>\n",
              "    </tr>\n",
              "    <tr>\n",
              "      <th>94443</th>\n",
              "      <td>2094444.0</td>\n",
              "      <td>SESSOMS</td>\n",
              "      <td>EMMA</td>\n",
              "      <td>1.0</td>\n",
              "      <td>48.0</td>\n",
              "      <td>111800.0</td>\n",
              "      <td>University / College</td>\n",
              "      <td>Suburban</td>\n",
              "      <td>0.0</td>\n",
              "      <td>0.0</td>\n",
              "      <td>...</td>\n",
              "      <td>NaN</td>\n",
              "      <td>NaN</td>\n",
              "      <td>NaN</td>\n",
              "      <td>NaN</td>\n",
              "      <td>NaN</td>\n",
              "      <td>NaN</td>\n",
              "      <td>0.0</td>\n",
              "      <td>0.0</td>\n",
              "      <td>0.0</td>\n",
              "      <td>0.0</td>\n",
              "    </tr>\n",
              "    <tr>\n",
              "      <th>302967</th>\n",
              "      <td>2302968.0</td>\n",
              "      <td>MORRISON</td>\n",
              "      <td>HORACE</td>\n",
              "      <td>0.0</td>\n",
              "      <td>44.0</td>\n",
              "      <td>1600.0</td>\n",
              "      <td>University / College</td>\n",
              "      <td>City</td>\n",
              "      <td>0.0</td>\n",
              "      <td>0.0</td>\n",
              "      <td>...</td>\n",
              "      <td>NaN</td>\n",
              "      <td>NaN</td>\n",
              "      <td>NaN</td>\n",
              "      <td>NaN</td>\n",
              "      <td>NaN</td>\n",
              "      <td>NaN</td>\n",
              "      <td>0.0</td>\n",
              "      <td>0.0</td>\n",
              "      <td>0.0</td>\n",
              "      <td>0.0</td>\n",
              "    </tr>\n",
              "    <tr>\n",
              "      <th>283188</th>\n",
              "      <td>2283189.0</td>\n",
              "      <td>NGUYEN</td>\n",
              "      <td>BEVERLY</td>\n",
              "      <td>1.0</td>\n",
              "      <td>35.0</td>\n",
              "      <td>16900.0</td>\n",
              "      <td>High School</td>\n",
              "      <td>Downtown</td>\n",
              "      <td>0.0</td>\n",
              "      <td>0.0</td>\n",
              "      <td>...</td>\n",
              "      <td>NaN</td>\n",
              "      <td>NaN</td>\n",
              "      <td>NaN</td>\n",
              "      <td>NaN</td>\n",
              "      <td>NaN</td>\n",
              "      <td>NaN</td>\n",
              "      <td>1.0</td>\n",
              "      <td>75.0</td>\n",
              "      <td>0.0</td>\n",
              "      <td>0.0</td>\n",
              "    </tr>\n",
              "    <tr>\n",
              "      <th>935577</th>\n",
              "      <td>2935578.0</td>\n",
              "      <td>WATSON</td>\n",
              "      <td>JON</td>\n",
              "      <td>0.0</td>\n",
              "      <td>57.0</td>\n",
              "      <td>105000.0</td>\n",
              "      <td>University / College</td>\n",
              "      <td>Suburban</td>\n",
              "      <td>0.0</td>\n",
              "      <td>0.0</td>\n",
              "      <td>...</td>\n",
              "      <td>NaN</td>\n",
              "      <td>NaN</td>\n",
              "      <td>NaN</td>\n",
              "      <td>NaN</td>\n",
              "      <td>NaN</td>\n",
              "      <td>NaN</td>\n",
              "      <td>0.0</td>\n",
              "      <td>0.0</td>\n",
              "      <td>0.0</td>\n",
              "      <td>0.0</td>\n",
              "    </tr>\n",
              "    <tr>\n",
              "      <th>21794</th>\n",
              "      <td>2021795.0</td>\n",
              "      <td>PATKAR</td>\n",
              "      <td>CHARLES</td>\n",
              "      <td>0.0</td>\n",
              "      <td>29.0</td>\n",
              "      <td>16100.0</td>\n",
              "      <td>University / College</td>\n",
              "      <td>City</td>\n",
              "      <td>0.0</td>\n",
              "      <td>0.0</td>\n",
              "      <td>...</td>\n",
              "      <td>NaN</td>\n",
              "      <td>NaN</td>\n",
              "      <td>NaN</td>\n",
              "      <td>NaN</td>\n",
              "      <td>NaN</td>\n",
              "      <td>NaN</td>\n",
              "      <td>0.0</td>\n",
              "      <td>0.0</td>\n",
              "      <td>1.0</td>\n",
              "      <td>30.0</td>\n",
              "    </tr>\n",
              "  </tbody>\n",
              "</table>\n",
              "<p>20 rows × 21 columns</p>\n",
              "</div>\n",
              "      <button class=\"colab-df-convert\" onclick=\"convertToInteractive('df-c6a6872e-5b49-44fe-9b7e-5b20913d27d5')\"\n",
              "              title=\"Convert this dataframe to an interactive table.\"\n",
              "              style=\"display:none;\">\n",
              "        \n",
              "  <svg xmlns=\"http://www.w3.org/2000/svg\" height=\"24px\"viewBox=\"0 0 24 24\"\n",
              "       width=\"24px\">\n",
              "    <path d=\"M0 0h24v24H0V0z\" fill=\"none\"/>\n",
              "    <path d=\"M18.56 5.44l.94 2.06.94-2.06 2.06-.94-2.06-.94-.94-2.06-.94 2.06-2.06.94zm-11 1L8.5 8.5l.94-2.06 2.06-.94-2.06-.94L8.5 2.5l-.94 2.06-2.06.94zm10 10l.94 2.06.94-2.06 2.06-.94-2.06-.94-.94-2.06-.94 2.06-2.06.94z\"/><path d=\"M17.41 7.96l-1.37-1.37c-.4-.4-.92-.59-1.43-.59-.52 0-1.04.2-1.43.59L10.3 9.45l-7.72 7.72c-.78.78-.78 2.05 0 2.83L4 21.41c.39.39.9.59 1.41.59.51 0 1.02-.2 1.41-.59l7.78-7.78 2.81-2.81c.8-.78.8-2.07 0-2.86zM5.41 20L4 18.59l7.72-7.72 1.47 1.35L5.41 20z\"/>\n",
              "  </svg>\n",
              "      </button>\n",
              "      \n",
              "  <style>\n",
              "    .colab-df-container {\n",
              "      display:flex;\n",
              "      flex-wrap:wrap;\n",
              "      gap: 12px;\n",
              "    }\n",
              "\n",
              "    .colab-df-convert {\n",
              "      background-color: #E8F0FE;\n",
              "      border: none;\n",
              "      border-radius: 50%;\n",
              "      cursor: pointer;\n",
              "      display: none;\n",
              "      fill: #1967D2;\n",
              "      height: 32px;\n",
              "      padding: 0 0 0 0;\n",
              "      width: 32px;\n",
              "    }\n",
              "\n",
              "    .colab-df-convert:hover {\n",
              "      background-color: #E2EBFA;\n",
              "      box-shadow: 0px 1px 2px rgba(60, 64, 67, 0.3), 0px 1px 3px 1px rgba(60, 64, 67, 0.15);\n",
              "      fill: #174EA6;\n",
              "    }\n",
              "\n",
              "    [theme=dark] .colab-df-convert {\n",
              "      background-color: #3B4455;\n",
              "      fill: #D2E3FC;\n",
              "    }\n",
              "\n",
              "    [theme=dark] .colab-df-convert:hover {\n",
              "      background-color: #434B5C;\n",
              "      box-shadow: 0px 1px 3px 1px rgba(0, 0, 0, 0.15);\n",
              "      filter: drop-shadow(0px 1px 2px rgba(0, 0, 0, 0.3));\n",
              "      fill: #FFFFFF;\n",
              "    }\n",
              "  </style>\n",
              "\n",
              "      <script>\n",
              "        const buttonEl =\n",
              "          document.querySelector('#df-c6a6872e-5b49-44fe-9b7e-5b20913d27d5 button.colab-df-convert');\n",
              "        buttonEl.style.display =\n",
              "          google.colab.kernel.accessAllowed ? 'block' : 'none';\n",
              "\n",
              "        async function convertToInteractive(key) {\n",
              "          const element = document.querySelector('#df-c6a6872e-5b49-44fe-9b7e-5b20913d27d5');\n",
              "          const dataTable =\n",
              "            await google.colab.kernel.invokeFunction('convertToInteractive',\n",
              "                                                     [key], {});\n",
              "          if (!dataTable) return;\n",
              "\n",
              "          const docLinkHtml = 'Like what you see? Visit the ' +\n",
              "            '<a target=\"_blank\" href=https://colab.research.google.com/notebooks/data_table.ipynb>data table notebook</a>'\n",
              "            + ' to learn more about interactive tables.';\n",
              "          element.innerHTML = '';\n",
              "          dataTable['output_type'] = 'display_data';\n",
              "          await google.colab.output.renderOutput(dataTable, element);\n",
              "          const docLink = document.createElement('div');\n",
              "          docLink.innerHTML = docLinkHtml;\n",
              "          element.appendChild(docLink);\n",
              "        }\n",
              "      </script>\n",
              "    </div>\n",
              "  </div>\n",
              "  "
            ]
          },
          "metadata": {},
          "execution_count": 86
        }
      ]
    },
    {
      "cell_type": "code",
      "source": [
        "df[df['SeniorList'] == 0].info()"
      ],
      "metadata": {
        "colab": {
          "base_uri": "https://localhost:8080/"
        },
        "id": "KrWYuP2-Hoa2",
        "outputId": "85f58dfe-98fa-4c5b-9e40-79d34cbc7255"
      },
      "id": "KrWYuP2-Hoa2",
      "execution_count": null,
      "outputs": [
        {
          "output_type": "stream",
          "name": "stdout",
          "text": [
            "<class 'pandas.core.frame.DataFrame'>\n",
            "Int64Index: 166199 entries, 6 to 999998\n",
            "Data columns (total 21 columns):\n",
            " #   Column        Non-Null Count   Dtype  \n",
            "---  ------        --------------   -----  \n",
            " 0   ID            166199 non-null  float64\n",
            " 1   LastName      166197 non-null  object \n",
            " 2   FirstName     166199 non-null  object \n",
            " 3   Woman         166199 non-null  float64\n",
            " 4   Age           166199 non-null  float64\n",
            " 5   Salary        166199 non-null  float64\n",
            " 6   Education     166199 non-null  object \n",
            " 7   City          166199 non-null  object \n",
            " 8   SeniorList    166199 non-null  float64\n",
            " 9   NbActivities  166199 non-null  float64\n",
            " 10  Referrals     166199 non-null  float64\n",
            " 11  Recency       0 non-null       float64\n",
            " 12  Frequency     0 non-null       float64\n",
            " 13  Seniority     0 non-null       float64\n",
            " 14  TotalGift     0 non-null       float64\n",
            " 15  MinGift       0 non-null       float64\n",
            " 16  MaxGift       0 non-null       float64\n",
            " 17  GaveLastYear  166199 non-null  float64\n",
            " 18  AmtLastYear   166199 non-null  float64\n",
            " 19  GaveThisYear  166199 non-null  float64\n",
            " 20  AmtThisYear   166199 non-null  float64\n",
            "dtypes: float64(17), object(4)\n",
            "memory usage: 27.9+ MB\n"
          ]
        }
      ]
    },
    {
      "cell_type": "code",
      "source": [
        "df[df['SeniorList'] > 0].info()"
      ],
      "metadata": {
        "colab": {
          "base_uri": "https://localhost:8080/"
        },
        "id": "af1fs439nxHz",
        "outputId": "dca55c71-bca5-409a-abff-cc45b4c58848"
      },
      "id": "af1fs439nxHz",
      "execution_count": null,
      "outputs": [
        {
          "output_type": "stream",
          "name": "stdout",
          "text": [
            "<class 'pandas.core.frame.DataFrame'>\n",
            "Int64Index: 833801 entries, 0 to 999999\n",
            "Data columns (total 21 columns):\n",
            " #   Column        Non-Null Count   Dtype  \n",
            "---  ------        --------------   -----  \n",
            " 0   ID            833801 non-null  float64\n",
            " 1   LastName      833780 non-null  object \n",
            " 2   FirstName     833797 non-null  object \n",
            " 3   Woman         833801 non-null  float64\n",
            " 4   Age           833801 non-null  float64\n",
            " 5   Salary        833801 non-null  float64\n",
            " 6   Education     833801 non-null  object \n",
            " 7   City          833801 non-null  object \n",
            " 8   SeniorList    833801 non-null  float64\n",
            " 9   NbActivities  833801 non-null  float64\n",
            " 10  Referrals     833801 non-null  float64\n",
            " 11  Recency       336334 non-null  float64\n",
            " 12  Frequency     336334 non-null  float64\n",
            " 13  Seniority     336334 non-null  float64\n",
            " 14  TotalGift     336334 non-null  float64\n",
            " 15  MinGift       336334 non-null  float64\n",
            " 16  MaxGift       336334 non-null  float64\n",
            " 17  GaveLastYear  833801 non-null  float64\n",
            " 18  AmtLastYear   833801 non-null  float64\n",
            " 19  GaveThisYear  833801 non-null  float64\n",
            " 20  AmtThisYear   833801 non-null  float64\n",
            "dtypes: float64(17), object(4)\n",
            "memory usage: 140.0+ MB\n"
          ]
        }
      ]
    },
    {
      "cell_type": "code",
      "source": [
        "df[df['MinGift'].isna()].sample(5)"
      ],
      "metadata": {
        "colab": {
          "base_uri": "https://localhost:8080/",
          "height": 386
        },
        "id": "hqoRGCuoIEh8",
        "outputId": "f4ca9c1e-00c7-41b1-d379-5cda2f85b06a"
      },
      "id": "hqoRGCuoIEh8",
      "execution_count": null,
      "outputs": [
        {
          "output_type": "execute_result",
          "data": {
            "text/plain": [
              "               ID    LastName  FirstName  Woman   Age    Salary  \\\n",
              "953593  2953594.0     STRACHE   JERMAINE    0.0  55.0  109400.0   \n",
              "230748  2230749.0       OCHOA  FREDERICK    0.0  23.0   67900.0   \n",
              "576716  2576717.0     HOPKINS      KATHY    1.0  82.0   17200.0   \n",
              "804083  2804084.0     BARNETT       AIKO    1.0  42.0    5300.0   \n",
              "55940   2055941.0  RAMKISSOON      KATIE    1.0  70.0   11200.0   \n",
              "\n",
              "                   Education  City  SeniorList  NbActivities  ...  Recency  \\\n",
              "953593  University / College  City         8.0           0.0  ...      NaN   \n",
              "230748  University / College  City         6.0           1.0  ...      NaN   \n",
              "576716  University / College  City         0.0           0.0  ...      NaN   \n",
              "804083           High School  City         4.0           0.0  ...      NaN   \n",
              "55940   University / College  City        10.0           0.0  ...      NaN   \n",
              "\n",
              "        Frequency  Seniority  TotalGift  MinGift  MaxGift  GaveLastYear  \\\n",
              "953593        NaN        NaN        NaN      NaN      NaN           1.0   \n",
              "230748        NaN        NaN        NaN      NaN      NaN           1.0   \n",
              "576716        NaN        NaN        NaN      NaN      NaN           1.0   \n",
              "804083        NaN        NaN        NaN      NaN      NaN           0.0   \n",
              "55940         NaN        NaN        NaN      NaN      NaN           0.0   \n",
              "\n",
              "        AmtLastYear  GaveThisYear  AmtThisYear  \n",
              "953593         30.0           0.0          0.0  \n",
              "230748         20.0           0.0          0.0  \n",
              "576716         50.0           0.0          0.0  \n",
              "804083          0.0           0.0          0.0  \n",
              "55940           0.0           0.0          0.0  \n",
              "\n",
              "[5 rows x 21 columns]"
            ],
            "text/html": [
              "\n",
              "  <div id=\"df-2edfe537-e1b0-4571-b9fe-c65c0ab99f0c\">\n",
              "    <div class=\"colab-df-container\">\n",
              "      <div>\n",
              "<style scoped>\n",
              "    .dataframe tbody tr th:only-of-type {\n",
              "        vertical-align: middle;\n",
              "    }\n",
              "\n",
              "    .dataframe tbody tr th {\n",
              "        vertical-align: top;\n",
              "    }\n",
              "\n",
              "    .dataframe thead th {\n",
              "        text-align: right;\n",
              "    }\n",
              "</style>\n",
              "<table border=\"1\" class=\"dataframe\">\n",
              "  <thead>\n",
              "    <tr style=\"text-align: right;\">\n",
              "      <th></th>\n",
              "      <th>ID</th>\n",
              "      <th>LastName</th>\n",
              "      <th>FirstName</th>\n",
              "      <th>Woman</th>\n",
              "      <th>Age</th>\n",
              "      <th>Salary</th>\n",
              "      <th>Education</th>\n",
              "      <th>City</th>\n",
              "      <th>SeniorList</th>\n",
              "      <th>NbActivities</th>\n",
              "      <th>...</th>\n",
              "      <th>Recency</th>\n",
              "      <th>Frequency</th>\n",
              "      <th>Seniority</th>\n",
              "      <th>TotalGift</th>\n",
              "      <th>MinGift</th>\n",
              "      <th>MaxGift</th>\n",
              "      <th>GaveLastYear</th>\n",
              "      <th>AmtLastYear</th>\n",
              "      <th>GaveThisYear</th>\n",
              "      <th>AmtThisYear</th>\n",
              "    </tr>\n",
              "  </thead>\n",
              "  <tbody>\n",
              "    <tr>\n",
              "      <th>953593</th>\n",
              "      <td>2953594.0</td>\n",
              "      <td>STRACHE</td>\n",
              "      <td>JERMAINE</td>\n",
              "      <td>0.0</td>\n",
              "      <td>55.0</td>\n",
              "      <td>109400.0</td>\n",
              "      <td>University / College</td>\n",
              "      <td>City</td>\n",
              "      <td>8.0</td>\n",
              "      <td>0.0</td>\n",
              "      <td>...</td>\n",
              "      <td>NaN</td>\n",
              "      <td>NaN</td>\n",
              "      <td>NaN</td>\n",
              "      <td>NaN</td>\n",
              "      <td>NaN</td>\n",
              "      <td>NaN</td>\n",
              "      <td>1.0</td>\n",
              "      <td>30.0</td>\n",
              "      <td>0.0</td>\n",
              "      <td>0.0</td>\n",
              "    </tr>\n",
              "    <tr>\n",
              "      <th>230748</th>\n",
              "      <td>2230749.0</td>\n",
              "      <td>OCHOA</td>\n",
              "      <td>FREDERICK</td>\n",
              "      <td>0.0</td>\n",
              "      <td>23.0</td>\n",
              "      <td>67900.0</td>\n",
              "      <td>University / College</td>\n",
              "      <td>City</td>\n",
              "      <td>6.0</td>\n",
              "      <td>1.0</td>\n",
              "      <td>...</td>\n",
              "      <td>NaN</td>\n",
              "      <td>NaN</td>\n",
              "      <td>NaN</td>\n",
              "      <td>NaN</td>\n",
              "      <td>NaN</td>\n",
              "      <td>NaN</td>\n",
              "      <td>1.0</td>\n",
              "      <td>20.0</td>\n",
              "      <td>0.0</td>\n",
              "      <td>0.0</td>\n",
              "    </tr>\n",
              "    <tr>\n",
              "      <th>576716</th>\n",
              "      <td>2576717.0</td>\n",
              "      <td>HOPKINS</td>\n",
              "      <td>KATHY</td>\n",
              "      <td>1.0</td>\n",
              "      <td>82.0</td>\n",
              "      <td>17200.0</td>\n",
              "      <td>University / College</td>\n",
              "      <td>City</td>\n",
              "      <td>0.0</td>\n",
              "      <td>0.0</td>\n",
              "      <td>...</td>\n",
              "      <td>NaN</td>\n",
              "      <td>NaN</td>\n",
              "      <td>NaN</td>\n",
              "      <td>NaN</td>\n",
              "      <td>NaN</td>\n",
              "      <td>NaN</td>\n",
              "      <td>1.0</td>\n",
              "      <td>50.0</td>\n",
              "      <td>0.0</td>\n",
              "      <td>0.0</td>\n",
              "    </tr>\n",
              "    <tr>\n",
              "      <th>804083</th>\n",
              "      <td>2804084.0</td>\n",
              "      <td>BARNETT</td>\n",
              "      <td>AIKO</td>\n",
              "      <td>1.0</td>\n",
              "      <td>42.0</td>\n",
              "      <td>5300.0</td>\n",
              "      <td>High School</td>\n",
              "      <td>City</td>\n",
              "      <td>4.0</td>\n",
              "      <td>0.0</td>\n",
              "      <td>...</td>\n",
              "      <td>NaN</td>\n",
              "      <td>NaN</td>\n",
              "      <td>NaN</td>\n",
              "      <td>NaN</td>\n",
              "      <td>NaN</td>\n",
              "      <td>NaN</td>\n",
              "      <td>0.0</td>\n",
              "      <td>0.0</td>\n",
              "      <td>0.0</td>\n",
              "      <td>0.0</td>\n",
              "    </tr>\n",
              "    <tr>\n",
              "      <th>55940</th>\n",
              "      <td>2055941.0</td>\n",
              "      <td>RAMKISSOON</td>\n",
              "      <td>KATIE</td>\n",
              "      <td>1.0</td>\n",
              "      <td>70.0</td>\n",
              "      <td>11200.0</td>\n",
              "      <td>University / College</td>\n",
              "      <td>City</td>\n",
              "      <td>10.0</td>\n",
              "      <td>0.0</td>\n",
              "      <td>...</td>\n",
              "      <td>NaN</td>\n",
              "      <td>NaN</td>\n",
              "      <td>NaN</td>\n",
              "      <td>NaN</td>\n",
              "      <td>NaN</td>\n",
              "      <td>NaN</td>\n",
              "      <td>0.0</td>\n",
              "      <td>0.0</td>\n",
              "      <td>0.0</td>\n",
              "      <td>0.0</td>\n",
              "    </tr>\n",
              "  </tbody>\n",
              "</table>\n",
              "<p>5 rows × 21 columns</p>\n",
              "</div>\n",
              "      <button class=\"colab-df-convert\" onclick=\"convertToInteractive('df-2edfe537-e1b0-4571-b9fe-c65c0ab99f0c')\"\n",
              "              title=\"Convert this dataframe to an interactive table.\"\n",
              "              style=\"display:none;\">\n",
              "        \n",
              "  <svg xmlns=\"http://www.w3.org/2000/svg\" height=\"24px\"viewBox=\"0 0 24 24\"\n",
              "       width=\"24px\">\n",
              "    <path d=\"M0 0h24v24H0V0z\" fill=\"none\"/>\n",
              "    <path d=\"M18.56 5.44l.94 2.06.94-2.06 2.06-.94-2.06-.94-.94-2.06-.94 2.06-2.06.94zm-11 1L8.5 8.5l.94-2.06 2.06-.94-2.06-.94L8.5 2.5l-.94 2.06-2.06.94zm10 10l.94 2.06.94-2.06 2.06-.94-2.06-.94-.94-2.06-.94 2.06-2.06.94z\"/><path d=\"M17.41 7.96l-1.37-1.37c-.4-.4-.92-.59-1.43-.59-.52 0-1.04.2-1.43.59L10.3 9.45l-7.72 7.72c-.78.78-.78 2.05 0 2.83L4 21.41c.39.39.9.59 1.41.59.51 0 1.02-.2 1.41-.59l7.78-7.78 2.81-2.81c.8-.78.8-2.07 0-2.86zM5.41 20L4 18.59l7.72-7.72 1.47 1.35L5.41 20z\"/>\n",
              "  </svg>\n",
              "      </button>\n",
              "      \n",
              "  <style>\n",
              "    .colab-df-container {\n",
              "      display:flex;\n",
              "      flex-wrap:wrap;\n",
              "      gap: 12px;\n",
              "    }\n",
              "\n",
              "    .colab-df-convert {\n",
              "      background-color: #E8F0FE;\n",
              "      border: none;\n",
              "      border-radius: 50%;\n",
              "      cursor: pointer;\n",
              "      display: none;\n",
              "      fill: #1967D2;\n",
              "      height: 32px;\n",
              "      padding: 0 0 0 0;\n",
              "      width: 32px;\n",
              "    }\n",
              "\n",
              "    .colab-df-convert:hover {\n",
              "      background-color: #E2EBFA;\n",
              "      box-shadow: 0px 1px 2px rgba(60, 64, 67, 0.3), 0px 1px 3px 1px rgba(60, 64, 67, 0.15);\n",
              "      fill: #174EA6;\n",
              "    }\n",
              "\n",
              "    [theme=dark] .colab-df-convert {\n",
              "      background-color: #3B4455;\n",
              "      fill: #D2E3FC;\n",
              "    }\n",
              "\n",
              "    [theme=dark] .colab-df-convert:hover {\n",
              "      background-color: #434B5C;\n",
              "      box-shadow: 0px 1px 3px 1px rgba(0, 0, 0, 0.15);\n",
              "      filter: drop-shadow(0px 1px 2px rgba(0, 0, 0, 0.3));\n",
              "      fill: #FFFFFF;\n",
              "    }\n",
              "  </style>\n",
              "\n",
              "      <script>\n",
              "        const buttonEl =\n",
              "          document.querySelector('#df-2edfe537-e1b0-4571-b9fe-c65c0ab99f0c button.colab-df-convert');\n",
              "        buttonEl.style.display =\n",
              "          google.colab.kernel.accessAllowed ? 'block' : 'none';\n",
              "\n",
              "        async function convertToInteractive(key) {\n",
              "          const element = document.querySelector('#df-2edfe537-e1b0-4571-b9fe-c65c0ab99f0c');\n",
              "          const dataTable =\n",
              "            await google.colab.kernel.invokeFunction('convertToInteractive',\n",
              "                                                     [key], {});\n",
              "          if (!dataTable) return;\n",
              "\n",
              "          const docLinkHtml = 'Like what you see? Visit the ' +\n",
              "            '<a target=\"_blank\" href=https://colab.research.google.com/notebooks/data_table.ipynb>data table notebook</a>'\n",
              "            + ' to learn more about interactive tables.';\n",
              "          element.innerHTML = '';\n",
              "          dataTable['output_type'] = 'display_data';\n",
              "          await google.colab.output.renderOutput(dataTable, element);\n",
              "          const docLink = document.createElement('div');\n",
              "          docLink.innerHTML = docLinkHtml;\n",
              "          element.appendChild(docLink);\n",
              "        }\n",
              "      </script>\n",
              "    </div>\n",
              "  </div>\n",
              "  "
            ]
          },
          "metadata": {},
          "execution_count": 90
        }
      ]
    },
    {
      "cell_type": "markdown",
      "source": [
        "## Data preprocessing"
      ],
      "metadata": {
        "id": "H-YaNyX5mmSI"
      },
      "id": "H-YaNyX5mmSI"
    },
    {
      "cell_type": "code",
      "source": [
        "def drop_cols(df):\n",
        "  return df.drop(columns=['LastName', 'FirstName'])"
      ],
      "metadata": {
        "id": "J88dG03Tmlne"
      },
      "id": "J88dG03Tmlne",
      "execution_count": null,
      "outputs": []
    },
    {
      "cell_type": "code",
      "source": [
        "def dummies(df):\n",
        "  df = pd.concat([df, pd.get_dummies(df[\"Education\"])], axis = 1)\n",
        "  df = df.drop('Education', axis = 1)\n",
        "\n",
        "  df = pd.concat([df, pd.get_dummies(df[\"City\"])], axis = 1)\n",
        "  return df.drop('City', axis = 1)"
      ],
      "metadata": {
        "id": "HLQ-HVCv4PHS"
      },
      "id": "HLQ-HVCv4PHS",
      "execution_count": null,
      "outputs": []
    },
    {
      "cell_type": "markdown",
      "source": [
        "### Llenar NA Values"
      ],
      "metadata": {
        "id": "baRgti-NzzKu"
      },
      "id": "baRgti-NzzKu"
    },
    {
      "cell_type": "code",
      "source": [
        "def fill_na(df, MAX_FILL):\n",
        "  df.loc[df['Recency'].isna(), 'Recency'] = MAX_FILL\n",
        "  df.loc[df['Frequency'].isna(), 'Frequency'] = 0\n",
        "  df.loc[df['Seniority'].isna(), 'Seniority'] = MAX_FILL\n",
        "  df.loc[df['TotalGift'].isna(), 'TotalGift'] = 0\n",
        "  df.loc[df['MinGift'].isna(), 'MinGift'] = 0\n",
        "  df.loc[df['MaxGift'].isna(), 'MaxGift'] = 0\n",
        "  return df"
      ],
      "metadata": {
        "id": "O-fQQiKp0ixT"
      },
      "id": "O-fQQiKp0ixT",
      "execution_count": null,
      "outputs": []
    },
    {
      "cell_type": "code",
      "source": [
        "def rename_df(df):\n",
        "  return df.rename(columns = {\"AmtLastYear\" : \"AmtGiven\", \"GaveLastYear\": \"Gave\"})"
      ],
      "metadata": {
        "id": "C8AK5M4VojAG"
      },
      "id": "C8AK5M4VojAG",
      "execution_count": null,
      "outputs": []
    },
    {
      "cell_type": "code",
      "source": [
        "def update_df2(df2, MAX_FILL):\n",
        "  df2.loc[df2['Gave'] == 1, 'Recency'] = 1\n",
        "  df2.loc[(df2['Gave'] == 0) & (df2['Recency'] < MAX_FILL), 'Recency'] += 1\n",
        "  df2.loc[df2['Gave'] == 1, 'Frequency'] += 1\n",
        "  df2.loc[(df2['Gave'] == 1) & (df2['Seniority'] == MAX_FILL), 'Seniority'] = 1\n",
        "  df2.loc[df2['Seniority'] < MAX_FILL, 'Seniority'] += 1\n",
        "  df2['TotalGift'] += df2['AmtGiven']\n",
        "  df2.loc[df2['Gave'] == 1 & ((df2['MinGift'] > df2['AmtGiven']) | (df2['MinGift'] == 0)), 'MinGift'] = df2['AmtGiven']\n",
        "  df2.loc[(df2['MaxGift'] < df2['AmtGiven']), 'MaxGift'] = df2['AmtGiven']\n",
        "  df2 = df2.drop(['AmtGiven', 'Gave'], axis=1)\n",
        "  return df2"
      ],
      "metadata": {
        "id": "Po61z7fzqb3c"
      },
      "id": "Po61z7fzqb3c",
      "execution_count": null,
      "outputs": []
    },
    {
      "cell_type": "code",
      "source": [
        "def rename_df2(df2):\n",
        "    return df2.rename(columns = {\"AmtThisYear\" : \"AmtGiven\", \"GaveThisYear\": \"Gave\"})"
      ],
      "metadata": {
        "id": "trd-BJnB1Ryg"
      },
      "id": "trd-BJnB1Ryg",
      "execution_count": null,
      "outputs": []
    },
    {
      "cell_type": "code",
      "source": [
        "def drop_df(df):\n",
        "  return df.drop(['AmtThisYear', 'GaveThisYear'], axis=1)"
      ],
      "metadata": {
        "id": "TZ4LcQsq45MV"
      },
      "id": "TZ4LcQsq45MV",
      "execution_count": null,
      "outputs": []
    },
    {
      "cell_type": "code",
      "source": [
        "def add_vars(data):\n",
        "  data['JustGave'] = 0\n",
        "  data.loc[data['Recency'] == 1, 'JustGave'] = 1\n",
        "  data['MeanGift'] = data['TotalGift'] / data['Frequency']\n",
        "  data.loc[data['MeanGift'].isna(), 'MeanGift'] = 0\n",
        "  return data  "
      ],
      "metadata": {
        "id": "g2XLVGTxYE1E"
      },
      "id": "g2XLVGTxYE1E",
      "execution_count": null,
      "outputs": []
    },
    {
      "cell_type": "code",
      "source": [
        "def preprocess(data, train):\n",
        "  df = data.copy()\n",
        "  df = drop_cols(df)\n",
        "  df = dummies(df)\n",
        "  MAX_FILL = 100\n",
        "  df = fill_na(df, MAX_FILL)\n",
        "  df = rename_df(df)\n",
        "  df2 = df.copy()\n",
        "  df2 = update_df2(df2, MAX_FILL)\n",
        "\n",
        "  if train == True:\n",
        "    df2 = rename_df2(df2)\n",
        "    df = drop_df(df)\n",
        "    double_data = df.append(df2)\n",
        "    double_data = add_vars(double_data)\n",
        "    return double_data\n",
        "  else:\n",
        "    df2 = add_vars(df2)\n",
        "    return df2"
      ],
      "metadata": {
        "id": "28nRsX3W5teq"
      },
      "id": "28nRsX3W5teq",
      "execution_count": null,
      "outputs": []
    },
    {
      "cell_type": "code",
      "source": [
        "double_data = preprocess(data_merge, train = True)\n",
        "double_data.to_csv('PreprocessedDouble.csv', index=False)"
      ],
      "metadata": {
        "id": "Z_N6Sb69AaVk"
      },
      "id": "Z_N6Sb69AaVk",
      "execution_count": null,
      "outputs": []
    },
    {
      "cell_type": "code",
      "source": [
        "# data_merge = drop_cols(data_merge)\n",
        "# data_merge.dropna(inplace =True)\n",
        "# data_merge.info()\n",
        "# data_merge.to_csv('DataMergeOriginalNotNull.csv', index=False)\n",
        "# data_merge.sort_values([\"Recency\"], axis = 0, ascending = True,\n",
        "#                  inplace = True, na_position ='last')\n",
        "# data_merge.head(50)"
      ],
      "metadata": {
        "id": "j1BeLSCUc3pY"
      },
      "id": "j1BeLSCUc3pY",
      "execution_count": null,
      "outputs": []
    },
    {
      "cell_type": "code",
      "source": [
        "plt.figure(figsize=(14,14))\n",
        "sns.heatmap(double_data.corr(), cmap=\"RdYlBu\", \n",
        "    annot=True, square=True,\n",
        "    vmin=-1, vmax=1, fmt=\"+.3f\")\n",
        "plt.title(\"Correlation matrix for the Cortex Fundraising dataset\")"
      ],
      "metadata": {
        "colab": {
          "base_uri": "https://localhost:8080/"
        },
        "id": "ljN3KOqnve2P",
        "outputId": "f1b0eeb4-2c51-4934-9890-9ea16d6b34f8"
      },
      "id": "ljN3KOqnve2P",
      "execution_count": null,
      "outputs": [
        {
          "output_type": "execute_result",
          "data": {
            "text/plain": [
              "Text(0.5, 1.0, 'Correlation matrix for the Cortex Fundraising dataset')"
            ]
          },
          "metadata": {},
          "execution_count": 26
        },
        {
          "output_type": "display_data",
          "data": {
            "text/plain": [
              "<Figure size 1008x1008 with 2 Axes>"
            ],
            "image/png": "[encoded data removed]"
          },
          "metadata": {
            "needs_background": "light"
          }
        }
      ]
    },
    {
      "cell_type": "markdown",
      "source": [
        "# Models Felipe"
      ],
      "metadata": {
        "id": "cP5XyA-AKlrh"
      },
      "id": "cP5XyA-AKlrh"
    },
    {
      "cell_type": "markdown",
      "id": "11f80a12-8482-4d72-8c10-656f5d1fe657",
      "metadata": {
        "id": "11f80a12-8482-4d72-8c10-656f5d1fe657"
      },
      "source": [
        "## Treat Missing Values\n",
        "\n",
        "> Please be aware that deleting all missing values can induce a selection bias. \n",
        "Some missing values are very informative. For example, when MinGift is missing, it means that the donor never gave in the past 10 years (leading to but excluding last year). Instead of deleting this information, replacing it by 0 is more appropriate!\n",
        "\n",
        "> A good understanding of the business case and the data can help you come up with more appropriate strategies to deal with missing values.\n"
      ]
    },
    {
      "cell_type": "markdown",
      "id": "9b861046-5968-4601-bd4b-b6510f1bf5b9",
      "metadata": {
        "id": "9b861046-5968-4601-bd4b-b6510f1bf5b9"
      },
      "source": [
        "## Data Partition"
      ]
    },
    {
      "cell_type": "code",
      "source": [
        "# # Only donors\n",
        "double_data = double_data[double_data['Gave'] == 1]\n",
        "double_data.to_csv('PreprocessedDoubleGave.csv', index=False)"
      ],
      "metadata": {
        "id": "y8guJkSFzoN8"
      },
      "id": "y8guJkSFzoN8",
      "execution_count": null,
      "outputs": []
    },
    {
      "cell_type": "code",
      "execution_count": null,
      "id": "f4bf6498-b18c-400d-9202-bb466d1272df",
      "metadata": {
        "collapsed": true,
        "id": "f4bf6498-b18c-400d-9202-bb466d1272df"
      },
      "outputs": [],
      "source": [
        "# All data doubled\n",
        "# double_data = pd.read_csv('PreprocessedDouble.csv')\n",
        "double_data = pd.read_csv('PreprocessedDoubleGave.csv')\n",
        "from sklearn.model_selection import train_test_split\n",
        "train, validation = train_test_split(double_data, test_size=0.1, random_state=12345)"
      ]
    },
    {
      "cell_type": "markdown",
      "id": "3396591b",
      "metadata": {
        "id": "3396591b"
      },
      "source": [
        "## Prebuilt Models to Predict donation amount\n",
        "***\n",
        "\n",
        "### **Linear Regression Model**\n",
        "\n",
        "\n",
        "> The [sk-learn library](https://scikit-learn.org/stable/index.html ) offers more advanced models.\n"
      ]
    },
    {
      "cell_type": "code",
      "source": [
        "double_data.columns"
      ],
      "metadata": {
        "colab": {
          "base_uri": "https://localhost:8080/"
        },
        "id": "ZZT1SzC6FoUx",
        "outputId": "05ee98dd-80dc-41b3-b952-4bdd0578a0c1"
      },
      "id": "ZZT1SzC6FoUx",
      "execution_count": null,
      "outputs": [
        {
          "output_type": "execute_result",
          "data": {
            "text/plain": [
              "Index(['ID', 'Woman', 'Age', 'Salary', 'SeniorList', 'NbActivities',\n",
              "       'Referrals', 'Recency', 'Frequency', 'Seniority', 'TotalGift',\n",
              "       'MinGift', 'MaxGift', 'Gave', 'AmtGiven', 'Elementary', 'High School',\n",
              "       'University / College', 'Downtown', 'Rural', 'Suburban', 'JustGave',\n",
              "       'MeanGift'],\n",
              "      dtype='object')"
            ]
          },
          "metadata": {},
          "execution_count": 76
        }
      ]
    },
    {
      "cell_type": "code",
      "execution_count": null,
      "id": "0833fb2d-554c-4e3b-933c-9a35828fd912",
      "metadata": {
        "collapsed": true,
        "id": "0833fb2d-554c-4e3b-933c-9a35828fd912"
      },
      "outputs": [],
      "source": [
        "from sklearn import linear_model, preprocessing\n",
        "from sklearn.tree import DecisionTreeRegressor, plot_tree\n",
        "from sklearn.neural_network import MLPRegressor\n",
        "# from sklearn.naive_bayes import MultinomialNB\n",
        "from sklearn.ensemble import RandomForestClassifier, AdaBoostRegressor\n",
        "import numpy as np\n",
        "from sklearn import metrics\n",
        "import xgboost as xgb\n",
        "\n",
        "\n",
        "# predictors = ['Woman', 'Age', 'Salary', 'SeniorList', 'NbActivities',\n",
        "#        'Referrals', 'Recency', 'Frequency', 'Seniority', 'TotalGift',\n",
        "#        'MinGift', 'MaxGift', 'Elementary', 'High School',\n",
        "#        'University / College', 'Downtown', 'Rural', 'Suburban', 'JustGave',\n",
        "#        'MeanGift']\n",
        "\n",
        "# predictors = ['Age', 'Referrals', 'SeniorList','MinGift', 'Woman', 'NbActivities', 'JustGave', 'Frequency']\n",
        "\n",
        "# Predictors only Gave = 1\n",
        "predictors = ['Woman', 'Age', 'Salary', 'SeniorList', 'NbActivities',\n",
        "       'Referrals', 'Recency', 'Frequency', 'Seniority', 'TotalGift',\n",
        "       'MinGift', 'MaxGift', 'Rural', 'JustGave', 'MeanGift']\n",
        "\n",
        "X_train = train[predictors] \n",
        "Y_train = train['AmtGiven']\n",
        "X_valid = validation[predictors] \n",
        "Y_valid = validation['AmtGiven']\n",
        "\n",
        "# Sacler\n",
        "# scaler = preprocessing.StandardScaler().fit(X_train)\n",
        "# X_train = pd.DataFrame(scaler.transform(X_train))\n",
        "# X_valid = pd.DataFrame(scaler.transform(X_valid))\n",
        "\n",
        "# Models tried\n",
        "# regr = linear_model.LinearRegression()\n",
        "regr = DecisionTreeRegressor(max_depth=7)\n",
        "# regr = MLPRegressor(random_state=1, max_iter=500, early_stopping=True)\n",
        "# regr = linear_model.BayesianRidge()\n",
        "# regr = MultinomialNB() # Malo\n",
        "# regr = RandomForestClassifier(n_estimators=30, max_depth=None, min_samples_split=2, random_state=0, max_features=None)\n",
        "# regr = AdaBoostRegressor(DecisionTreeRegressor(max_depth=4), n_estimators=2)\n",
        "# regr = xgb.XGBRegressor(objective=\"reg:linear\", random_state=42)\n",
        "\n",
        "regr.fit(X_train,Y_train)\n",
        "regr_predict=regr.predict(X_valid)"
      ]
    },
    {
      "cell_type": "code",
      "source": [
        "validation[\"Pred\"] = regr_predict\n",
        "validation[[\"AmtGiven\", \"Pred\"]].sample(10)\n",
        "# great = validation.loc[validation[\"AmtGiven\"] > 400]\n",
        "# great[[\"AmtGiven\", \"Pred\"]].head(10)"
      ],
      "metadata": {
        "colab": {
          "base_uri": "https://localhost:8080/",
          "height": 363
        },
        "id": "kuPJzn-CGGzf",
        "outputId": "1981a21f-3cac-4443-fda6-8806742d7c78"
      },
      "id": "kuPJzn-CGGzf",
      "execution_count": null,
      "outputs": [
        {
          "output_type": "execute_result",
          "data": {
            "text/plain": [
              "        AmtGiven        Pred\n",
              "114733      30.0   53.127382\n",
              "38098       10.0   62.185843\n",
              "225433      25.0   62.678150\n",
              "1715        20.0   37.775828\n",
              "142192      40.0  121.176658\n",
              "217366      25.0   44.358454\n",
              "156853      20.0   62.185843\n",
              "84108       25.0   47.963204\n",
              "226317      30.0   47.963204\n",
              "49678       50.0   48.135236"
            ],
            "text/html": [
              "\n",
              "  <div id=\"df-a01d8489-1e5e-4fa1-b8b9-e49b308d68cf\">\n",
              "    <div class=\"colab-df-container\">\n",
              "      <div>\n",
              "<style scoped>\n",
              "    .dataframe tbody tr th:only-of-type {\n",
              "        vertical-align: middle;\n",
              "    }\n",
              "\n",
              "    .dataframe tbody tr th {\n",
              "        vertical-align: top;\n",
              "    }\n",
              "\n",
              "    .dataframe thead th {\n",
              "        text-align: right;\n",
              "    }\n",
              "</style>\n",
              "<table border=\"1\" class=\"dataframe\">\n",
              "  <thead>\n",
              "    <tr style=\"text-align: right;\">\n",
              "      <th></th>\n",
              "      <th>AmtGiven</th>\n",
              "      <th>Pred</th>\n",
              "    </tr>\n",
              "  </thead>\n",
              "  <tbody>\n",
              "    <tr>\n",
              "      <th>114733</th>\n",
              "      <td>30.0</td>\n",
              "      <td>53.127382</td>\n",
              "    </tr>\n",
              "    <tr>\n",
              "      <th>38098</th>\n",
              "      <td>10.0</td>\n",
              "      <td>62.185843</td>\n",
              "    </tr>\n",
              "    <tr>\n",
              "      <th>225433</th>\n",
              "      <td>25.0</td>\n",
              "      <td>62.678150</td>\n",
              "    </tr>\n",
              "    <tr>\n",
              "      <th>1715</th>\n",
              "      <td>20.0</td>\n",
              "      <td>37.775828</td>\n",
              "    </tr>\n",
              "    <tr>\n",
              "      <th>142192</th>\n",
              "      <td>40.0</td>\n",
              "      <td>121.176658</td>\n",
              "    </tr>\n",
              "    <tr>\n",
              "      <th>217366</th>\n",
              "      <td>25.0</td>\n",
              "      <td>44.358454</td>\n",
              "    </tr>\n",
              "    <tr>\n",
              "      <th>156853</th>\n",
              "      <td>20.0</td>\n",
              "      <td>62.185843</td>\n",
              "    </tr>\n",
              "    <tr>\n",
              "      <th>84108</th>\n",
              "      <td>25.0</td>\n",
              "      <td>47.963204</td>\n",
              "    </tr>\n",
              "    <tr>\n",
              "      <th>226317</th>\n",
              "      <td>30.0</td>\n",
              "      <td>47.963204</td>\n",
              "    </tr>\n",
              "    <tr>\n",
              "      <th>49678</th>\n",
              "      <td>50.0</td>\n",
              "      <td>48.135236</td>\n",
              "    </tr>\n",
              "  </tbody>\n",
              "</table>\n",
              "</div>\n",
              "      <button class=\"colab-df-convert\" onclick=\"convertToInteractive('df-a01d8489-1e5e-4fa1-b8b9-e49b308d68cf')\"\n",
              "              title=\"Convert this dataframe to an interactive table.\"\n",
              "              style=\"display:none;\">\n",
              "        \n",
              "  <svg xmlns=\"http://www.w3.org/2000/svg\" height=\"24px\"viewBox=\"0 0 24 24\"\n",
              "       width=\"24px\">\n",
              "    <path d=\"M0 0h24v24H0V0z\" fill=\"none\"/>\n",
              "    <path d=\"M18.56 5.44l.94 2.06.94-2.06 2.06-.94-2.06-.94-.94-2.06-.94 2.06-2.06.94zm-11 1L8.5 8.5l.94-2.06 2.06-.94-2.06-.94L8.5 2.5l-.94 2.06-2.06.94zm10 10l.94 2.06.94-2.06 2.06-.94-2.06-.94-.94-2.06-.94 2.06-2.06.94z\"/><path d=\"M17.41 7.96l-1.37-1.37c-.4-.4-.92-.59-1.43-.59-.52 0-1.04.2-1.43.59L10.3 9.45l-7.72 7.72c-.78.78-.78 2.05 0 2.83L4 21.41c.39.39.9.59 1.41.59.51 0 1.02-.2 1.41-.59l7.78-7.78 2.81-2.81c.8-.78.8-2.07 0-2.86zM5.41 20L4 18.59l7.72-7.72 1.47 1.35L5.41 20z\"/>\n",
              "  </svg>\n",
              "      </button>\n",
              "      \n",
              "  <style>\n",
              "    .colab-df-container {\n",
              "      display:flex;\n",
              "      flex-wrap:wrap;\n",
              "      gap: 12px;\n",
              "    }\n",
              "\n",
              "    .colab-df-convert {\n",
              "      background-color: #E8F0FE;\n",
              "      border: none;\n",
              "      border-radius: 50%;\n",
              "      cursor: pointer;\n",
              "      display: none;\n",
              "      fill: #1967D2;\n",
              "      height: 32px;\n",
              "      padding: 0 0 0 0;\n",
              "      width: 32px;\n",
              "    }\n",
              "\n",
              "    .colab-df-convert:hover {\n",
              "      background-color: #E2EBFA;\n",
              "      box-shadow: 0px 1px 2px rgba(60, 64, 67, 0.3), 0px 1px 3px 1px rgba(60, 64, 67, 0.15);\n",
              "      fill: #174EA6;\n",
              "    }\n",
              "\n",
              "    [theme=dark] .colab-df-convert {\n",
              "      background-color: #3B4455;\n",
              "      fill: #D2E3FC;\n",
              "    }\n",
              "\n",
              "    [theme=dark] .colab-df-convert:hover {\n",
              "      background-color: #434B5C;\n",
              "      box-shadow: 0px 1px 3px 1px rgba(0, 0, 0, 0.15);\n",
              "      filter: drop-shadow(0px 1px 2px rgba(0, 0, 0, 0.3));\n",
              "      fill: #FFFFFF;\n",
              "    }\n",
              "  </style>\n",
              "\n",
              "      <script>\n",
              "        const buttonEl =\n",
              "          document.querySelector('#df-a01d8489-1e5e-4fa1-b8b9-e49b308d68cf button.colab-df-convert');\n",
              "        buttonEl.style.display =\n",
              "          google.colab.kernel.accessAllowed ? 'block' : 'none';\n",
              "\n",
              "        async function convertToInteractive(key) {\n",
              "          const element = document.querySelector('#df-a01d8489-1e5e-4fa1-b8b9-e49b308d68cf');\n",
              "          const dataTable =\n",
              "            await google.colab.kernel.invokeFunction('convertToInteractive',\n",
              "                                                     [key], {});\n",
              "          if (!dataTable) return;\n",
              "\n",
              "          const docLinkHtml = 'Like what you see? Visit the ' +\n",
              "            '<a target=\"_blank\" href=https://colab.research.google.com/notebooks/data_table.ipynb>data table notebook</a>'\n",
              "            + ' to learn more about interactive tables.';\n",
              "          element.innerHTML = '';\n",
              "          dataTable['output_type'] = 'display_data';\n",
              "          await google.colab.output.renderOutput(dataTable, element);\n",
              "          const docLink = document.createElement('div');\n",
              "          docLink.innerHTML = docLinkHtml;\n",
              "          element.appendChild(docLink);\n",
              "        }\n",
              "      </script>\n",
              "    </div>\n",
              "  </div>\n",
              "  "
            ]
          },
          "metadata": {},
          "execution_count": 29
        }
      ]
    },
    {
      "cell_type": "code",
      "source": [
        "colors = sns.color_palette(\"colorblind\")\n",
        "X = np.arange(30)\n",
        "\n",
        "plt.figure()\n",
        "plt.plot(X, Y_valid[:30], color=colors[0], label=\"AmtGiven\")\n",
        "plt.plot(X, regr_predict[:30], color=colors[1], label=\"Prediction\", linewidth=2)\n",
        "plt.xlabel(\"data\")\n",
        "plt.ylabel(\"$\")\n",
        "plt.title(\"Decision Tree Regression\")\n",
        "plt.legend()\n",
        "plt.show()"
      ],
      "metadata": {
        "colab": {
          "base_uri": "https://localhost:8080/",
          "height": 295
        },
        "id": "dUQpAddWL8W9",
        "outputId": "742a8c66-c00b-4d70-bf1f-1ccfa7a23a69"
      },
      "id": "dUQpAddWL8W9",
      "execution_count": null,
      "outputs": [
        {
          "output_type": "display_data",
          "data": {
            "text/plain": [
              "<Figure size 432x288 with 1 Axes>"
            ],
            "image/png": "[encoded data removed]"
          },
          "metadata": {
            "needs_background": "light"
          }
        }
      ]
    },
    {
      "cell_type": "code",
      "execution_count": null,
      "id": "d47987df",
      "metadata": {
        "id": "d47987df",
        "outputId": "407bc3ca-9106-45a9-caf3-53285d006bde",
        "colab": {
          "base_uri": "https://localhost:8080/"
        }
      },
      "outputs": [
        {
          "output_type": "stream",
          "name": "stdout",
          "text": [
            "61.153547656056006\n",
            "42162.036696581345\n",
            "205.33396381646497\n"
          ]
        }
      ],
      "source": [
        "#MAE\n",
        "print(metrics.mean_absolute_error(Y_valid,regr_predict))\n",
        "#MSE\n",
        "print(metrics.mean_squared_error(Y_valid,regr_predict))\n",
        "#RMSE\n",
        "print(np.sqrt(metrics.mean_squared_error(Y_valid,regr_predict)))"
      ]
    },
    {
      "cell_type": "code",
      "source": [
        "plot_tree(regr, filled = True, feature_names=predictors)\n",
        "plt.show()"
      ],
      "metadata": {
        "colab": {
          "base_uri": "https://localhost:8080/",
          "height": 248
        },
        "id": "HEMIlZdAfEM7",
        "outputId": "612c5118-8c12-44e6-b306-aa917addebb7"
      },
      "id": "HEMIlZdAfEM7",
      "execution_count": null,
      "outputs": [
        {
          "output_type": "display_data",
          "data": {
            "text/plain": [
              "<Figure size 432x288 with 1 Axes>"
            ],
            "image/png": "[encoded data removed]"
          },
          "metadata": {
            "needs_background": "light"
          }
        }
      ]
    },
    {
      "cell_type": "code",
      "source": [
        "# xgb.plot_importance(regr)"
      ],
      "metadata": {
        "colab": {
          "base_uri": "https://localhost:8080/",
          "height": 312
        },
        "id": "ariywdrihKXB",
        "outputId": "6b462b4e-7317-489a-8de0-5b969746e2a9"
      },
      "id": "ariywdrihKXB",
      "execution_count": null,
      "outputs": [
        {
          "output_type": "execute_result",
          "data": {
            "text/plain": [
              "<matplotlib.axes._subplots.AxesSubplot at 0x7f0c68a29d30>"
            ]
          },
          "metadata": {},
          "execution_count": 30
        },
        {
          "output_type": "display_data",
          "data": {
            "text/plain": [
              "<Figure size 432x288 with 1 Axes>"
            ],
            "image/png": "[encoded data removed]"
          },
          "metadata": {
            "needs_background": "light"
          }
        }
      ]
    },
    {
      "cell_type": "markdown",
      "source": [
        "## **Probability of Giving**"
      ],
      "metadata": {
        "id": "D2l92DoXjK0K"
      },
      "id": "D2l92DoXjK0K"
    },
    {
      "cell_type": "markdown",
      "source": [
        "### **Decision Tree**"
      ],
      "metadata": {
        "id": "SqH6XCuCi31D"
      },
      "id": "SqH6XCuCi31D"
    },
    {
      "cell_type": "code",
      "source": [
        "double_data = pd.read_csv('PreprocessedContact.csv')\n",
        "\n",
        "gave = double_data[double_data['Gave'] == 1]\n",
        "n = gave['ID'].count()\n",
        "didnt_give = double_data[double_data['Gave'] == 0].sample(n)\n",
        "double_data = gave.append(didnt_give)\n",
        "\n",
        "train, validation = train_test_split(double_data, test_size=0.1, random_state=12345)"
      ],
      "metadata": {
        "id": "kaXd_h2Jke8e"
      },
      "id": "kaXd_h2Jke8e",
      "execution_count": null,
      "outputs": []
    },
    {
      "cell_type": "code",
      "source": [
        "from sklearn.tree import DecisionTreeClassifier\n",
        "\n",
        "predictors2 = ['Age','JustGave','Contact','Woman', 'NbActivities',\n",
        "              'TotalGift', 'Frequency', 'Recency', 'Referrals']\n",
        "\n",
        "X_train = train[predictors2] \n",
        "Y_train = train['Gave']\n",
        "X_valid = validation[predictors2] \n",
        "Y_valid = validation['Gave']\n",
        "\n",
        "DT_model_prob = DecisionTreeClassifier(max_depth=4,criterion=\"entropy\")\n",
        "DT_model_prob.fit(X_train,Y_train)\n",
        "DT_predict_proba = DT_model_prob.predict_proba(X_valid) #Predictions on Testing data\n",
        "DT_predict_prob = DT_model_prob.predict(X_valid) #Predictions on Testing data\n",
        "DT_probs = DT_model_prob.predict_proba(X_valid)[:, 1]\n",
        "print(DT_probs)"
      ],
      "metadata": {
        "colab": {
          "base_uri": "https://localhost:8080/"
        },
        "id": "B39aSQC8i7lv",
        "outputId": "3d924efe-d27b-439a-cc36-5cc50bbd14f5"
      },
      "id": "B39aSQC8i7lv",
      "execution_count": null,
      "outputs": [
        {
          "output_type": "stream",
          "name": "stdout",
          "text": [
            "[0.31971499 0.31971499 0.31971499 ... 0.75558836 0.31971499 0.75006851]\n"
          ]
        }
      ]
    },
    {
      "cell_type": "code",
      "source": [
        "from sklearn.metrics import classification_report\n",
        "print(classification_report(Y_valid, DT_predict_prob))"
      ],
      "metadata": {
        "colab": {
          "base_uri": "https://localhost:8080/"
        },
        "id": "z65M6jnJnEyq",
        "outputId": "6a8bb9c0-4a8b-4181-dba5-ca70b53afebe"
      },
      "id": "z65M6jnJnEyq",
      "execution_count": null,
      "outputs": [
        {
          "output_type": "stream",
          "name": "stdout",
          "text": [
            "              precision    recall  f1-score   support\n",
            "\n",
            "         0.0       0.63      0.73      0.68     14978\n",
            "         1.0       0.68      0.58      0.62     14914\n",
            "\n",
            "    accuracy                           0.65     29892\n",
            "   macro avg       0.66      0.65      0.65     29892\n",
            "weighted avg       0.65      0.65      0.65     29892\n",
            "\n"
          ]
        }
      ]
    },
    {
      "cell_type": "code",
      "source": [
        "from sklearn.metrics import roc_auc_score\n",
        "from sklearn.metrics import roc_curve\n",
        "import matplotlib.pyplot as plt \n",
        "plt.rc(\"font\", size=14)\n",
        "\n",
        "DT_roc_auc = roc_auc_score(Y_valid, DT_model_prob.predict(X_valid))\n",
        "fpr, tpr, thresholds = roc_curve(Y_valid, DT_model_prob.predict_proba(X_valid)[:,1])\n",
        "plt.figure()\n",
        "plt.plot(fpr, tpr, label='Decision tree (area = %0.2f)' % DT_roc_auc)\n",
        "plt.plot([0, 1], [0, 1],'r--')\n",
        "plt.xlim([0.0, 1.0])\n",
        "plt.ylim([0.0, 1.05])\n",
        "plt.xlabel('False Positive Rate')\n",
        "plt.ylabel('True Positive Rate')\n",
        "plt.title('Receiver operating characteristic')\n",
        "plt.legend(loc=\"lower right\")\n",
        "plt.savefig('DT_ROC')\n",
        "plt.show()"
      ],
      "metadata": {
        "colab": {
          "base_uri": "https://localhost:8080/",
          "height": 307
        },
        "id": "w-L-cjgmnMZt",
        "outputId": "4ed3da23-a60b-409e-cc50-02406e21b111"
      },
      "id": "w-L-cjgmnMZt",
      "execution_count": null,
      "outputs": [
        {
          "output_type": "display_data",
          "data": {
            "text/plain": [
              "<Figure size 432x288 with 1 Axes>"
            ],
            "image/png": "[encoded data removed]"
          },
          "metadata": {
            "needs_background": "light"
          }
        }
      ]
    },
    {
      "cell_type": "markdown",
      "id": "12c58819",
      "metadata": {
        "id": "12c58819"
      },
      "source": [
        "### **Tensorflow**"
      ]
    },
    {
      "cell_type": "code",
      "source": [
        "double_data = pd.read_csv('PreprocessedDouble.csv')\n",
        "gave = double_data[double_data['Gave'] == 1]\n",
        "n = gave['ID'].count()\n",
        "didnt_give = double_data[double_data['Gave'] == 0].sample(n)\n",
        "double_data = gave.append(didnt_give)\n",
        "\n",
        "train, validation = train_test_split(double_data, test_size=0.1, random_state=12345)"
      ],
      "metadata": {
        "id": "N_Gqn6rckgIv"
      },
      "id": "N_Gqn6rckgIv",
      "execution_count": null,
      "outputs": []
    },
    {
      "cell_type": "code",
      "execution_count": null,
      "id": "7fa631af",
      "metadata": {
        "id": "7fa631af"
      },
      "outputs": [],
      "source": [
        "import tensorflow as tf\n",
        "from keras.layers import Dense, Dropout\n",
        "from keras import optimizers"
      ]
    },
    {
      "cell_type": "code",
      "source": [
        "# predictors = ['Woman', 'Age', 'Salary', 'SeniorList', 'NbActivities',\n",
        "#        'Referrals', 'Recency', 'Frequency', 'Seniority', 'TotalGift',\n",
        "#        'MinGift', 'MaxGift', 'Rural', 'JustGave', 'MeanGift']\n",
        "\n",
        "# Predictors Gave\n",
        "predictorsTF = ['SeniorList', 'NbActivities', 'Referrals', 'Recency', 'Frequency', 'Seniority', 'TotalGift',\n",
        "       'MinGift', 'High School', 'Downtown', 'Rural', 'Suburban', 'JustGave', 'MeanGift']\n",
        "\n",
        "X_train = train[predictors] \n",
        "Y_train = train['Gave']\n",
        "X_valid = validation[predictors] \n",
        "Y_valid = validation['Gave']\n",
        "\n",
        "input_dim = X_train.shape[1]\n",
        "input_dim"
      ],
      "metadata": {
        "id": "DmD42YCW3Pmv"
      },
      "id": "DmD42YCW3Pmv",
      "execution_count": null,
      "outputs": []
    },
    {
      "cell_type": "code",
      "source": [
        "model = tf.keras.Sequential([\n",
        "    tf.keras.Input(shape=(input_dim,)),\n",
        "    Dense(units=30, activation=\"relu\", kernel_initializer=tf.keras.initializers.HeUniform()),\n",
        "    Dense(units=1, activation=\"sigmoid\")\n",
        "])\n",
        "model.summary()"
      ],
      "metadata": {
        "colab": {
          "base_uri": "https://localhost:8080/"
        },
        "id": "QdxXamwv26pZ",
        "outputId": "8b708c86-9b98-417e-f92c-332118b5c65d"
      },
      "id": "QdxXamwv26pZ",
      "execution_count": null,
      "outputs": [
        {
          "output_type": "stream",
          "name": "stdout",
          "text": [
            "Model: \"sequential\"\n",
            "_________________________________________________________________\n",
            " Layer (type)                Output Shape              Param #   \n",
            "=================================================================\n",
            " dense (Dense)               (None, 30)                450       \n",
            "                                                                 \n",
            " dense_1 (Dense)             (None, 1)                 31        \n",
            "                                                                 \n",
            "=================================================================\n",
            "Total params: 481\n",
            "Trainable params: 481\n",
            "Non-trainable params: 0\n",
            "_________________________________________________________________\n"
          ]
        }
      ]
    },
    {
      "cell_type": "code",
      "source": [
        "model.compile(loss=tf.keras.losses.BinaryCrossentropy(label_smoothing=0.1), optimizer=optimizers.Adam(), metrics=[tf.keras.metrics.BinaryAccuracy() ,tf.keras.metrics.Recall(), tf.keras.metrics.Precision()])"
      ],
      "metadata": {
        "id": "NClKMRE37Igo"
      },
      "id": "NClKMRE37Igo",
      "execution_count": null,
      "outputs": []
    },
    {
      "cell_type": "code",
      "source": [
        "history = model.fit(X_train, Y_train, epochs=6, validation_data=(X_valid, Y_valid))"
      ],
      "metadata": {
        "colab": {
          "base_uri": "https://localhost:8080/"
        },
        "id": "OD7BwdB87VS5",
        "outputId": "101972f1-f767-474a-9c29-36297b0b2d39"
      },
      "id": "OD7BwdB87VS5",
      "execution_count": null,
      "outputs": [
        {
          "output_type": "stream",
          "name": "stdout",
          "text": [
            "Epoch 1/6\n",
            "13744/13744 [==============================] - 29s 2ms/step - loss: 0.7907 - binary_accuracy: 0.5941 - recall: 0.5517 - precision: 0.6025 - val_loss: 0.6716 - val_binary_accuracy: 0.6216 - val_recall: 0.5447 - val_precision: 0.6461\n",
            "Epoch 2/6\n",
            "13744/13744 [==============================] - 28s 2ms/step - loss: 0.7513 - binary_accuracy: 0.6002 - recall: 0.5643 - precision: 0.6078 - val_loss: 0.7008 - val_binary_accuracy: 0.6057 - val_recall: 0.6041 - val_precision: 0.6081\n",
            "Epoch 3/6\n",
            "13744/13744 [==============================] - 28s 2ms/step - loss: 0.7240 - binary_accuracy: 0.6055 - recall: 0.5675 - precision: 0.6139 - val_loss: 0.6762 - val_binary_accuracy: 0.6092 - val_recall: 0.7779 - val_precision: 0.5831\n",
            "Epoch 4/6\n",
            "13744/13744 [==============================] - 36s 3ms/step - loss: 0.6976 - binary_accuracy: 0.6118 - recall: 0.5646 - precision: 0.6232 - val_loss: 0.6718 - val_binary_accuracy: 0.6195 - val_recall: 0.4674 - val_precision: 0.6749\n",
            "Epoch 5/6\n",
            "13744/13744 [==============================] - 28s 2ms/step - loss: 0.6840 - binary_accuracy: 0.6157 - recall: 0.5566 - precision: 0.6310 - val_loss: 0.6806 - val_binary_accuracy: 0.6266 - val_recall: 0.5586 - val_precision: 0.6488\n",
            "Epoch 6/6\n",
            "13744/13744 [==============================] - 27s 2ms/step - loss: 0.6729 - binary_accuracy: 0.6185 - recall: 0.5626 - precision: 0.6331 - val_loss: 0.6599 - val_binary_accuracy: 0.6293 - val_recall: 0.5754 - val_precision: 0.6472\n"
          ]
        }
      ]
    },
    {
      "cell_type": "code",
      "source": [
        "plt.subplot(1, 3, 1)\n",
        "plt.title(\"Binary Accuracy\")\n",
        "plt.xlabel(\"Epochs\")\n",
        "plt.plot(history.history[\"binary_accuracy\"], label=\"Train\")\n",
        "plt.plot(history.history[\"val_binary_accuracy\"], label=\"Validation\")\n",
        "plt.legend()\n",
        "\n",
        "plt.subplot(1, 3, 2)\n",
        "plt.title(\"Recall\")\n",
        "plt.xlabel(\"Epochs\")\n",
        "plt.plot(history.history[\"recall\"], label=\"Train\")\n",
        "plt.plot(history.history[\"val_recall\"], label=\"Validation\")\n",
        "plt.legend()\n",
        "\n",
        "plt.subplot(1, 3, 3)\n",
        "plt.title(\"Precision\")\n",
        "plt.xlabel(\"Epochs\")\n",
        "plt.plot(history.history[\"precision\"], label=\"Train\")\n",
        "plt.plot(history.history[\"val_precision\"], label=\"Validation\")\n",
        "plt.legend()"
      ],
      "metadata": {
        "colab": {
          "base_uri": "https://localhost:8080/"
        },
        "id": "H1JWFh3LEAo6",
        "outputId": "6f1a231c-81e5-4bc0-9ea6-0a858022c8c9"
      },
      "id": "H1JWFh3LEAo6",
      "execution_count": null,
      "outputs": [
        {
          "output_type": "execute_result",
          "data": {
            "text/plain": [
              "<matplotlib.legend.Legend at 0x7f430dc311f0>"
            ]
          },
          "metadata": {},
          "execution_count": 38
        },
        {
          "output_type": "display_data",
          "data": {
            "text/plain": [
              "<Figure size 432x288 with 3 Axes>"
            ],
            "image/png": "[encoded data removed]"
          },
          "metadata": {
            "needs_background": "light"
          }
        }
      ]
    },
    {
      "cell_type": "code",
      "source": [
        "y_pred_nn = model.predict(X_valid)\n",
        "validation[\"Prob\"] = y_pred_nn\n",
        "validation[[\"Gave\", \"Prob\"]].sample(30)"
      ],
      "metadata": {
        "colab": {
          "base_uri": "https://localhost:8080/"
        },
        "id": "0ZkTEP-WG3Mh",
        "outputId": "be97654f-76c5-4c65-ee4f-d282bee5cb90"
      },
      "id": "0ZkTEP-WG3Mh",
      "execution_count": null,
      "outputs": [
        {
          "output_type": "execute_result",
          "data": {
            "text/plain": [
              "         Gave      Prob\n",
              "1015809   1.0  0.701958\n",
              "1284175   1.0  0.737804\n",
              "1805945   1.0  0.704514\n",
              "1059759   1.0  0.448345\n",
              "482559    1.0  0.444629\n",
              "1188      1.0  0.519968\n",
              "1101466   1.0  0.599278\n",
              "1516452   0.0  0.398025\n",
              "824639    1.0  0.295651\n",
              "363105    1.0  0.434841\n",
              "1544057   1.0  0.940205\n",
              "610567    1.0  0.610262\n",
              "469358    0.0  0.522912\n",
              "1759321   0.0  0.294503\n",
              "646088    1.0  0.497560\n",
              "1178657   1.0  0.525318\n",
              "1851642   1.0  0.954878\n",
              "559769    1.0  0.448345\n",
              "403969    1.0  0.587676\n",
              "114053    0.0  0.450852\n",
              "54484     1.0  0.464307\n",
              "1908459   1.0  0.464307\n",
              "762358    0.0  0.421529\n",
              "1542873   0.0  0.363279\n",
              "1854163   0.0  0.510688\n",
              "942354    1.0  0.448345\n",
              "1343626   0.0  0.650198\n",
              "277784    1.0  0.434804\n",
              "74750     0.0  0.350364\n",
              "107037    0.0  0.547589"
            ],
            "text/html": [
              "\n",
              "  <div id=\"df-828bd657-5252-46f8-8ca1-4706577051c0\">\n",
              "    <div class=\"colab-df-container\">\n",
              "      <div>\n",
              "<style scoped>\n",
              "    .dataframe tbody tr th:only-of-type {\n",
              "        vertical-align: middle;\n",
              "    }\n",
              "\n",
              "    .dataframe tbody tr th {\n",
              "        vertical-align: top;\n",
              "    }\n",
              "\n",
              "    .dataframe thead th {\n",
              "        text-align: right;\n",
              "    }\n",
              "</style>\n",
              "<table border=\"1\" class=\"dataframe\">\n",
              "  <thead>\n",
              "    <tr style=\"text-align: right;\">\n",
              "      <th></th>\n",
              "      <th>Gave</th>\n",
              "      <th>Prob</th>\n",
              "    </tr>\n",
              "  </thead>\n",
              "  <tbody>\n",
              "    <tr>\n",
              "      <th>1015809</th>\n",
              "      <td>1.0</td>\n",
              "      <td>0.701958</td>\n",
              "    </tr>\n",
              "    <tr>\n",
              "      <th>1284175</th>\n",
              "      <td>1.0</td>\n",
              "      <td>0.737804</td>\n",
              "    </tr>\n",
              "    <tr>\n",
              "      <th>1805945</th>\n",
              "      <td>1.0</td>\n",
              "      <td>0.704514</td>\n",
              "    </tr>\n",
              "    <tr>\n",
              "      <th>1059759</th>\n",
              "      <td>1.0</td>\n",
              "      <td>0.448345</td>\n",
              "    </tr>\n",
              "    <tr>\n",
              "      <th>482559</th>\n",
              "      <td>1.0</td>\n",
              "      <td>0.444629</td>\n",
              "    </tr>\n",
              "    <tr>\n",
              "      <th>1188</th>\n",
              "      <td>1.0</td>\n",
              "      <td>0.519968</td>\n",
              "    </tr>\n",
              "    <tr>\n",
              "      <th>1101466</th>\n",
              "      <td>1.0</td>\n",
              "      <td>0.599278</td>\n",
              "    </tr>\n",
              "    <tr>\n",
              "      <th>1516452</th>\n",
              "      <td>0.0</td>\n",
              "      <td>0.398025</td>\n",
              "    </tr>\n",
              "    <tr>\n",
              "      <th>824639</th>\n",
              "      <td>1.0</td>\n",
              "      <td>0.295651</td>\n",
              "    </tr>\n",
              "    <tr>\n",
              "      <th>363105</th>\n",
              "      <td>1.0</td>\n",
              "      <td>0.434841</td>\n",
              "    </tr>\n",
              "    <tr>\n",
              "      <th>1544057</th>\n",
              "      <td>1.0</td>\n",
              "      <td>0.940205</td>\n",
              "    </tr>\n",
              "    <tr>\n",
              "      <th>610567</th>\n",
              "      <td>1.0</td>\n",
              "      <td>0.610262</td>\n",
              "    </tr>\n",
              "    <tr>\n",
              "      <th>469358</th>\n",
              "      <td>0.0</td>\n",
              "      <td>0.522912</td>\n",
              "    </tr>\n",
              "    <tr>\n",
              "      <th>1759321</th>\n",
              "      <td>0.0</td>\n",
              "      <td>0.294503</td>\n",
              "    </tr>\n",
              "    <tr>\n",
              "      <th>646088</th>\n",
              "      <td>1.0</td>\n",
              "      <td>0.497560</td>\n",
              "    </tr>\n",
              "    <tr>\n",
              "      <th>1178657</th>\n",
              "      <td>1.0</td>\n",
              "      <td>0.525318</td>\n",
              "    </tr>\n",
              "    <tr>\n",
              "      <th>1851642</th>\n",
              "      <td>1.0</td>\n",
              "      <td>0.954878</td>\n",
              "    </tr>\n",
              "    <tr>\n",
              "      <th>559769</th>\n",
              "      <td>1.0</td>\n",
              "      <td>0.448345</td>\n",
              "    </tr>\n",
              "    <tr>\n",
              "      <th>403969</th>\n",
              "      <td>1.0</td>\n",
              "      <td>0.587676</td>\n",
              "    </tr>\n",
              "    <tr>\n",
              "      <th>114053</th>\n",
              "      <td>0.0</td>\n",
              "      <td>0.450852</td>\n",
              "    </tr>\n",
              "    <tr>\n",
              "      <th>54484</th>\n",
              "      <td>1.0</td>\n",
              "      <td>0.464307</td>\n",
              "    </tr>\n",
              "    <tr>\n",
              "      <th>1908459</th>\n",
              "      <td>1.0</td>\n",
              "      <td>0.464307</td>\n",
              "    </tr>\n",
              "    <tr>\n",
              "      <th>762358</th>\n",
              "      <td>0.0</td>\n",
              "      <td>0.421529</td>\n",
              "    </tr>\n",
              "    <tr>\n",
              "      <th>1542873</th>\n",
              "      <td>0.0</td>\n",
              "      <td>0.363279</td>\n",
              "    </tr>\n",
              "    <tr>\n",
              "      <th>1854163</th>\n",
              "      <td>0.0</td>\n",
              "      <td>0.510688</td>\n",
              "    </tr>\n",
              "    <tr>\n",
              "      <th>942354</th>\n",
              "      <td>1.0</td>\n",
              "      <td>0.448345</td>\n",
              "    </tr>\n",
              "    <tr>\n",
              "      <th>1343626</th>\n",
              "      <td>0.0</td>\n",
              "      <td>0.650198</td>\n",
              "    </tr>\n",
              "    <tr>\n",
              "      <th>277784</th>\n",
              "      <td>1.0</td>\n",
              "      <td>0.434804</td>\n",
              "    </tr>\n",
              "    <tr>\n",
              "      <th>74750</th>\n",
              "      <td>0.0</td>\n",
              "      <td>0.350364</td>\n",
              "    </tr>\n",
              "    <tr>\n",
              "      <th>107037</th>\n",
              "      <td>0.0</td>\n",
              "      <td>0.547589</td>\n",
              "    </tr>\n",
              "  </tbody>\n",
              "</table>\n",
              "</div>\n",
              "      <button class=\"colab-df-convert\" onclick=\"convertToInteractive('df-828bd657-5252-46f8-8ca1-4706577051c0')\"\n",
              "              title=\"Convert this dataframe to an interactive table.\"\n",
              "              style=\"display:none;\">\n",
              "        \n",
              "  <svg xmlns=\"http://www.w3.org/2000/svg\" height=\"24px\"viewBox=\"0 0 24 24\"\n",
              "       width=\"24px\">\n",
              "    <path d=\"M0 0h24v24H0V0z\" fill=\"none\"/>\n",
              "    <path d=\"M18.56 5.44l.94 2.06.94-2.06 2.06-.94-2.06-.94-.94-2.06-.94 2.06-2.06.94zm-11 1L8.5 8.5l.94-2.06 2.06-.94-2.06-.94L8.5 2.5l-.94 2.06-2.06.94zm10 10l.94 2.06.94-2.06 2.06-.94-2.06-.94-.94-2.06-.94 2.06-2.06.94z\"/><path d=\"M17.41 7.96l-1.37-1.37c-.4-.4-.92-.59-1.43-.59-.52 0-1.04.2-1.43.59L10.3 9.45l-7.72 7.72c-.78.78-.78 2.05 0 2.83L4 21.41c.39.39.9.59 1.41.59.51 0 1.02-.2 1.41-.59l7.78-7.78 2.81-2.81c.8-.78.8-2.07 0-2.86zM5.41 20L4 18.59l7.72-7.72 1.47 1.35L5.41 20z\"/>\n",
              "  </svg>\n",
              "      </button>\n",
              "      \n",
              "  <style>\n",
              "    .colab-df-container {\n",
              "      display:flex;\n",
              "      flex-wrap:wrap;\n",
              "      gap: 12px;\n",
              "    }\n",
              "\n",
              "    .colab-df-convert {\n",
              "      background-color: #E8F0FE;\n",
              "      border: none;\n",
              "      border-radius: 50%;\n",
              "      cursor: pointer;\n",
              "      display: none;\n",
              "      fill: #1967D2;\n",
              "      height: 32px;\n",
              "      padding: 0 0 0 0;\n",
              "      width: 32px;\n",
              "    }\n",
              "\n",
              "    .colab-df-convert:hover {\n",
              "      background-color: #E2EBFA;\n",
              "      box-shadow: 0px 1px 2px rgba(60, 64, 67, 0.3), 0px 1px 3px 1px rgba(60, 64, 67, 0.15);\n",
              "      fill: #174EA6;\n",
              "    }\n",
              "\n",
              "    [theme=dark] .colab-df-convert {\n",
              "      background-color: #3B4455;\n",
              "      fill: #D2E3FC;\n",
              "    }\n",
              "\n",
              "    [theme=dark] .colab-df-convert:hover {\n",
              "      background-color: #434B5C;\n",
              "      box-shadow: 0px 1px 3px 1px rgba(0, 0, 0, 0.15);\n",
              "      filter: drop-shadow(0px 1px 2px rgba(0, 0, 0, 0.3));\n",
              "      fill: #FFFFFF;\n",
              "    }\n",
              "  </style>\n",
              "\n",
              "      <script>\n",
              "        const buttonEl =\n",
              "          document.querySelector('#df-828bd657-5252-46f8-8ca1-4706577051c0 button.colab-df-convert');\n",
              "        buttonEl.style.display =\n",
              "          google.colab.kernel.accessAllowed ? 'block' : 'none';\n",
              "\n",
              "        async function convertToInteractive(key) {\n",
              "          const element = document.querySelector('#df-828bd657-5252-46f8-8ca1-4706577051c0');\n",
              "          const dataTable =\n",
              "            await google.colab.kernel.invokeFunction('convertToInteractive',\n",
              "                                                     [key], {});\n",
              "          if (!dataTable) return;\n",
              "\n",
              "          const docLinkHtml = 'Like what you see? Visit the ' +\n",
              "            '<a target=\"_blank\" href=https://colab.research.google.com/notebooks/data_table.ipynb>data table notebook</a>'\n",
              "            + ' to learn more about interactive tables.';\n",
              "          element.innerHTML = '';\n",
              "          dataTable['output_type'] = 'display_data';\n",
              "          await google.colab.output.renderOutput(dataTable, element);\n",
              "          const docLink = document.createElement('div');\n",
              "          docLink.innerHTML = docLinkHtml;\n",
              "          element.appendChild(docLink);\n",
              "        }\n",
              "      </script>\n",
              "    </div>\n",
              "  </div>\n",
              "  "
            ]
          },
          "metadata": {},
          "execution_count": 41
        }
      ]
    },
    {
      "cell_type": "markdown",
      "id": "20aed00e",
      "metadata": {
        "id": "20aed00e"
      },
      "source": [
        "# Scoring New Data\n",
        "\n",
        "## Prepare data for scoring"
      ]
    },
    {
      "cell_type": "code",
      "execution_count": null,
      "id": "0d04c91b",
      "metadata": {
        "id": "0d04c91b"
      },
      "outputs": [],
      "source": [
        "data3 = sas_session.sasdata2dataframe(\n",
        "table='score_rd1',\n",
        "libref='cortex'\n",
        ")\n",
        "data4 = sas_session.sasdata2dataframe(\n",
        "table='score',\n",
        "libref='cortex'\n",
        ")"
      ]
    },
    {
      "cell_type": "markdown",
      "id": "e961f185-38c6-4d2a-b1f5-1b142c9b6d30",
      "metadata": {
        "id": "e961f185-38c6-4d2a-b1f5-1b142c9b6d30"
      },
      "source": [
        " ### Score new data based on your champion model\n",
        " \n",
        "> Pick your champion model from previous steps and use it to predict next year donations. \n",
        " \n",
        "> In this case, the linear regression model performed better than the regression tree based on the MSE criterion."
      ]
    },
    {
      "cell_type": "code",
      "execution_count": null,
      "id": "f6cf3e45",
      "metadata": {
        "collapsed": true,
        "id": "f6cf3e45"
      },
      "outputs": [],
      "source": [
        "scoring_data = pd.merge(data3, data4, on=[\"ID\"],how=\"right\")\n",
        "scoring_data = preprocess(scoring_data, train = False)"
      ]
    },
    {
      "cell_type": "markdown",
      "source": [
        "Predict Amount with tree"
      ],
      "metadata": {
        "id": "eMUdrtisFUeo"
      },
      "id": "eMUdrtisFUeo"
    },
    {
      "cell_type": "code",
      "execution_count": null,
      "id": "05b14516",
      "metadata": {
        "collapsed": true,
        "id": "05b14516"
      },
      "outputs": [],
      "source": [
        "X = scoring_data[predictors] \n",
        "regr_predict_end=regr.predict(X)\n",
        "\n",
        "scoring_data['Prediction'] = regr_predict_end\n",
        "scoring_data.sort_values(by=['Prediction'], inplace=True,ascending=False)"
      ]
    },
    {
      "cell_type": "markdown",
      "source": [
        "Predict with Neural Network"
      ],
      "metadata": {
        "id": "vckVRftgFXKV"
      },
      "id": "vckVRftgFXKV"
    },
    {
      "cell_type": "code",
      "source": [
        "Xtf = scoring_data[predictorsTF] \n",
        "y_pred_nn = model.predict(Xtf)\n",
        "scoring_data['Probability'] = y_pred_nn"
      ],
      "metadata": {
        "id": "NTnCUP9sFJfK",
        "colab": {
          "base_uri": "https://localhost:8080/"
        },
        "outputId": "3ce516ee-2405-41cf-bd86-979ed29bf986"
      },
      "id": "NTnCUP9sFJfK",
      "execution_count": null,
      "outputs": [
        {
          "output_type": "stream",
          "name": "stdout",
          "text": [
            "31250/31250 [==============================] - 37s 1ms/step\n"
          ]
        }
      ]
    },
    {
      "cell_type": "code",
      "source": [
        "scoring_data.head(5)"
      ],
      "metadata": {
        "colab": {
          "base_uri": "https://localhost:8080/",
          "height": 317
        },
        "id": "Fgt_gQwzGcX-",
        "outputId": "e44b96f5-62f0-4d8c-b969-d138dee9fa6e"
      },
      "id": "Fgt_gQwzGcX-",
      "execution_count": null,
      "outputs": [
        {
          "output_type": "execute_result",
          "data": {
            "text/plain": [
              "               ID  Woman   Age    Salary  SeniorList  NbActivities  Referrals  \\\n",
              "527000  2527001.0    0.0  54.0  148400.0        10.0           4.0        2.0   \n",
              "9566    2009567.0    1.0  54.0  244700.0        10.0           3.0        2.0   \n",
              "420890  2420891.0    1.0  37.0  104200.0        10.0           5.0        5.0   \n",
              "286775  2286776.0    1.0  23.0  249000.0         6.0           5.0        3.0   \n",
              "184873  2184874.0    1.0  37.0  144900.0         9.0           0.0        1.0   \n",
              "\n",
              "        Recency  Frequency  Seniority  ...  Elementary  High School  \\\n",
              "527000      2.0        3.0        6.0  ...           0            0   \n",
              "9566        1.0        3.0        4.0  ...           0            0   \n",
              "420890      1.0        2.0        8.0  ...           1            0   \n",
              "286775      1.0        1.0        1.0  ...           0            0   \n",
              "184873      2.0        1.0        2.0  ...           0            0   \n",
              "\n",
              "        University / College  Downtown  Rural  Suburban  JustGave  \\\n",
              "527000                     1         1      0         0         0   \n",
              "9566                       1         0      0         1         1   \n",
              "420890                     0         1      0         0         1   \n",
              "286775                     1         0      0         1         1   \n",
              "184873                     1         0      0         1         0   \n",
              "\n",
              "           MeanGift  Prediction  Probability  \n",
              "527000    16.666667     10000.0     0.671888  \n",
              "9566      16.666667     10000.0     0.656000  \n",
              "420890  8000.000000      9000.0     1.000000  \n",
              "286775  7000.000000      9000.0     1.000000  \n",
              "184873    25.000000      8000.0     0.371514  \n",
              "\n",
              "[5 rows x 23 columns]"
            ],
            "text/html": [
              "\n",
              "  <div id=\"df-25934159-8252-44fc-b138-0c69f9f32cea\">\n",
              "    <div class=\"colab-df-container\">\n",
              "      <div>\n",
              "<style scoped>\n",
              "    .dataframe tbody tr th:only-of-type {\n",
              "        vertical-align: middle;\n",
              "    }\n",
              "\n",
              "    .dataframe tbody tr th {\n",
              "        vertical-align: top;\n",
              "    }\n",
              "\n",
              "    .dataframe thead th {\n",
              "        text-align: right;\n",
              "    }\n",
              "</style>\n",
              "<table border=\"1\" class=\"dataframe\">\n",
              "  <thead>\n",
              "    <tr style=\"text-align: right;\">\n",
              "      <th></th>\n",
              "      <th>ID</th>\n",
              "      <th>Woman</th>\n",
              "      <th>Age</th>\n",
              "      <th>Salary</th>\n",
              "      <th>SeniorList</th>\n",
              "      <th>NbActivities</th>\n",
              "      <th>Referrals</th>\n",
              "      <th>Recency</th>\n",
              "      <th>Frequency</th>\n",
              "      <th>Seniority</th>\n",
              "      <th>...</th>\n",
              "      <th>Elementary</th>\n",
              "      <th>High School</th>\n",
              "      <th>University / College</th>\n",
              "      <th>Downtown</th>\n",
              "      <th>Rural</th>\n",
              "      <th>Suburban</th>\n",
              "      <th>JustGave</th>\n",
              "      <th>MeanGift</th>\n",
              "      <th>Prediction</th>\n",
              "      <th>Probability</th>\n",
              "    </tr>\n",
              "  </thead>\n",
              "  <tbody>\n",
              "    <tr>\n",
              "      <th>527000</th>\n",
              "      <td>2527001.0</td>\n",
              "      <td>0.0</td>\n",
              "      <td>54.0</td>\n",
              "      <td>148400.0</td>\n",
              "      <td>10.0</td>\n",
              "      <td>4.0</td>\n",
              "      <td>2.0</td>\n",
              "      <td>2.0</td>\n",
              "      <td>3.0</td>\n",
              "      <td>6.0</td>\n",
              "      <td>...</td>\n",
              "      <td>0</td>\n",
              "      <td>0</td>\n",
              "      <td>1</td>\n",
              "      <td>1</td>\n",
              "      <td>0</td>\n",
              "      <td>0</td>\n",
              "      <td>0</td>\n",
              "      <td>16.666667</td>\n",
              "      <td>10000.0</td>\n",
              "      <td>0.671888</td>\n",
              "    </tr>\n",
              "    <tr>\n",
              "      <th>9566</th>\n",
              "      <td>2009567.0</td>\n",
              "      <td>1.0</td>\n",
              "      <td>54.0</td>\n",
              "      <td>244700.0</td>\n",
              "      <td>10.0</td>\n",
              "      <td>3.0</td>\n",
              "      <td>2.0</td>\n",
              "      <td>1.0</td>\n",
              "      <td>3.0</td>\n",
              "      <td>4.0</td>\n",
              "      <td>...</td>\n",
              "      <td>0</td>\n",
              "      <td>0</td>\n",
              "      <td>1</td>\n",
              "      <td>0</td>\n",
              "      <td>0</td>\n",
              "      <td>1</td>\n",
              "      <td>1</td>\n",
              "      <td>16.666667</td>\n",
              "      <td>10000.0</td>\n",
              "      <td>0.656000</td>\n",
              "    </tr>\n",
              "    <tr>\n",
              "      <th>420890</th>\n",
              "      <td>2420891.0</td>\n",
              "      <td>1.0</td>\n",
              "      <td>37.0</td>\n",
              "      <td>104200.0</td>\n",
              "      <td>10.0</td>\n",
              "      <td>5.0</td>\n",
              "      <td>5.0</td>\n",
              "      <td>1.0</td>\n",
              "      <td>2.0</td>\n",
              "      <td>8.0</td>\n",
              "      <td>...</td>\n",
              "      <td>1</td>\n",
              "      <td>0</td>\n",
              "      <td>0</td>\n",
              "      <td>1</td>\n",
              "      <td>0</td>\n",
              "      <td>0</td>\n",
              "      <td>1</td>\n",
              "      <td>8000.000000</td>\n",
              "      <td>9000.0</td>\n",
              "      <td>1.000000</td>\n",
              "    </tr>\n",
              "    <tr>\n",
              "      <th>286775</th>\n",
              "      <td>2286776.0</td>\n",
              "      <td>1.0</td>\n",
              "      <td>23.0</td>\n",
              "      <td>249000.0</td>\n",
              "      <td>6.0</td>\n",
              "      <td>5.0</td>\n",
              "      <td>3.0</td>\n",
              "      <td>1.0</td>\n",
              "      <td>1.0</td>\n",
              "      <td>1.0</td>\n",
              "      <td>...</td>\n",
              "      <td>0</td>\n",
              "      <td>0</td>\n",
              "      <td>1</td>\n",
              "      <td>0</td>\n",
              "      <td>0</td>\n",
              "      <td>1</td>\n",
              "      <td>1</td>\n",
              "      <td>7000.000000</td>\n",
              "      <td>9000.0</td>\n",
              "      <td>1.000000</td>\n",
              "    </tr>\n",
              "    <tr>\n",
              "      <th>184873</th>\n",
              "      <td>2184874.0</td>\n",
              "      <td>1.0</td>\n",
              "      <td>37.0</td>\n",
              "      <td>144900.0</td>\n",
              "      <td>9.0</td>\n",
              "      <td>0.0</td>\n",
              "      <td>1.0</td>\n",
              "      <td>2.0</td>\n",
              "      <td>1.0</td>\n",
              "      <td>2.0</td>\n",
              "      <td>...</td>\n",
              "      <td>0</td>\n",
              "      <td>0</td>\n",
              "      <td>1</td>\n",
              "      <td>0</td>\n",
              "      <td>0</td>\n",
              "      <td>1</td>\n",
              "      <td>0</td>\n",
              "      <td>25.000000</td>\n",
              "      <td>8000.0</td>\n",
              "      <td>0.371514</td>\n",
              "    </tr>\n",
              "  </tbody>\n",
              "</table>\n",
              "<p>5 rows × 23 columns</p>\n",
              "</div>\n",
              "      <button class=\"colab-df-convert\" onclick=\"convertToInteractive('df-25934159-8252-44fc-b138-0c69f9f32cea')\"\n",
              "              title=\"Convert this dataframe to an interactive table.\"\n",
              "              style=\"display:none;\">\n",
              "        \n",
              "  <svg xmlns=\"http://www.w3.org/2000/svg\" height=\"24px\"viewBox=\"0 0 24 24\"\n",
              "       width=\"24px\">\n",
              "    <path d=\"M0 0h24v24H0V0z\" fill=\"none\"/>\n",
              "    <path d=\"M18.56 5.44l.94 2.06.94-2.06 2.06-.94-2.06-.94-.94-2.06-.94 2.06-2.06.94zm-11 1L8.5 8.5l.94-2.06 2.06-.94-2.06-.94L8.5 2.5l-.94 2.06-2.06.94zm10 10l.94 2.06.94-2.06 2.06-.94-2.06-.94-.94-2.06-.94 2.06-2.06.94z\"/><path d=\"M17.41 7.96l-1.37-1.37c-.4-.4-.92-.59-1.43-.59-.52 0-1.04.2-1.43.59L10.3 9.45l-7.72 7.72c-.78.78-.78 2.05 0 2.83L4 21.41c.39.39.9.59 1.41.59.51 0 1.02-.2 1.41-.59l7.78-7.78 2.81-2.81c.8-.78.8-2.07 0-2.86zM5.41 20L4 18.59l7.72-7.72 1.47 1.35L5.41 20z\"/>\n",
              "  </svg>\n",
              "      </button>\n",
              "      \n",
              "  <style>\n",
              "    .colab-df-container {\n",
              "      display:flex;\n",
              "      flex-wrap:wrap;\n",
              "      gap: 12px;\n",
              "    }\n",
              "\n",
              "    .colab-df-convert {\n",
              "      background-color: #E8F0FE;\n",
              "      border: none;\n",
              "      border-radius: 50%;\n",
              "      cursor: pointer;\n",
              "      display: none;\n",
              "      fill: #1967D2;\n",
              "      height: 32px;\n",
              "      padding: 0 0 0 0;\n",
              "      width: 32px;\n",
              "    }\n",
              "\n",
              "    .colab-df-convert:hover {\n",
              "      background-color: #E2EBFA;\n",
              "      box-shadow: 0px 1px 2px rgba(60, 64, 67, 0.3), 0px 1px 3px 1px rgba(60, 64, 67, 0.15);\n",
              "      fill: #174EA6;\n",
              "    }\n",
              "\n",
              "    [theme=dark] .colab-df-convert {\n",
              "      background-color: #3B4455;\n",
              "      fill: #D2E3FC;\n",
              "    }\n",
              "\n",
              "    [theme=dark] .colab-df-convert:hover {\n",
              "      background-color: #434B5C;\n",
              "      box-shadow: 0px 1px 3px 1px rgba(0, 0, 0, 0.15);\n",
              "      filter: drop-shadow(0px 1px 2px rgba(0, 0, 0, 0.3));\n",
              "      fill: #FFFFFF;\n",
              "    }\n",
              "  </style>\n",
              "\n",
              "      <script>\n",
              "        const buttonEl =\n",
              "          document.querySelector('#df-25934159-8252-44fc-b138-0c69f9f32cea button.colab-df-convert');\n",
              "        buttonEl.style.display =\n",
              "          google.colab.kernel.accessAllowed ? 'block' : 'none';\n",
              "\n",
              "        async function convertToInteractive(key) {\n",
              "          const element = document.querySelector('#df-25934159-8252-44fc-b138-0c69f9f32cea');\n",
              "          const dataTable =\n",
              "            await google.colab.kernel.invokeFunction('convertToInteractive',\n",
              "                                                     [key], {});\n",
              "          if (!dataTable) return;\n",
              "\n",
              "          const docLinkHtml = 'Like what you see? Visit the ' +\n",
              "            '<a target=\"_blank\" href=https://colab.research.google.com/notebooks/data_table.ipynb>data table notebook</a>'\n",
              "            + ' to learn more about interactive tables.';\n",
              "          element.innerHTML = '';\n",
              "          dataTable['output_type'] = 'display_data';\n",
              "          await google.colab.output.renderOutput(dataTable, element);\n",
              "          const docLink = document.createElement('div');\n",
              "          docLink.innerHTML = docLinkHtml;\n",
              "          element.appendChild(docLink);\n",
              "        }\n",
              "      </script>\n",
              "    </div>\n",
              "  </div>\n",
              "  "
            ]
          },
          "metadata": {},
          "execution_count": 48
        }
      ]
    },
    {
      "cell_type": "code",
      "source": [
        "Result = scoring_data.loc[scoring_data['Probability'] > 0.4, 'ID']\n",
        "\n",
        "Result= Result.astype(int)"
      ],
      "metadata": {
        "id": "EDNq2BTg03OJ"
      },
      "id": "EDNq2BTg03OJ",
      "execution_count": null,
      "outputs": []
    },
    {
      "cell_type": "code",
      "source": [
        "len(Result)"
      ],
      "metadata": {
        "colab": {
          "base_uri": "https://localhost:8080/"
        },
        "id": "cHwe7S3y12WR",
        "outputId": "7a8a232b-a75f-446e-febe-d8603fdf344e"
      },
      "id": "cHwe7S3y12WR",
      "execution_count": null,
      "outputs": [
        {
          "output_type": "execute_result",
          "data": {
            "text/plain": [
              "752164"
            ]
          },
          "metadata": {},
          "execution_count": 68
        }
      ]
    },
    {
      "cell_type": "code",
      "source": [
        "print(Result)"
      ],
      "metadata": {
        "colab": {
          "base_uri": "https://localhost:8080/"
        },
        "id": "Gk5Rc_FH29Ff",
        "outputId": "c62c500e-2149-4b02-b1ea-c599b871fd68"
      },
      "id": "Gk5Rc_FH29Ff",
      "execution_count": null,
      "outputs": [
        {
          "output_type": "stream",
          "name": "stdout",
          "text": [
            "527000    2527001\n",
            "9566      2009567\n",
            "420890    2420891\n",
            "286775    2286776\n",
            "982303    2982304\n",
            "           ...   \n",
            "240226    2240227\n",
            "691173    2691174\n",
            "292451    2292452\n",
            "41679     2041680\n",
            "588352    2588353\n",
            "Name: ID, Length: 752164, dtype: int64\n"
          ]
        }
      ]
    },
    {
      "cell_type": "markdown",
      "id": "d86a874a",
      "metadata": {
        "id": "d86a874a"
      },
      "source": [
        "## Exporting Results to a CSV File"
      ]
    },
    {
      "cell_type": "code",
      "source": [
        "Result= scoring_data[['ID','Prediction']]\n",
        "Result[Result['Prediction'] > 75].info()"
      ],
      "metadata": {
        "colab": {
          "base_uri": "https://localhost:8080/"
        },
        "id": "anUEx5s-KZJ3",
        "outputId": "7db7641a-1c25-48ff-969b-22495b0ccdf7"
      },
      "id": "anUEx5s-KZJ3",
      "execution_count": null,
      "outputs": [
        {
          "output_type": "stream",
          "name": "stdout",
          "text": [
            "<class 'pandas.core.frame.DataFrame'>\n",
            "Int64Index: 156328 entries, 9566 to 58785\n",
            "Data columns (total 2 columns):\n",
            " #   Column      Non-Null Count   Dtype  \n",
            "---  ------      --------------   -----  \n",
            " 0   ID          156328 non-null  float64\n",
            " 1   Prediction  156328 non-null  float64\n",
            "dtypes: float64(2)\n",
            "memory usage: 3.6 MB\n"
          ]
        }
      ]
    },
    {
      "cell_type": "code",
      "execution_count": null,
      "id": "669e8465",
      "metadata": {
        "id": "669e8465"
      },
      "outputs": [],
      "source": [
        "Result= scoring_data['ID'].astype(int)"
      ]
    },
    {
      "cell_type": "code",
      "execution_count": null,
      "id": "21e1beed-b3ee-4c65-af88-fdaa5b5f0ce7",
      "metadata": {
        "id": "21e1beed-b3ee-4c65-af88-fdaa5b5f0ce7"
      },
      "outputs": [],
      "source": [
        "# Define your cutoff and choose a number of rows to submit to the leaderboard\n",
        "NB = 155000\n",
        "submission = Result.head(NB)\n",
        "submission.to_csv('Tree7DoubleOnlyDonors155.csv', index=False)"
      ]
    },
    {
      "cell_type": "markdown",
      "source": [
        "# Scoring Data With Contact"
      ],
      "metadata": {
        "id": "Uhx0R2vppFs-"
      },
      "id": "Uhx0R2vppFs-"
    },
    {
      "cell_type": "code",
      "source": [
        "data3 = sas_session.sasdata2dataframe(\n",
        "table='score',\n",
        "libref='cortex'\n",
        ")\n",
        "data4 = sas_session.sasdata2dataframe(\n",
        "table='score_rd2_contact',\n",
        "libref='cortex'\n",
        ")\n",
        "data5 = sas_session.sasdata2dataframe(\n",
        "table='score_rd2_nocontact',\n",
        "libref='cortex'\n",
        ")"
      ],
      "metadata": {
        "id": "l10ZE4p3pIDR"
      },
      "id": "l10ZE4p3pIDR",
      "execution_count": null,
      "outputs": []
    },
    {
      "cell_type": "markdown",
      "source": [
        "### Predict 'amount' | Prob for members who were contacted"
      ],
      "metadata": {
        "id": "GkIHIS0BpdHa"
      },
      "id": "GkIHIS0BpdHa"
    },
    {
      "cell_type": "code",
      "source": [
        "scoring_data_contact = pd.merge(data3, data4, on=[\"ID\"],how=\"right\")\n",
        "scoring_data_contact = preprocess(scoring_data_contact, train = False)\n",
        "X_amt = scoring_data_contact[predictors]\n",
        "X_prob = scoring_data_contact[predictors2] \n",
        "\n",
        "\n",
        "regr_predict_amt=regr.predict(X_amt)\n",
        "scoring_data_contact['Amt'] = regr_predict_amt\n",
        "\n",
        "regr_predict_prob=DT_model_prob.predict_proba(X_prob)[:,1]\n",
        "scoring_data_contact['ProbContact'] = regr_predict_prob\n",
        "scoring_data_contact= scoring_data_contact[['ID','Amt', 'ProbContact']]"
      ],
      "metadata": {
        "id": "Breg9lA_pXnG"
      },
      "id": "Breg9lA_pXnG",
      "execution_count": null,
      "outputs": []
    },
    {
      "cell_type": "code",
      "source": [
        "scoring_data_contact.sample(5)"
      ],
      "metadata": {
        "colab": {
          "base_uri": "https://localhost:8080/",
          "height": 206
        },
        "id": "P_k_o2C1uu9M",
        "outputId": "551f38cc-a833-4bbf-cee2-a23c06e07a92"
      },
      "id": "P_k_o2C1uu9M",
      "execution_count": null,
      "outputs": [
        {
          "output_type": "execute_result",
          "data": {
            "text/plain": [
              "               ID         Amt  ProbContact\n",
              "481499  2481500.0   48.206071     0.751117\n",
              "7770    2007771.0   52.312829     0.537045\n",
              "117414  2117415.0   47.963204     0.878486\n",
              "535241  2535242.0  126.071248     0.903185\n",
              "833511  2833512.0   44.358454     0.750069"
            ],
            "text/html": [
              "\n",
              "  <div id=\"df-d41a7b04-a6d7-4098-9681-85b16327e55c\">\n",
              "    <div class=\"colab-df-container\">\n",
              "      <div>\n",
              "<style scoped>\n",
              "    .dataframe tbody tr th:only-of-type {\n",
              "        vertical-align: middle;\n",
              "    }\n",
              "\n",
              "    .dataframe tbody tr th {\n",
              "        vertical-align: top;\n",
              "    }\n",
              "\n",
              "    .dataframe thead th {\n",
              "        text-align: right;\n",
              "    }\n",
              "</style>\n",
              "<table border=\"1\" class=\"dataframe\">\n",
              "  <thead>\n",
              "    <tr style=\"text-align: right;\">\n",
              "      <th></th>\n",
              "      <th>ID</th>\n",
              "      <th>Amt</th>\n",
              "      <th>ProbContact</th>\n",
              "    </tr>\n",
              "  </thead>\n",
              "  <tbody>\n",
              "    <tr>\n",
              "      <th>481499</th>\n",
              "      <td>2481500.0</td>\n",
              "      <td>48.206071</td>\n",
              "      <td>0.751117</td>\n",
              "    </tr>\n",
              "    <tr>\n",
              "      <th>7770</th>\n",
              "      <td>2007771.0</td>\n",
              "      <td>52.312829</td>\n",
              "      <td>0.537045</td>\n",
              "    </tr>\n",
              "    <tr>\n",
              "      <th>117414</th>\n",
              "      <td>2117415.0</td>\n",
              "      <td>47.963204</td>\n",
              "      <td>0.878486</td>\n",
              "    </tr>\n",
              "    <tr>\n",
              "      <th>535241</th>\n",
              "      <td>2535242.0</td>\n",
              "      <td>126.071248</td>\n",
              "      <td>0.903185</td>\n",
              "    </tr>\n",
              "    <tr>\n",
              "      <th>833511</th>\n",
              "      <td>2833512.0</td>\n",
              "      <td>44.358454</td>\n",
              "      <td>0.750069</td>\n",
              "    </tr>\n",
              "  </tbody>\n",
              "</table>\n",
              "</div>\n",
              "      <button class=\"colab-df-convert\" onclick=\"convertToInteractive('df-d41a7b04-a6d7-4098-9681-85b16327e55c')\"\n",
              "              title=\"Convert this dataframe to an interactive table.\"\n",
              "              style=\"display:none;\">\n",
              "        \n",
              "  <svg xmlns=\"http://www.w3.org/2000/svg\" height=\"24px\"viewBox=\"0 0 24 24\"\n",
              "       width=\"24px\">\n",
              "    <path d=\"M0 0h24v24H0V0z\" fill=\"none\"/>\n",
              "    <path d=\"M18.56 5.44l.94 2.06.94-2.06 2.06-.94-2.06-.94-.94-2.06-.94 2.06-2.06.94zm-11 1L8.5 8.5l.94-2.06 2.06-.94-2.06-.94L8.5 2.5l-.94 2.06-2.06.94zm10 10l.94 2.06.94-2.06 2.06-.94-2.06-.94-.94-2.06-.94 2.06-2.06.94z\"/><path d=\"M17.41 7.96l-1.37-1.37c-.4-.4-.92-.59-1.43-.59-.52 0-1.04.2-1.43.59L10.3 9.45l-7.72 7.72c-.78.78-.78 2.05 0 2.83L4 21.41c.39.39.9.59 1.41.59.51 0 1.02-.2 1.41-.59l7.78-7.78 2.81-2.81c.8-.78.8-2.07 0-2.86zM5.41 20L4 18.59l7.72-7.72 1.47 1.35L5.41 20z\"/>\n",
              "  </svg>\n",
              "      </button>\n",
              "      \n",
              "  <style>\n",
              "    .colab-df-container {\n",
              "      display:flex;\n",
              "      flex-wrap:wrap;\n",
              "      gap: 12px;\n",
              "    }\n",
              "\n",
              "    .colab-df-convert {\n",
              "      background-color: #E8F0FE;\n",
              "      border: none;\n",
              "      border-radius: 50%;\n",
              "      cursor: pointer;\n",
              "      display: none;\n",
              "      fill: #1967D2;\n",
              "      height: 32px;\n",
              "      padding: 0 0 0 0;\n",
              "      width: 32px;\n",
              "    }\n",
              "\n",
              "    .colab-df-convert:hover {\n",
              "      background-color: #E2EBFA;\n",
              "      box-shadow: 0px 1px 2px rgba(60, 64, 67, 0.3), 0px 1px 3px 1px rgba(60, 64, 67, 0.15);\n",
              "      fill: #174EA6;\n",
              "    }\n",
              "\n",
              "    [theme=dark] .colab-df-convert {\n",
              "      background-color: #3B4455;\n",
              "      fill: #D2E3FC;\n",
              "    }\n",
              "\n",
              "    [theme=dark] .colab-df-convert:hover {\n",
              "      background-color: #434B5C;\n",
              "      box-shadow: 0px 1px 3px 1px rgba(0, 0, 0, 0.15);\n",
              "      filter: drop-shadow(0px 1px 2px rgba(0, 0, 0, 0.3));\n",
              "      fill: #FFFFFF;\n",
              "    }\n",
              "  </style>\n",
              "\n",
              "      <script>\n",
              "        const buttonEl =\n",
              "          document.querySelector('#df-d41a7b04-a6d7-4098-9681-85b16327e55c button.colab-df-convert');\n",
              "        buttonEl.style.display =\n",
              "          google.colab.kernel.accessAllowed ? 'block' : 'none';\n",
              "\n",
              "        async function convertToInteractive(key) {\n",
              "          const element = document.querySelector('#df-d41a7b04-a6d7-4098-9681-85b16327e55c');\n",
              "          const dataTable =\n",
              "            await google.colab.kernel.invokeFunction('convertToInteractive',\n",
              "                                                     [key], {});\n",
              "          if (!dataTable) return;\n",
              "\n",
              "          const docLinkHtml = 'Like what you see? Visit the ' +\n",
              "            '<a target=\"_blank\" href=https://colab.research.google.com/notebooks/data_table.ipynb>data table notebook</a>'\n",
              "            + ' to learn more about interactive tables.';\n",
              "          element.innerHTML = '';\n",
              "          dataTable['output_type'] = 'display_data';\n",
              "          await google.colab.output.renderOutput(dataTable, element);\n",
              "          const docLink = document.createElement('div');\n",
              "          docLink.innerHTML = docLinkHtml;\n",
              "          element.appendChild(docLink);\n",
              "        }\n",
              "      </script>\n",
              "    </div>\n",
              "  </div>\n",
              "  "
            ]
          },
          "metadata": {},
          "execution_count": 76
        }
      ]
    },
    {
      "cell_type": "markdown",
      "source": [
        "### Predict 'prob given' for members who were not contacted"
      ],
      "metadata": {
        "id": "MVDjSj7EphO5"
      },
      "id": "MVDjSj7EphO5"
    },
    {
      "cell_type": "code",
      "source": [
        "scoring_data_nocontact = pd.merge(data3, data5, on=[\"ID\"],how=\"right\")\n",
        "scoring_data_nocontact = preprocess(scoring_data_nocontact, train = False)\n",
        "\n",
        "X_prob = scoring_data_nocontact[predictors2] \n",
        "\n",
        "regr_predict_nocontact=DT_model_prob.predict_proba(X_prob)[:,1]\n",
        "\n",
        "scoring_data_nocontact['ProbNoContact'] = regr_predict_nocontact\n",
        "\n",
        "scoring_data_nocontact= scoring_data_nocontact[['ID','ProbNoContact']]"
      ],
      "metadata": {
        "id": "xjzk_4k-phqT"
      },
      "id": "xjzk_4k-phqT",
      "execution_count": null,
      "outputs": []
    },
    {
      "cell_type": "code",
      "source": [
        "scoring_data_nocontact.sample(5)"
      ],
      "metadata": {
        "colab": {
          "base_uri": "https://localhost:8080/",
          "height": 206
        },
        "id": "V_pGj1sTvGQC",
        "outputId": "9b4d7e18-0960-40fa-f2ba-41aa334bac8c"
      },
      "id": "V_pGj1sTvGQC",
      "execution_count": null,
      "outputs": [
        {
          "output_type": "execute_result",
          "data": {
            "text/plain": [
              "               ID  ProbNoContact\n",
              "268319  2268320.0       0.319715\n",
              "541220  2541221.0       0.550744\n",
              "284169  2284170.0       0.319715\n",
              "604112  2604113.0       0.550744\n",
              "781009  2781010.0       0.319715"
            ],
            "text/html": [
              "\n",
              "  <div id=\"df-f0742a29-3197-423e-b3de-c2cdbd0412bb\">\n",
              "    <div class=\"colab-df-container\">\n",
              "      <div>\n",
              "<style scoped>\n",
              "    .dataframe tbody tr th:only-of-type {\n",
              "        vertical-align: middle;\n",
              "    }\n",
              "\n",
              "    .dataframe tbody tr th {\n",
              "        vertical-align: top;\n",
              "    }\n",
              "\n",
              "    .dataframe thead th {\n",
              "        text-align: right;\n",
              "    }\n",
              "</style>\n",
              "<table border=\"1\" class=\"dataframe\">\n",
              "  <thead>\n",
              "    <tr style=\"text-align: right;\">\n",
              "      <th></th>\n",
              "      <th>ID</th>\n",
              "      <th>ProbNoContact</th>\n",
              "    </tr>\n",
              "  </thead>\n",
              "  <tbody>\n",
              "    <tr>\n",
              "      <th>268319</th>\n",
              "      <td>2268320.0</td>\n",
              "      <td>0.319715</td>\n",
              "    </tr>\n",
              "    <tr>\n",
              "      <th>541220</th>\n",
              "      <td>2541221.0</td>\n",
              "      <td>0.550744</td>\n",
              "    </tr>\n",
              "    <tr>\n",
              "      <th>284169</th>\n",
              "      <td>2284170.0</td>\n",
              "      <td>0.319715</td>\n",
              "    </tr>\n",
              "    <tr>\n",
              "      <th>604112</th>\n",
              "      <td>2604113.0</td>\n",
              "      <td>0.550744</td>\n",
              "    </tr>\n",
              "    <tr>\n",
              "      <th>781009</th>\n",
              "      <td>2781010.0</td>\n",
              "      <td>0.319715</td>\n",
              "    </tr>\n",
              "  </tbody>\n",
              "</table>\n",
              "</div>\n",
              "      <button class=\"colab-df-convert\" onclick=\"convertToInteractive('df-f0742a29-3197-423e-b3de-c2cdbd0412bb')\"\n",
              "              title=\"Convert this dataframe to an interactive table.\"\n",
              "              style=\"display:none;\">\n",
              "        \n",
              "  <svg xmlns=\"http://www.w3.org/2000/svg\" height=\"24px\"viewBox=\"0 0 24 24\"\n",
              "       width=\"24px\">\n",
              "    <path d=\"M0 0h24v24H0V0z\" fill=\"none\"/>\n",
              "    <path d=\"M18.56 5.44l.94 2.06.94-2.06 2.06-.94-2.06-.94-.94-2.06-.94 2.06-2.06.94zm-11 1L8.5 8.5l.94-2.06 2.06-.94-2.06-.94L8.5 2.5l-.94 2.06-2.06.94zm10 10l.94 2.06.94-2.06 2.06-.94-2.06-.94-.94-2.06-.94 2.06-2.06.94z\"/><path d=\"M17.41 7.96l-1.37-1.37c-.4-.4-.92-.59-1.43-.59-.52 0-1.04.2-1.43.59L10.3 9.45l-7.72 7.72c-.78.78-.78 2.05 0 2.83L4 21.41c.39.39.9.59 1.41.59.51 0 1.02-.2 1.41-.59l7.78-7.78 2.81-2.81c.8-.78.8-2.07 0-2.86zM5.41 20L4 18.59l7.72-7.72 1.47 1.35L5.41 20z\"/>\n",
              "  </svg>\n",
              "      </button>\n",
              "      \n",
              "  <style>\n",
              "    .colab-df-container {\n",
              "      display:flex;\n",
              "      flex-wrap:wrap;\n",
              "      gap: 12px;\n",
              "    }\n",
              "\n",
              "    .colab-df-convert {\n",
              "      background-color: #E8F0FE;\n",
              "      border: none;\n",
              "      border-radius: 50%;\n",
              "      cursor: pointer;\n",
              "      display: none;\n",
              "      fill: #1967D2;\n",
              "      height: 32px;\n",
              "      padding: 0 0 0 0;\n",
              "      width: 32px;\n",
              "    }\n",
              "\n",
              "    .colab-df-convert:hover {\n",
              "      background-color: #E2EBFA;\n",
              "      box-shadow: 0px 1px 2px rgba(60, 64, 67, 0.3), 0px 1px 3px 1px rgba(60, 64, 67, 0.15);\n",
              "      fill: #174EA6;\n",
              "    }\n",
              "\n",
              "    [theme=dark] .colab-df-convert {\n",
              "      background-color: #3B4455;\n",
              "      fill: #D2E3FC;\n",
              "    }\n",
              "\n",
              "    [theme=dark] .colab-df-convert:hover {\n",
              "      background-color: #434B5C;\n",
              "      box-shadow: 0px 1px 3px 1px rgba(0, 0, 0, 0.15);\n",
              "      filter: drop-shadow(0px 1px 2px rgba(0, 0, 0, 0.3));\n",
              "      fill: #FFFFFF;\n",
              "    }\n",
              "  </style>\n",
              "\n",
              "      <script>\n",
              "        const buttonEl =\n",
              "          document.querySelector('#df-f0742a29-3197-423e-b3de-c2cdbd0412bb button.colab-df-convert');\n",
              "        buttonEl.style.display =\n",
              "          google.colab.kernel.accessAllowed ? 'block' : 'none';\n",
              "\n",
              "        async function convertToInteractive(key) {\n",
              "          const element = document.querySelector('#df-f0742a29-3197-423e-b3de-c2cdbd0412bb');\n",
              "          const dataTable =\n",
              "            await google.colab.kernel.invokeFunction('convertToInteractive',\n",
              "                                                     [key], {});\n",
              "          if (!dataTable) return;\n",
              "\n",
              "          const docLinkHtml = 'Like what you see? Visit the ' +\n",
              "            '<a target=\"_blank\" href=https://colab.research.google.com/notebooks/data_table.ipynb>data table notebook</a>'\n",
              "            + ' to learn more about interactive tables.';\n",
              "          element.innerHTML = '';\n",
              "          dataTable['output_type'] = 'display_data';\n",
              "          await google.colab.output.renderOutput(dataTable, element);\n",
              "          const docLink = document.createElement('div');\n",
              "          docLink.innerHTML = docLinkHtml;\n",
              "          element.appendChild(docLink);\n",
              "        }\n",
              "      </script>\n",
              "    </div>\n",
              "  </div>\n",
              "  "
            ]
          },
          "metadata": {},
          "execution_count": 78
        }
      ]
    },
    {
      "cell_type": "code",
      "source": [
        "result_Amt = pd.merge(scoring_data_contact, scoring_data_nocontact, on=[\"ID\"],how=\"right\")\n",
        "result_Amt.head(3)"
      ],
      "metadata": {
        "colab": {
          "base_uri": "https://localhost:8080/",
          "height": 143
        },
        "id": "9YoeSkSzpnY4",
        "outputId": "49d9dac0-f87d-4047-d6af-a167602bf163"
      },
      "id": "9YoeSkSzpnY4",
      "execution_count": null,
      "outputs": [
        {
          "output_type": "execute_result",
          "data": {
            "text/plain": [
              "          ID        Amt  ProbContact  ProbNoContact\n",
              "0  2000001.0  72.852538     0.751117       0.550744\n",
              "1  2000002.0  41.843750     0.903185       0.492087\n",
              "2  2000003.0  94.275650     0.903185       0.319715"
            ],
            "text/html": [
              "\n",
              "  <div id=\"df-a1e7c898-0a57-4533-a084-011ec4178ab8\">\n",
              "    <div class=\"colab-df-container\">\n",
              "      <div>\n",
              "<style scoped>\n",
              "    .dataframe tbody tr th:only-of-type {\n",
              "        vertical-align: middle;\n",
              "    }\n",
              "\n",
              "    .dataframe tbody tr th {\n",
              "        vertical-align: top;\n",
              "    }\n",
              "\n",
              "    .dataframe thead th {\n",
              "        text-align: right;\n",
              "    }\n",
              "</style>\n",
              "<table border=\"1\" class=\"dataframe\">\n",
              "  <thead>\n",
              "    <tr style=\"text-align: right;\">\n",
              "      <th></th>\n",
              "      <th>ID</th>\n",
              "      <th>Amt</th>\n",
              "      <th>ProbContact</th>\n",
              "      <th>ProbNoContact</th>\n",
              "    </tr>\n",
              "  </thead>\n",
              "  <tbody>\n",
              "    <tr>\n",
              "      <th>0</th>\n",
              "      <td>2000001.0</td>\n",
              "      <td>72.852538</td>\n",
              "      <td>0.751117</td>\n",
              "      <td>0.550744</td>\n",
              "    </tr>\n",
              "    <tr>\n",
              "      <th>1</th>\n",
              "      <td>2000002.0</td>\n",
              "      <td>41.843750</td>\n",
              "      <td>0.903185</td>\n",
              "      <td>0.492087</td>\n",
              "    </tr>\n",
              "    <tr>\n",
              "      <th>2</th>\n",
              "      <td>2000003.0</td>\n",
              "      <td>94.275650</td>\n",
              "      <td>0.903185</td>\n",
              "      <td>0.319715</td>\n",
              "    </tr>\n",
              "  </tbody>\n",
              "</table>\n",
              "</div>\n",
              "      <button class=\"colab-df-convert\" onclick=\"convertToInteractive('df-a1e7c898-0a57-4533-a084-011ec4178ab8')\"\n",
              "              title=\"Convert this dataframe to an interactive table.\"\n",
              "              style=\"display:none;\">\n",
              "        \n",
              "  <svg xmlns=\"http://www.w3.org/2000/svg\" height=\"24px\"viewBox=\"0 0 24 24\"\n",
              "       width=\"24px\">\n",
              "    <path d=\"M0 0h24v24H0V0z\" fill=\"none\"/>\n",
              "    <path d=\"M18.56 5.44l.94 2.06.94-2.06 2.06-.94-2.06-.94-.94-2.06-.94 2.06-2.06.94zm-11 1L8.5 8.5l.94-2.06 2.06-.94-2.06-.94L8.5 2.5l-.94 2.06-2.06.94zm10 10l.94 2.06.94-2.06 2.06-.94-2.06-.94-.94-2.06-.94 2.06-2.06.94z\"/><path d=\"M17.41 7.96l-1.37-1.37c-.4-.4-.92-.59-1.43-.59-.52 0-1.04.2-1.43.59L10.3 9.45l-7.72 7.72c-.78.78-.78 2.05 0 2.83L4 21.41c.39.39.9.59 1.41.59.51 0 1.02-.2 1.41-.59l7.78-7.78 2.81-2.81c.8-.78.8-2.07 0-2.86zM5.41 20L4 18.59l7.72-7.72 1.47 1.35L5.41 20z\"/>\n",
              "  </svg>\n",
              "      </button>\n",
              "      \n",
              "  <style>\n",
              "    .colab-df-container {\n",
              "      display:flex;\n",
              "      flex-wrap:wrap;\n",
              "      gap: 12px;\n",
              "    }\n",
              "\n",
              "    .colab-df-convert {\n",
              "      background-color: #E8F0FE;\n",
              "      border: none;\n",
              "      border-radius: 50%;\n",
              "      cursor: pointer;\n",
              "      display: none;\n",
              "      fill: #1967D2;\n",
              "      height: 32px;\n",
              "      padding: 0 0 0 0;\n",
              "      width: 32px;\n",
              "    }\n",
              "\n",
              "    .colab-df-convert:hover {\n",
              "      background-color: #E2EBFA;\n",
              "      box-shadow: 0px 1px 2px rgba(60, 64, 67, 0.3), 0px 1px 3px 1px rgba(60, 64, 67, 0.15);\n",
              "      fill: #174EA6;\n",
              "    }\n",
              "\n",
              "    [theme=dark] .colab-df-convert {\n",
              "      background-color: #3B4455;\n",
              "      fill: #D2E3FC;\n",
              "    }\n",
              "\n",
              "    [theme=dark] .colab-df-convert:hover {\n",
              "      background-color: #434B5C;\n",
              "      box-shadow: 0px 1px 3px 1px rgba(0, 0, 0, 0.15);\n",
              "      filter: drop-shadow(0px 1px 2px rgba(0, 0, 0, 0.3));\n",
              "      fill: #FFFFFF;\n",
              "    }\n",
              "  </style>\n",
              "\n",
              "      <script>\n",
              "        const buttonEl =\n",
              "          document.querySelector('#df-a1e7c898-0a57-4533-a084-011ec4178ab8 button.colab-df-convert');\n",
              "        buttonEl.style.display =\n",
              "          google.colab.kernel.accessAllowed ? 'block' : 'none';\n",
              "\n",
              "        async function convertToInteractive(key) {\n",
              "          const element = document.querySelector('#df-a1e7c898-0a57-4533-a084-011ec4178ab8');\n",
              "          const dataTable =\n",
              "            await google.colab.kernel.invokeFunction('convertToInteractive',\n",
              "                                                     [key], {});\n",
              "          if (!dataTable) return;\n",
              "\n",
              "          const docLinkHtml = 'Like what you see? Visit the ' +\n",
              "            '<a target=\"_blank\" href=https://colab.research.google.com/notebooks/data_table.ipynb>data table notebook</a>'\n",
              "            + ' to learn more about interactive tables.';\n",
              "          element.innerHTML = '';\n",
              "          dataTable['output_type'] = 'display_data';\n",
              "          await google.colab.output.renderOutput(dataTable, element);\n",
              "          const docLink = document.createElement('div');\n",
              "          docLink.innerHTML = docLinkHtml;\n",
              "          element.appendChild(docLink);\n",
              "        }\n",
              "      </script>\n",
              "    </div>\n",
              "  </div>\n",
              "  "
            ]
          },
          "metadata": {},
          "execution_count": 79
        }
      ]
    },
    {
      "cell_type": "code",
      "source": [
        "# def Calc_Uplift(raw_data):\n",
        "#     return ((raw_data['Amt']*raw_data['ProbContact']*1.25) - (raw_data['Amt']*raw_data['ProbNoContact']))\n",
        "\n",
        "# result_Amt[\"Uplift\"] = result_Amt.apply(lambda row: Calc_Uplift(row), axis=1)\n",
        "\n",
        "# # Sorting data by descending Uplift value\n",
        "# result_Amt.sort_values(by=['ProbContact', 'Uplift'], ascending=False, inplace=True)"
      ],
      "metadata": {
        "id": "xcCPKs4us1QS"
      },
      "id": "xcCPKs4us1QS",
      "execution_count": null,
      "outputs": []
    },
    {
      "cell_type": "code",
      "source": [
        "# result_Amt[result_Amt['Uplift'] > 50].info()"
      ],
      "metadata": {
        "colab": {
          "base_uri": "https://localhost:8080/"
        },
        "id": "JpCncSFcwJfT",
        "outputId": "9aee06f3-c03d-47ee-d208-6cc70c3df942"
      },
      "id": "JpCncSFcwJfT",
      "execution_count": null,
      "outputs": [
        {
          "output_type": "stream",
          "name": "stdout",
          "text": [
            "<class 'pandas.core.frame.DataFrame'>\n",
            "Int64Index: 142464 entries, 755699 to 127186\n",
            "Data columns (total 5 columns):\n",
            " #   Column         Non-Null Count   Dtype  \n",
            "---  ------         --------------   -----  \n",
            " 0   ID             142464 non-null  float64\n",
            " 1   Amt            142464 non-null  float64\n",
            " 2   ProbContact    142464 non-null  float64\n",
            " 3   ProbNoContact  142464 non-null  float64\n",
            " 4   Uplift         142464 non-null  float64\n",
            "dtypes: float64(5)\n",
            "memory usage: 6.5 MB\n"
          ]
        }
      ]
    },
    {
      "cell_type": "code",
      "source": [
        "result_Amt[result_Amt['ProbContact'] > 0.90].info()"
      ],
      "metadata": {
        "colab": {
          "base_uri": "https://localhost:8080/"
        },
        "id": "GnYx5c3I3rbN",
        "outputId": "3d8d6558-d85d-4ba9-89f9-e8a365e8f2bd"
      },
      "id": "GnYx5c3I3rbN",
      "execution_count": null,
      "outputs": [
        {
          "output_type": "stream",
          "name": "stdout",
          "text": [
            "<class 'pandas.core.frame.DataFrame'>\n",
            "Int64Index: 202841 entries, 755699 to 292451\n",
            "Data columns (total 5 columns):\n",
            " #   Column         Non-Null Count   Dtype  \n",
            "---  ------         --------------   -----  \n",
            " 0   ID             202841 non-null  float64\n",
            " 1   Amt            202841 non-null  float64\n",
            " 2   ProbContact    202841 non-null  float64\n",
            " 3   ProbNoContact  202841 non-null  float64\n",
            " 4   Uplift         202841 non-null  float64\n",
            "dtypes: float64(5)\n",
            "memory usage: 9.3 MB\n"
          ]
        }
      ]
    },
    {
      "cell_type": "code",
      "source": [
        "result_Amt.sample(3)"
      ],
      "metadata": {
        "colab": {
          "base_uri": "https://localhost:8080/",
          "height": 143
        },
        "id": "Hdx_elUL6V2q",
        "outputId": "3f1aaa0e-6d64-45e6-f891-24be1a3d1120"
      },
      "id": "Hdx_elUL6V2q",
      "execution_count": null,
      "outputs": [
        {
          "output_type": "execute_result",
          "data": {
            "text/plain": [
              "               ID        Amt  ProbContact  ProbNoContact     Uplift\n",
              "2685    2002686.0  35.425798     0.751117       0.319715  21.935006\n",
              "163392  2163393.0  41.997483     0.875000       0.550744  22.804902\n",
              "150273  2150274.0  48.206071     0.878486       0.550744  26.386266"
            ],
            "text/html": [
              "\n",
              "  <div id=\"df-4f767f2b-2c30-42bd-954d-726501d2fbb5\">\n",
              "    <div class=\"colab-df-container\">\n",
              "      <div>\n",
              "<style scoped>\n",
              "    .dataframe tbody tr th:only-of-type {\n",
              "        vertical-align: middle;\n",
              "    }\n",
              "\n",
              "    .dataframe tbody tr th {\n",
              "        vertical-align: top;\n",
              "    }\n",
              "\n",
              "    .dataframe thead th {\n",
              "        text-align: right;\n",
              "    }\n",
              "</style>\n",
              "<table border=\"1\" class=\"dataframe\">\n",
              "  <thead>\n",
              "    <tr style=\"text-align: right;\">\n",
              "      <th></th>\n",
              "      <th>ID</th>\n",
              "      <th>Amt</th>\n",
              "      <th>ProbContact</th>\n",
              "      <th>ProbNoContact</th>\n",
              "      <th>Uplift</th>\n",
              "    </tr>\n",
              "  </thead>\n",
              "  <tbody>\n",
              "    <tr>\n",
              "      <th>2685</th>\n",
              "      <td>2002686.0</td>\n",
              "      <td>35.425798</td>\n",
              "      <td>0.751117</td>\n",
              "      <td>0.319715</td>\n",
              "      <td>21.935006</td>\n",
              "    </tr>\n",
              "    <tr>\n",
              "      <th>163392</th>\n",
              "      <td>2163393.0</td>\n",
              "      <td>41.997483</td>\n",
              "      <td>0.875000</td>\n",
              "      <td>0.550744</td>\n",
              "      <td>22.804902</td>\n",
              "    </tr>\n",
              "    <tr>\n",
              "      <th>150273</th>\n",
              "      <td>2150274.0</td>\n",
              "      <td>48.206071</td>\n",
              "      <td>0.878486</td>\n",
              "      <td>0.550744</td>\n",
              "      <td>26.386266</td>\n",
              "    </tr>\n",
              "  </tbody>\n",
              "</table>\n",
              "</div>\n",
              "      <button class=\"colab-df-convert\" onclick=\"convertToInteractive('df-4f767f2b-2c30-42bd-954d-726501d2fbb5')\"\n",
              "              title=\"Convert this dataframe to an interactive table.\"\n",
              "              style=\"display:none;\">\n",
              "        \n",
              "  <svg xmlns=\"http://www.w3.org/2000/svg\" height=\"24px\"viewBox=\"0 0 24 24\"\n",
              "       width=\"24px\">\n",
              "    <path d=\"M0 0h24v24H0V0z\" fill=\"none\"/>\n",
              "    <path d=\"M18.56 5.44l.94 2.06.94-2.06 2.06-.94-2.06-.94-.94-2.06-.94 2.06-2.06.94zm-11 1L8.5 8.5l.94-2.06 2.06-.94-2.06-.94L8.5 2.5l-.94 2.06-2.06.94zm10 10l.94 2.06.94-2.06 2.06-.94-2.06-.94-.94-2.06-.94 2.06-2.06.94z\"/><path d=\"M17.41 7.96l-1.37-1.37c-.4-.4-.92-.59-1.43-.59-.52 0-1.04.2-1.43.59L10.3 9.45l-7.72 7.72c-.78.78-.78 2.05 0 2.83L4 21.41c.39.39.9.59 1.41.59.51 0 1.02-.2 1.41-.59l7.78-7.78 2.81-2.81c.8-.78.8-2.07 0-2.86zM5.41 20L4 18.59l7.72-7.72 1.47 1.35L5.41 20z\"/>\n",
              "  </svg>\n",
              "      </button>\n",
              "      \n",
              "  <style>\n",
              "    .colab-df-container {\n",
              "      display:flex;\n",
              "      flex-wrap:wrap;\n",
              "      gap: 12px;\n",
              "    }\n",
              "\n",
              "    .colab-df-convert {\n",
              "      background-color: #E8F0FE;\n",
              "      border: none;\n",
              "      border-radius: 50%;\n",
              "      cursor: pointer;\n",
              "      display: none;\n",
              "      fill: #1967D2;\n",
              "      height: 32px;\n",
              "      padding: 0 0 0 0;\n",
              "      width: 32px;\n",
              "    }\n",
              "\n",
              "    .colab-df-convert:hover {\n",
              "      background-color: #E2EBFA;\n",
              "      box-shadow: 0px 1px 2px rgba(60, 64, 67, 0.3), 0px 1px 3px 1px rgba(60, 64, 67, 0.15);\n",
              "      fill: #174EA6;\n",
              "    }\n",
              "\n",
              "    [theme=dark] .colab-df-convert {\n",
              "      background-color: #3B4455;\n",
              "      fill: #D2E3FC;\n",
              "    }\n",
              "\n",
              "    [theme=dark] .colab-df-convert:hover {\n",
              "      background-color: #434B5C;\n",
              "      box-shadow: 0px 1px 3px 1px rgba(0, 0, 0, 0.15);\n",
              "      filter: drop-shadow(0px 1px 2px rgba(0, 0, 0, 0.3));\n",
              "      fill: #FFFFFF;\n",
              "    }\n",
              "  </style>\n",
              "\n",
              "      <script>\n",
              "        const buttonEl =\n",
              "          document.querySelector('#df-4f767f2b-2c30-42bd-954d-726501d2fbb5 button.colab-df-convert');\n",
              "        buttonEl.style.display =\n",
              "          google.colab.kernel.accessAllowed ? 'block' : 'none';\n",
              "\n",
              "        async function convertToInteractive(key) {\n",
              "          const element = document.querySelector('#df-4f767f2b-2c30-42bd-954d-726501d2fbb5');\n",
              "          const dataTable =\n",
              "            await google.colab.kernel.invokeFunction('convertToInteractive',\n",
              "                                                     [key], {});\n",
              "          if (!dataTable) return;\n",
              "\n",
              "          const docLinkHtml = 'Like what you see? Visit the ' +\n",
              "            '<a target=\"_blank\" href=https://colab.research.google.com/notebooks/data_table.ipynb>data table notebook</a>'\n",
              "            + ' to learn more about interactive tables.';\n",
              "          element.innerHTML = '';\n",
              "          dataTable['output_type'] = 'display_data';\n",
              "          await google.colab.output.renderOutput(dataTable, element);\n",
              "          const docLink = document.createElement('div');\n",
              "          docLink.innerHTML = docLinkHtml;\n",
              "          element.appendChild(docLink);\n",
              "        }\n",
              "      </script>\n",
              "    </div>\n",
              "  </div>\n",
              "  "
            ]
          },
          "metadata": {},
          "execution_count": 156
        }
      ]
    },
    {
      "cell_type": "code",
      "source": [
        "# Result = result_Amt[(result_Amt['Uplift'] > 50) | ((result_Amt['Amt'] > 100) & (result_Amt['ProbContact'] > 0.85))]\n",
        "# Result= Result['ID'].astype(int)"
      ],
      "metadata": {
        "id": "tR3q_yT28fla"
      },
      "id": "tR3q_yT28fla",
      "execution_count": null,
      "outputs": []
    },
    {
      "cell_type": "code",
      "source": [
        "len(Result)"
      ],
      "metadata": {
        "colab": {
          "base_uri": "https://localhost:8080/"
        },
        "id": "Kt4Ygc-D4wMM",
        "outputId": "06e45c2d-9eb0-499a-e037-fdb9f6494ff2"
      },
      "id": "Kt4Ygc-D4wMM",
      "execution_count": null,
      "outputs": [
        {
          "output_type": "execute_result",
          "data": {
            "text/plain": [
              "143806"
            ]
          },
          "metadata": {},
          "execution_count": 148
        }
      ]
    },
    {
      "cell_type": "code",
      "source": [
        "result_Amt.sort_values(by=['ProbContact', 'Amt'], ascending=False, inplace=True)\n",
        "Result= result_Amt['ID'].astype(int)"
      ],
      "metadata": {
        "id": "V6dxF3PPpxRZ"
      },
      "id": "V6dxF3PPpxRZ",
      "execution_count": null,
      "outputs": []
    },
    {
      "cell_type": "code",
      "source": [
        "NB = 160000\n",
        "submission = Result.head(NB)\n",
        "submission.to_csv('Tree7OnlyDonorsTree4ProbContAmt160.csv', index=False)"
      ],
      "metadata": {
        "id": "jZ0DIyTHpztf"
      },
      "id": "jZ0DIyTHpztf",
      "execution_count": null,
      "outputs": []
    }
  ],
  "metadata": {
    "kernelspec": {
      "display_name": "Python 3",
      "language": "python",
      "name": "python3"
    },
    "language_info": {
      "codemirror_mode": {
        "name": "ipython",
        "version": 3
      },
      "file_extension": ".py",
      "mimetype": "text/x-python",
      "name": "python",
      "nbconvert_exporter": "python",
      "pygments_lexer": "ipython3",
      "version": "3.8.8"
    },
    "colab": {
      "provenance": [],
      "collapsed_sections": [
        "44509e0a",
        "a776622a-bd69-46fe-a704-f84e750baae9",
        "QsHgUkTtmCbJ",
        "H-YaNyX5mmSI",
        "12c58819",
        "20aed00e"
      ]
    }
  },
  "nbformat": 4,
  "nbformat_minor": 5
}